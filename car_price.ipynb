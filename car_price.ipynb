{
 "cells": [
  {
   "cell_type": "code",
   "metadata": {
    "tags": [],
    "cell_id": "1134a737-650f-4f47-bfe4-b7d0ce8cf4a1",
    "deepnote_to_be_reexecuted": false,
    "source_hash": "b7dcc9c8",
    "execution_start": 1657012673144,
    "execution_millis": 1,
    "deepnote_cell_type": "code",
    "deepnote_cell_height": 99
   },
   "source": "import numpy as np\nimport pandas as pd",
   "execution_count": 1,
   "outputs": []
  },
  {
   "cell_type": "code",
   "metadata": {
    "cell_id": "eb8554bfad8e46f5903034360c3a7b55",
    "tags": [],
    "deepnote_to_be_reexecuted": false,
    "source_hash": "debb43ef",
    "execution_start": 1657012673145,
    "execution_millis": 690,
    "deepnote_cell_type": "code",
    "deepnote_cell_height": 336.0625
   },
   "source": "data = 'https://raw.githubusercontent.com/ngtuetam/ml-code/master/data/car_data.csv'\n!wget $data",
   "execution_count": 2,
   "outputs": [
    {
     "name": "stdout",
     "text": "--2022-07-05 09:17:53--  https://raw.githubusercontent.com/ngtuetam/ml-code/master/data/car_data.csv\nResolving raw.githubusercontent.com (raw.githubusercontent.com)... 185.199.108.133, 185.199.109.133, 185.199.110.133, ...\nConnecting to raw.githubusercontent.com (raw.githubusercontent.com)|185.199.108.133|:443... connected.\nHTTP request sent, awaiting response... 200 OK\nLength: 1475504 (1.4M) [text/plain]\nSaving to: ‘car_data.csv.1’\n\ncar_data.csv.1      100%[===================>]   1.41M  --.-KB/s    in 0.006s  \n\n2022-07-05 09:17:53 (224 MB/s) - ‘car_data.csv.1’ saved [1475504/1475504]\n\n",
     "output_type": "stream"
    }
   ]
  },
  {
   "cell_type": "code",
   "metadata": {
    "cell_id": "e487a51267e145198499d459c65f443b",
    "tags": [],
    "deepnote_to_be_reexecuted": false,
    "source_hash": "15da6fa4",
    "execution_start": 1657012673843,
    "execution_millis": 83,
    "deepnote_table_state": {
     "pageSize": 10,
     "pageIndex": 0,
     "filters": [],
     "sortBy": []
    },
    "deepnote_table_loading": false,
    "deepnote_cell_type": "code",
    "deepnote_cell_height": 428
   },
   "source": "df = pd.read_csv('car_data.csv.1')\ndf.head()",
   "execution_count": 3,
   "outputs": [
    {
     "output_type": "execute_result",
     "execution_count": 3,
     "data": {
      "application/vnd.deepnote.dataframe.v3+json": {
       "column_count": 16,
       "row_count": 5,
       "columns": [
        {
         "name": "Make",
         "dtype": "object",
         "stats": {
          "unique_count": 1,
          "nan_count": 0,
          "categories": [
           {
            "name": "BMW",
            "count": 5
           }
          ]
         }
        },
        {
         "name": "Model",
         "dtype": "object",
         "stats": {
          "unique_count": 2,
          "nan_count": 0,
          "categories": [
           {
            "name": "1 Series",
            "count": 4
           },
           {
            "name": "1 Series M",
            "count": 1
           }
          ]
         }
        },
        {
         "name": "Year",
         "dtype": "int64",
         "stats": {
          "unique_count": 1,
          "nan_count": 0,
          "min": "2011",
          "max": "2011",
          "histogram": [
           {
            "bin_start": 2010.5,
            "bin_end": 2010.6,
            "count": 0
           },
           {
            "bin_start": 2010.6,
            "bin_end": 2010.7,
            "count": 0
           },
           {
            "bin_start": 2010.7,
            "bin_end": 2010.8,
            "count": 0
           },
           {
            "bin_start": 2010.8,
            "bin_end": 2010.9,
            "count": 0
           },
           {
            "bin_start": 2010.9,
            "bin_end": 2011,
            "count": 0
           },
           {
            "bin_start": 2011,
            "bin_end": 2011.1,
            "count": 5
           },
           {
            "bin_start": 2011.1,
            "bin_end": 2011.2,
            "count": 0
           },
           {
            "bin_start": 2011.2,
            "bin_end": 2011.3,
            "count": 0
           },
           {
            "bin_start": 2011.3,
            "bin_end": 2011.4,
            "count": 0
           },
           {
            "bin_start": 2011.4,
            "bin_end": 2011.5,
            "count": 0
           }
          ]
         }
        },
        {
         "name": "Engine Fuel Type",
         "dtype": "object",
         "stats": {
          "unique_count": 1,
          "nan_count": 0,
          "categories": [
           {
            "name": "premium unleaded (required)",
            "count": 5
           }
          ]
         }
        },
        {
         "name": "Engine HP",
         "dtype": "float64",
         "stats": {
          "unique_count": 3,
          "nan_count": 0,
          "min": "230.0",
          "max": "335.0",
          "histogram": [
           {
            "bin_start": 230,
            "bin_end": 240.5,
            "count": 2
           },
           {
            "bin_start": 240.5,
            "bin_end": 251,
            "count": 0
           },
           {
            "bin_start": 251,
            "bin_end": 261.5,
            "count": 0
           },
           {
            "bin_start": 261.5,
            "bin_end": 272,
            "count": 0
           },
           {
            "bin_start": 272,
            "bin_end": 282.5,
            "count": 0
           },
           {
            "bin_start": 282.5,
            "bin_end": 293,
            "count": 0
           },
           {
            "bin_start": 293,
            "bin_end": 303.5,
            "count": 2
           },
           {
            "bin_start": 303.5,
            "bin_end": 314,
            "count": 0
           },
           {
            "bin_start": 314,
            "bin_end": 324.5,
            "count": 0
           },
           {
            "bin_start": 324.5,
            "bin_end": 335,
            "count": 1
           }
          ]
         }
        },
        {
         "name": "Engine Cylinders",
         "dtype": "float64",
         "stats": {
          "unique_count": 1,
          "nan_count": 0,
          "min": "6.0",
          "max": "6.0",
          "histogram": [
           {
            "bin_start": 5.5,
            "bin_end": 5.6,
            "count": 0
           },
           {
            "bin_start": 5.6,
            "bin_end": 5.7,
            "count": 0
           },
           {
            "bin_start": 5.7,
            "bin_end": 5.8,
            "count": 0
           },
           {
            "bin_start": 5.8,
            "bin_end": 5.9,
            "count": 0
           },
           {
            "bin_start": 5.9,
            "bin_end": 6,
            "count": 0
           },
           {
            "bin_start": 6,
            "bin_end": 6.1,
            "count": 5
           },
           {
            "bin_start": 6.1,
            "bin_end": 6.2,
            "count": 0
           },
           {
            "bin_start": 6.2,
            "bin_end": 6.3,
            "count": 0
           },
           {
            "bin_start": 6.3,
            "bin_end": 6.4,
            "count": 0
           },
           {
            "bin_start": 6.4,
            "bin_end": 6.5,
            "count": 0
           }
          ]
         }
        },
        {
         "name": "Transmission Type",
         "dtype": "object",
         "stats": {
          "unique_count": 1,
          "nan_count": 0,
          "categories": [
           {
            "name": "MANUAL",
            "count": 5
           }
          ]
         }
        },
        {
         "name": "Driven_Wheels",
         "dtype": "object",
         "stats": {
          "unique_count": 1,
          "nan_count": 0,
          "categories": [
           {
            "name": "rear wheel drive",
            "count": 5
           }
          ]
         }
        },
        {
         "name": "Number of Doors",
         "dtype": "float64",
         "stats": {
          "unique_count": 1,
          "nan_count": 0,
          "min": "2.0",
          "max": "2.0",
          "histogram": [
           {
            "bin_start": 1.5,
            "bin_end": 1.6,
            "count": 0
           },
           {
            "bin_start": 1.6,
            "bin_end": 1.7,
            "count": 0
           },
           {
            "bin_start": 1.7,
            "bin_end": 1.8,
            "count": 0
           },
           {
            "bin_start": 1.8,
            "bin_end": 1.9,
            "count": 0
           },
           {
            "bin_start": 1.9,
            "bin_end": 2,
            "count": 0
           },
           {
            "bin_start": 2,
            "bin_end": 2.1,
            "count": 5
           },
           {
            "bin_start": 2.1,
            "bin_end": 2.2,
            "count": 0
           },
           {
            "bin_start": 2.2,
            "bin_end": 2.3,
            "count": 0
           },
           {
            "bin_start": 2.3,
            "bin_end": 2.4,
            "count": 0
           },
           {
            "bin_start": 2.4,
            "bin_end": 2.5,
            "count": 0
           }
          ]
         }
        },
        {
         "name": "Market Category",
         "dtype": "object",
         "stats": {
          "unique_count": 4,
          "nan_count": 0,
          "categories": [
           {
            "name": "Luxury,Performance",
            "count": 2
           },
           {
            "name": "Factory Tuner,Luxury,High-Performance",
            "count": 1
           },
           {
            "name": "2 others",
            "count": 2
           }
          ]
         }
        },
        {
         "name": "Vehicle Size",
         "dtype": "object",
         "stats": {
          "unique_count": 1,
          "nan_count": 0,
          "categories": [
           {
            "name": "Compact",
            "count": 5
           }
          ]
         }
        },
        {
         "name": "Vehicle Style",
         "dtype": "object",
         "stats": {
          "unique_count": 2,
          "nan_count": 0,
          "categories": [
           {
            "name": "Coupe",
            "count": 3
           },
           {
            "name": "Convertible",
            "count": 2
           }
          ]
         }
        },
        {
         "name": "highway MPG",
         "dtype": "int64",
         "stats": {
          "unique_count": 2,
          "nan_count": 0,
          "min": "26",
          "max": "28",
          "histogram": [
           {
            "bin_start": 26,
            "bin_end": 26.2,
            "count": 1
           },
           {
            "bin_start": 26.2,
            "bin_end": 26.4,
            "count": 0
           },
           {
            "bin_start": 26.4,
            "bin_end": 26.6,
            "count": 0
           },
           {
            "bin_start": 26.6,
            "bin_end": 26.8,
            "count": 0
           },
           {
            "bin_start": 26.8,
            "bin_end": 27,
            "count": 0
           },
           {
            "bin_start": 27,
            "bin_end": 27.2,
            "count": 0
           },
           {
            "bin_start": 27.2,
            "bin_end": 27.4,
            "count": 0
           },
           {
            "bin_start": 27.4,
            "bin_end": 27.6,
            "count": 0
           },
           {
            "bin_start": 27.6,
            "bin_end": 27.8,
            "count": 0
           },
           {
            "bin_start": 27.8,
            "bin_end": 28,
            "count": 4
           }
          ]
         }
        },
        {
         "name": "city mpg",
         "dtype": "int64",
         "stats": {
          "unique_count": 3,
          "nan_count": 0,
          "min": "18",
          "max": "20",
          "histogram": [
           {
            "bin_start": 18,
            "bin_end": 18.2,
            "count": 2
           },
           {
            "bin_start": 18.2,
            "bin_end": 18.4,
            "count": 0
           },
           {
            "bin_start": 18.4,
            "bin_end": 18.6,
            "count": 0
           },
           {
            "bin_start": 18.6,
            "bin_end": 18.8,
            "count": 0
           },
           {
            "bin_start": 18.8,
            "bin_end": 19,
            "count": 0
           },
           {
            "bin_start": 19,
            "bin_end": 19.2,
            "count": 2
           },
           {
            "bin_start": 19.2,
            "bin_end": 19.4,
            "count": 0
           },
           {
            "bin_start": 19.4,
            "bin_end": 19.6,
            "count": 0
           },
           {
            "bin_start": 19.6,
            "bin_end": 19.8,
            "count": 0
           },
           {
            "bin_start": 19.8,
            "bin_end": 20,
            "count": 1
           }
          ]
         }
        },
        {
         "name": "Popularity",
         "dtype": "int64",
         "stats": {
          "unique_count": 1,
          "nan_count": 0,
          "min": "3916",
          "max": "3916",
          "histogram": [
           {
            "bin_start": 3915.5,
            "bin_end": 3915.6,
            "count": 0
           },
           {
            "bin_start": 3915.6,
            "bin_end": 3915.7,
            "count": 0
           },
           {
            "bin_start": 3915.7,
            "bin_end": 3915.8,
            "count": 0
           },
           {
            "bin_start": 3915.8,
            "bin_end": 3915.9,
            "count": 0
           },
           {
            "bin_start": 3915.9,
            "bin_end": 3916,
            "count": 0
           },
           {
            "bin_start": 3916,
            "bin_end": 3916.1,
            "count": 5
           },
           {
            "bin_start": 3916.1,
            "bin_end": 3916.2,
            "count": 0
           },
           {
            "bin_start": 3916.2,
            "bin_end": 3916.3,
            "count": 0
           },
           {
            "bin_start": 3916.3,
            "bin_end": 3916.4,
            "count": 0
           },
           {
            "bin_start": 3916.4,
            "bin_end": 3916.5,
            "count": 0
           }
          ]
         }
        },
        {
         "name": "MSRP",
         "dtype": "int64",
         "stats": {
          "unique_count": 5,
          "nan_count": 0,
          "min": "29450",
          "max": "46135",
          "histogram": [
           {
            "bin_start": 29450,
            "bin_end": 31118.5,
            "count": 1
           },
           {
            "bin_start": 31118.5,
            "bin_end": 32787,
            "count": 0
           },
           {
            "bin_start": 32787,
            "bin_end": 34455.5,
            "count": 0
           },
           {
            "bin_start": 34455.5,
            "bin_end": 36124,
            "count": 1
           },
           {
            "bin_start": 36124,
            "bin_end": 37792.5,
            "count": 1
           },
           {
            "bin_start": 37792.5,
            "bin_end": 39461,
            "count": 0
           },
           {
            "bin_start": 39461,
            "bin_end": 41129.5,
            "count": 1
           },
           {
            "bin_start": 41129.5,
            "bin_end": 42798,
            "count": 0
           },
           {
            "bin_start": 42798,
            "bin_end": 44466.5,
            "count": 0
           },
           {
            "bin_start": 44466.5,
            "bin_end": 46135,
            "count": 1
           }
          ]
         }
        },
        {
         "name": "_deepnote_index_column",
         "dtype": "int64"
        }
       ],
       "rows": [
        {
         "Make": "BMW",
         "Model": "1 Series M",
         "Year": 2011,
         "Engine Fuel Type": "premium unleaded (required)",
         "Engine HP": 335,
         "Engine Cylinders": 6,
         "Transmission Type": "MANUAL",
         "Driven_Wheels": "rear wheel drive",
         "Number of Doors": 2,
         "Market Category": "Factory Tuner,Luxury,High-Performance",
         "Vehicle Size": "Compact",
         "Vehicle Style": "Coupe",
         "highway MPG": 26,
         "city mpg": 19,
         "Popularity": 3916,
         "MSRP": 46135,
         "_deepnote_index_column": 0
        },
        {
         "Make": "BMW",
         "Model": "1 Series",
         "Year": 2011,
         "Engine Fuel Type": "premium unleaded (required)",
         "Engine HP": 300,
         "Engine Cylinders": 6,
         "Transmission Type": "MANUAL",
         "Driven_Wheels": "rear wheel drive",
         "Number of Doors": 2,
         "Market Category": "Luxury,Performance",
         "Vehicle Size": "Compact",
         "Vehicle Style": "Convertible",
         "highway MPG": 28,
         "city mpg": 19,
         "Popularity": 3916,
         "MSRP": 40650,
         "_deepnote_index_column": 1
        },
        {
         "Make": "BMW",
         "Model": "1 Series",
         "Year": 2011,
         "Engine Fuel Type": "premium unleaded (required)",
         "Engine HP": 300,
         "Engine Cylinders": 6,
         "Transmission Type": "MANUAL",
         "Driven_Wheels": "rear wheel drive",
         "Number of Doors": 2,
         "Market Category": "Luxury,High-Performance",
         "Vehicle Size": "Compact",
         "Vehicle Style": "Coupe",
         "highway MPG": 28,
         "city mpg": 20,
         "Popularity": 3916,
         "MSRP": 36350,
         "_deepnote_index_column": 2
        },
        {
         "Make": "BMW",
         "Model": "1 Series",
         "Year": 2011,
         "Engine Fuel Type": "premium unleaded (required)",
         "Engine HP": 230,
         "Engine Cylinders": 6,
         "Transmission Type": "MANUAL",
         "Driven_Wheels": "rear wheel drive",
         "Number of Doors": 2,
         "Market Category": "Luxury,Performance",
         "Vehicle Size": "Compact",
         "Vehicle Style": "Coupe",
         "highway MPG": 28,
         "city mpg": 18,
         "Popularity": 3916,
         "MSRP": 29450,
         "_deepnote_index_column": 3
        },
        {
         "Make": "BMW",
         "Model": "1 Series",
         "Year": 2011,
         "Engine Fuel Type": "premium unleaded (required)",
         "Engine HP": 230,
         "Engine Cylinders": 6,
         "Transmission Type": "MANUAL",
         "Driven_Wheels": "rear wheel drive",
         "Number of Doors": 2,
         "Market Category": "Luxury",
         "Vehicle Size": "Compact",
         "Vehicle Style": "Convertible",
         "highway MPG": 28,
         "city mpg": 18,
         "Popularity": 3916,
         "MSRP": 34500,
         "_deepnote_index_column": 4
        }
       ]
      },
      "text/plain": "  Make       Model  Year             Engine Fuel Type  Engine HP  \\\n0  BMW  1 Series M  2011  premium unleaded (required)      335.0   \n1  BMW    1 Series  2011  premium unleaded (required)      300.0   \n2  BMW    1 Series  2011  premium unleaded (required)      300.0   \n3  BMW    1 Series  2011  premium unleaded (required)      230.0   \n4  BMW    1 Series  2011  premium unleaded (required)      230.0   \n\n   Engine Cylinders Transmission Type     Driven_Wheels  Number of Doors  \\\n0               6.0            MANUAL  rear wheel drive              2.0   \n1               6.0            MANUAL  rear wheel drive              2.0   \n2               6.0            MANUAL  rear wheel drive              2.0   \n3               6.0            MANUAL  rear wheel drive              2.0   \n4               6.0            MANUAL  rear wheel drive              2.0   \n\n                         Market Category Vehicle Size Vehicle Style  \\\n0  Factory Tuner,Luxury,High-Performance      Compact         Coupe   \n1                     Luxury,Performance      Compact   Convertible   \n2                Luxury,High-Performance      Compact         Coupe   \n3                     Luxury,Performance      Compact         Coupe   \n4                                 Luxury      Compact   Convertible   \n\n   highway MPG  city mpg  Popularity   MSRP  \n0           26        19        3916  46135  \n1           28        19        3916  40650  \n2           28        20        3916  36350  \n3           28        18        3916  29450  \n4           28        18        3916  34500  ",
      "text/html": "<div>\n<style scoped>\n    .dataframe tbody tr th:only-of-type {\n        vertical-align: middle;\n    }\n\n    .dataframe tbody tr th {\n        vertical-align: top;\n    }\n\n    .dataframe thead th {\n        text-align: right;\n    }\n</style>\n<table border=\"1\" class=\"dataframe\">\n  <thead>\n    <tr style=\"text-align: right;\">\n      <th></th>\n      <th>Make</th>\n      <th>Model</th>\n      <th>Year</th>\n      <th>Engine Fuel Type</th>\n      <th>Engine HP</th>\n      <th>Engine Cylinders</th>\n      <th>Transmission Type</th>\n      <th>Driven_Wheels</th>\n      <th>Number of Doors</th>\n      <th>Market Category</th>\n      <th>Vehicle Size</th>\n      <th>Vehicle Style</th>\n      <th>highway MPG</th>\n      <th>city mpg</th>\n      <th>Popularity</th>\n      <th>MSRP</th>\n    </tr>\n  </thead>\n  <tbody>\n    <tr>\n      <th>0</th>\n      <td>BMW</td>\n      <td>1 Series M</td>\n      <td>2011</td>\n      <td>premium unleaded (required)</td>\n      <td>335.0</td>\n      <td>6.0</td>\n      <td>MANUAL</td>\n      <td>rear wheel drive</td>\n      <td>2.0</td>\n      <td>Factory Tuner,Luxury,High-Performance</td>\n      <td>Compact</td>\n      <td>Coupe</td>\n      <td>26</td>\n      <td>19</td>\n      <td>3916</td>\n      <td>46135</td>\n    </tr>\n    <tr>\n      <th>1</th>\n      <td>BMW</td>\n      <td>1 Series</td>\n      <td>2011</td>\n      <td>premium unleaded (required)</td>\n      <td>300.0</td>\n      <td>6.0</td>\n      <td>MANUAL</td>\n      <td>rear wheel drive</td>\n      <td>2.0</td>\n      <td>Luxury,Performance</td>\n      <td>Compact</td>\n      <td>Convertible</td>\n      <td>28</td>\n      <td>19</td>\n      <td>3916</td>\n      <td>40650</td>\n    </tr>\n    <tr>\n      <th>2</th>\n      <td>BMW</td>\n      <td>1 Series</td>\n      <td>2011</td>\n      <td>premium unleaded (required)</td>\n      <td>300.0</td>\n      <td>6.0</td>\n      <td>MANUAL</td>\n      <td>rear wheel drive</td>\n      <td>2.0</td>\n      <td>Luxury,High-Performance</td>\n      <td>Compact</td>\n      <td>Coupe</td>\n      <td>28</td>\n      <td>20</td>\n      <td>3916</td>\n      <td>36350</td>\n    </tr>\n    <tr>\n      <th>3</th>\n      <td>BMW</td>\n      <td>1 Series</td>\n      <td>2011</td>\n      <td>premium unleaded (required)</td>\n      <td>230.0</td>\n      <td>6.0</td>\n      <td>MANUAL</td>\n      <td>rear wheel drive</td>\n      <td>2.0</td>\n      <td>Luxury,Performance</td>\n      <td>Compact</td>\n      <td>Coupe</td>\n      <td>28</td>\n      <td>18</td>\n      <td>3916</td>\n      <td>29450</td>\n    </tr>\n    <tr>\n      <th>4</th>\n      <td>BMW</td>\n      <td>1 Series</td>\n      <td>2011</td>\n      <td>premium unleaded (required)</td>\n      <td>230.0</td>\n      <td>6.0</td>\n      <td>MANUAL</td>\n      <td>rear wheel drive</td>\n      <td>2.0</td>\n      <td>Luxury</td>\n      <td>Compact</td>\n      <td>Convertible</td>\n      <td>28</td>\n      <td>18</td>\n      <td>3916</td>\n      <td>34500</td>\n    </tr>\n  </tbody>\n</table>\n</div>"
     },
     "metadata": {}
    }
   ]
  },
  {
   "cell_type": "code",
   "metadata": {
    "cell_id": "f093126f2e4e411e8e4c7ef3efdb93fb",
    "tags": [],
    "deepnote_to_be_reexecuted": false,
    "source_hash": "d9a2fd1c",
    "execution_start": 1657012673977,
    "execution_millis": 4,
    "deepnote_cell_type": "code",
    "deepnote_cell_height": 446
   },
   "source": "# Data prepatation\ndf.columns = df.columns.str.lower().str.replace(' ','_')\ndf.head()",
   "execution_count": 4,
   "outputs": [
    {
     "output_type": "execute_result",
     "execution_count": 4,
     "data": {
      "application/vnd.deepnote.dataframe.v3+json": {
       "column_count": 16,
       "row_count": 5,
       "columns": [
        {
         "name": "make",
         "dtype": "object",
         "stats": {
          "unique_count": 1,
          "nan_count": 0,
          "categories": [
           {
            "name": "BMW",
            "count": 5
           }
          ]
         }
        },
        {
         "name": "model",
         "dtype": "object",
         "stats": {
          "unique_count": 2,
          "nan_count": 0,
          "categories": [
           {
            "name": "1 Series",
            "count": 4
           },
           {
            "name": "1 Series M",
            "count": 1
           }
          ]
         }
        },
        {
         "name": "year",
         "dtype": "int64",
         "stats": {
          "unique_count": 1,
          "nan_count": 0,
          "min": "2011",
          "max": "2011",
          "histogram": [
           {
            "bin_start": 2010.5,
            "bin_end": 2010.6,
            "count": 0
           },
           {
            "bin_start": 2010.6,
            "bin_end": 2010.7,
            "count": 0
           },
           {
            "bin_start": 2010.7,
            "bin_end": 2010.8,
            "count": 0
           },
           {
            "bin_start": 2010.8,
            "bin_end": 2010.9,
            "count": 0
           },
           {
            "bin_start": 2010.9,
            "bin_end": 2011,
            "count": 0
           },
           {
            "bin_start": 2011,
            "bin_end": 2011.1,
            "count": 5
           },
           {
            "bin_start": 2011.1,
            "bin_end": 2011.2,
            "count": 0
           },
           {
            "bin_start": 2011.2,
            "bin_end": 2011.3,
            "count": 0
           },
           {
            "bin_start": 2011.3,
            "bin_end": 2011.4,
            "count": 0
           },
           {
            "bin_start": 2011.4,
            "bin_end": 2011.5,
            "count": 0
           }
          ]
         }
        },
        {
         "name": "engine_fuel_type",
         "dtype": "object",
         "stats": {
          "unique_count": 1,
          "nan_count": 0,
          "categories": [
           {
            "name": "premium unleaded (required)",
            "count": 5
           }
          ]
         }
        },
        {
         "name": "engine_hp",
         "dtype": "float64",
         "stats": {
          "unique_count": 3,
          "nan_count": 0,
          "min": "230.0",
          "max": "335.0",
          "histogram": [
           {
            "bin_start": 230,
            "bin_end": 240.5,
            "count": 2
           },
           {
            "bin_start": 240.5,
            "bin_end": 251,
            "count": 0
           },
           {
            "bin_start": 251,
            "bin_end": 261.5,
            "count": 0
           },
           {
            "bin_start": 261.5,
            "bin_end": 272,
            "count": 0
           },
           {
            "bin_start": 272,
            "bin_end": 282.5,
            "count": 0
           },
           {
            "bin_start": 282.5,
            "bin_end": 293,
            "count": 0
           },
           {
            "bin_start": 293,
            "bin_end": 303.5,
            "count": 2
           },
           {
            "bin_start": 303.5,
            "bin_end": 314,
            "count": 0
           },
           {
            "bin_start": 314,
            "bin_end": 324.5,
            "count": 0
           },
           {
            "bin_start": 324.5,
            "bin_end": 335,
            "count": 1
           }
          ]
         }
        },
        {
         "name": "engine_cylinders",
         "dtype": "float64",
         "stats": {
          "unique_count": 1,
          "nan_count": 0,
          "min": "6.0",
          "max": "6.0",
          "histogram": [
           {
            "bin_start": 5.5,
            "bin_end": 5.6,
            "count": 0
           },
           {
            "bin_start": 5.6,
            "bin_end": 5.7,
            "count": 0
           },
           {
            "bin_start": 5.7,
            "bin_end": 5.8,
            "count": 0
           },
           {
            "bin_start": 5.8,
            "bin_end": 5.9,
            "count": 0
           },
           {
            "bin_start": 5.9,
            "bin_end": 6,
            "count": 0
           },
           {
            "bin_start": 6,
            "bin_end": 6.1,
            "count": 5
           },
           {
            "bin_start": 6.1,
            "bin_end": 6.2,
            "count": 0
           },
           {
            "bin_start": 6.2,
            "bin_end": 6.3,
            "count": 0
           },
           {
            "bin_start": 6.3,
            "bin_end": 6.4,
            "count": 0
           },
           {
            "bin_start": 6.4,
            "bin_end": 6.5,
            "count": 0
           }
          ]
         }
        },
        {
         "name": "transmission_type",
         "dtype": "object",
         "stats": {
          "unique_count": 1,
          "nan_count": 0,
          "categories": [
           {
            "name": "MANUAL",
            "count": 5
           }
          ]
         }
        },
        {
         "name": "driven_wheels",
         "dtype": "object",
         "stats": {
          "unique_count": 1,
          "nan_count": 0,
          "categories": [
           {
            "name": "rear wheel drive",
            "count": 5
           }
          ]
         }
        },
        {
         "name": "number_of_doors",
         "dtype": "float64",
         "stats": {
          "unique_count": 1,
          "nan_count": 0,
          "min": "2.0",
          "max": "2.0",
          "histogram": [
           {
            "bin_start": 1.5,
            "bin_end": 1.6,
            "count": 0
           },
           {
            "bin_start": 1.6,
            "bin_end": 1.7,
            "count": 0
           },
           {
            "bin_start": 1.7,
            "bin_end": 1.8,
            "count": 0
           },
           {
            "bin_start": 1.8,
            "bin_end": 1.9,
            "count": 0
           },
           {
            "bin_start": 1.9,
            "bin_end": 2,
            "count": 0
           },
           {
            "bin_start": 2,
            "bin_end": 2.1,
            "count": 5
           },
           {
            "bin_start": 2.1,
            "bin_end": 2.2,
            "count": 0
           },
           {
            "bin_start": 2.2,
            "bin_end": 2.3,
            "count": 0
           },
           {
            "bin_start": 2.3,
            "bin_end": 2.4,
            "count": 0
           },
           {
            "bin_start": 2.4,
            "bin_end": 2.5,
            "count": 0
           }
          ]
         }
        },
        {
         "name": "market_category",
         "dtype": "object",
         "stats": {
          "unique_count": 4,
          "nan_count": 0,
          "categories": [
           {
            "name": "Luxury,Performance",
            "count": 2
           },
           {
            "name": "Factory Tuner,Luxury,High-Performance",
            "count": 1
           },
           {
            "name": "2 others",
            "count": 2
           }
          ]
         }
        },
        {
         "name": "vehicle_size",
         "dtype": "object",
         "stats": {
          "unique_count": 1,
          "nan_count": 0,
          "categories": [
           {
            "name": "Compact",
            "count": 5
           }
          ]
         }
        },
        {
         "name": "vehicle_style",
         "dtype": "object",
         "stats": {
          "unique_count": 2,
          "nan_count": 0,
          "categories": [
           {
            "name": "Coupe",
            "count": 3
           },
           {
            "name": "Convertible",
            "count": 2
           }
          ]
         }
        },
        {
         "name": "highway_mpg",
         "dtype": "int64",
         "stats": {
          "unique_count": 2,
          "nan_count": 0,
          "min": "26",
          "max": "28",
          "histogram": [
           {
            "bin_start": 26,
            "bin_end": 26.2,
            "count": 1
           },
           {
            "bin_start": 26.2,
            "bin_end": 26.4,
            "count": 0
           },
           {
            "bin_start": 26.4,
            "bin_end": 26.6,
            "count": 0
           },
           {
            "bin_start": 26.6,
            "bin_end": 26.8,
            "count": 0
           },
           {
            "bin_start": 26.8,
            "bin_end": 27,
            "count": 0
           },
           {
            "bin_start": 27,
            "bin_end": 27.2,
            "count": 0
           },
           {
            "bin_start": 27.2,
            "bin_end": 27.4,
            "count": 0
           },
           {
            "bin_start": 27.4,
            "bin_end": 27.6,
            "count": 0
           },
           {
            "bin_start": 27.6,
            "bin_end": 27.8,
            "count": 0
           },
           {
            "bin_start": 27.8,
            "bin_end": 28,
            "count": 4
           }
          ]
         }
        },
        {
         "name": "city_mpg",
         "dtype": "int64",
         "stats": {
          "unique_count": 3,
          "nan_count": 0,
          "min": "18",
          "max": "20",
          "histogram": [
           {
            "bin_start": 18,
            "bin_end": 18.2,
            "count": 2
           },
           {
            "bin_start": 18.2,
            "bin_end": 18.4,
            "count": 0
           },
           {
            "bin_start": 18.4,
            "bin_end": 18.6,
            "count": 0
           },
           {
            "bin_start": 18.6,
            "bin_end": 18.8,
            "count": 0
           },
           {
            "bin_start": 18.8,
            "bin_end": 19,
            "count": 0
           },
           {
            "bin_start": 19,
            "bin_end": 19.2,
            "count": 2
           },
           {
            "bin_start": 19.2,
            "bin_end": 19.4,
            "count": 0
           },
           {
            "bin_start": 19.4,
            "bin_end": 19.6,
            "count": 0
           },
           {
            "bin_start": 19.6,
            "bin_end": 19.8,
            "count": 0
           },
           {
            "bin_start": 19.8,
            "bin_end": 20,
            "count": 1
           }
          ]
         }
        },
        {
         "name": "popularity",
         "dtype": "int64",
         "stats": {
          "unique_count": 1,
          "nan_count": 0,
          "min": "3916",
          "max": "3916",
          "histogram": [
           {
            "bin_start": 3915.5,
            "bin_end": 3915.6,
            "count": 0
           },
           {
            "bin_start": 3915.6,
            "bin_end": 3915.7,
            "count": 0
           },
           {
            "bin_start": 3915.7,
            "bin_end": 3915.8,
            "count": 0
           },
           {
            "bin_start": 3915.8,
            "bin_end": 3915.9,
            "count": 0
           },
           {
            "bin_start": 3915.9,
            "bin_end": 3916,
            "count": 0
           },
           {
            "bin_start": 3916,
            "bin_end": 3916.1,
            "count": 5
           },
           {
            "bin_start": 3916.1,
            "bin_end": 3916.2,
            "count": 0
           },
           {
            "bin_start": 3916.2,
            "bin_end": 3916.3,
            "count": 0
           },
           {
            "bin_start": 3916.3,
            "bin_end": 3916.4,
            "count": 0
           },
           {
            "bin_start": 3916.4,
            "bin_end": 3916.5,
            "count": 0
           }
          ]
         }
        },
        {
         "name": "msrp",
         "dtype": "int64",
         "stats": {
          "unique_count": 5,
          "nan_count": 0,
          "min": "29450",
          "max": "46135",
          "histogram": [
           {
            "bin_start": 29450,
            "bin_end": 31118.5,
            "count": 1
           },
           {
            "bin_start": 31118.5,
            "bin_end": 32787,
            "count": 0
           },
           {
            "bin_start": 32787,
            "bin_end": 34455.5,
            "count": 0
           },
           {
            "bin_start": 34455.5,
            "bin_end": 36124,
            "count": 1
           },
           {
            "bin_start": 36124,
            "bin_end": 37792.5,
            "count": 1
           },
           {
            "bin_start": 37792.5,
            "bin_end": 39461,
            "count": 0
           },
           {
            "bin_start": 39461,
            "bin_end": 41129.5,
            "count": 1
           },
           {
            "bin_start": 41129.5,
            "bin_end": 42798,
            "count": 0
           },
           {
            "bin_start": 42798,
            "bin_end": 44466.5,
            "count": 0
           },
           {
            "bin_start": 44466.5,
            "bin_end": 46135,
            "count": 1
           }
          ]
         }
        },
        {
         "name": "_deepnote_index_column",
         "dtype": "int64"
        }
       ],
       "rows": [
        {
         "make": "BMW",
         "model": "1 Series M",
         "year": 2011,
         "engine_fuel_type": "premium unleaded (required)",
         "engine_hp": 335,
         "engine_cylinders": 6,
         "transmission_type": "MANUAL",
         "driven_wheels": "rear wheel drive",
         "number_of_doors": 2,
         "market_category": "Factory Tuner,Luxury,High-Performance",
         "vehicle_size": "Compact",
         "vehicle_style": "Coupe",
         "highway_mpg": 26,
         "city_mpg": 19,
         "popularity": 3916,
         "msrp": 46135,
         "_deepnote_index_column": 0
        },
        {
         "make": "BMW",
         "model": "1 Series",
         "year": 2011,
         "engine_fuel_type": "premium unleaded (required)",
         "engine_hp": 300,
         "engine_cylinders": 6,
         "transmission_type": "MANUAL",
         "driven_wheels": "rear wheel drive",
         "number_of_doors": 2,
         "market_category": "Luxury,Performance",
         "vehicle_size": "Compact",
         "vehicle_style": "Convertible",
         "highway_mpg": 28,
         "city_mpg": 19,
         "popularity": 3916,
         "msrp": 40650,
         "_deepnote_index_column": 1
        },
        {
         "make": "BMW",
         "model": "1 Series",
         "year": 2011,
         "engine_fuel_type": "premium unleaded (required)",
         "engine_hp": 300,
         "engine_cylinders": 6,
         "transmission_type": "MANUAL",
         "driven_wheels": "rear wheel drive",
         "number_of_doors": 2,
         "market_category": "Luxury,High-Performance",
         "vehicle_size": "Compact",
         "vehicle_style": "Coupe",
         "highway_mpg": 28,
         "city_mpg": 20,
         "popularity": 3916,
         "msrp": 36350,
         "_deepnote_index_column": 2
        },
        {
         "make": "BMW",
         "model": "1 Series",
         "year": 2011,
         "engine_fuel_type": "premium unleaded (required)",
         "engine_hp": 230,
         "engine_cylinders": 6,
         "transmission_type": "MANUAL",
         "driven_wheels": "rear wheel drive",
         "number_of_doors": 2,
         "market_category": "Luxury,Performance",
         "vehicle_size": "Compact",
         "vehicle_style": "Coupe",
         "highway_mpg": 28,
         "city_mpg": 18,
         "popularity": 3916,
         "msrp": 29450,
         "_deepnote_index_column": 3
        },
        {
         "make": "BMW",
         "model": "1 Series",
         "year": 2011,
         "engine_fuel_type": "premium unleaded (required)",
         "engine_hp": 230,
         "engine_cylinders": 6,
         "transmission_type": "MANUAL",
         "driven_wheels": "rear wheel drive",
         "number_of_doors": 2,
         "market_category": "Luxury",
         "vehicle_size": "Compact",
         "vehicle_style": "Convertible",
         "highway_mpg": 28,
         "city_mpg": 18,
         "popularity": 3916,
         "msrp": 34500,
         "_deepnote_index_column": 4
        }
       ]
      },
      "text/plain": "  make       model  year             engine_fuel_type  engine_hp  \\\n0  BMW  1 Series M  2011  premium unleaded (required)      335.0   \n1  BMW    1 Series  2011  premium unleaded (required)      300.0   \n2  BMW    1 Series  2011  premium unleaded (required)      300.0   \n3  BMW    1 Series  2011  premium unleaded (required)      230.0   \n4  BMW    1 Series  2011  premium unleaded (required)      230.0   \n\n   engine_cylinders transmission_type     driven_wheels  number_of_doors  \\\n0               6.0            MANUAL  rear wheel drive              2.0   \n1               6.0            MANUAL  rear wheel drive              2.0   \n2               6.0            MANUAL  rear wheel drive              2.0   \n3               6.0            MANUAL  rear wheel drive              2.0   \n4               6.0            MANUAL  rear wheel drive              2.0   \n\n                         market_category vehicle_size vehicle_style  \\\n0  Factory Tuner,Luxury,High-Performance      Compact         Coupe   \n1                     Luxury,Performance      Compact   Convertible   \n2                Luxury,High-Performance      Compact         Coupe   \n3                     Luxury,Performance      Compact         Coupe   \n4                                 Luxury      Compact   Convertible   \n\n   highway_mpg  city_mpg  popularity   msrp  \n0           26        19        3916  46135  \n1           28        19        3916  40650  \n2           28        20        3916  36350  \n3           28        18        3916  29450  \n4           28        18        3916  34500  ",
      "text/html": "<div>\n<style scoped>\n    .dataframe tbody tr th:only-of-type {\n        vertical-align: middle;\n    }\n\n    .dataframe tbody tr th {\n        vertical-align: top;\n    }\n\n    .dataframe thead th {\n        text-align: right;\n    }\n</style>\n<table border=\"1\" class=\"dataframe\">\n  <thead>\n    <tr style=\"text-align: right;\">\n      <th></th>\n      <th>make</th>\n      <th>model</th>\n      <th>year</th>\n      <th>engine_fuel_type</th>\n      <th>engine_hp</th>\n      <th>engine_cylinders</th>\n      <th>transmission_type</th>\n      <th>driven_wheels</th>\n      <th>number_of_doors</th>\n      <th>market_category</th>\n      <th>vehicle_size</th>\n      <th>vehicle_style</th>\n      <th>highway_mpg</th>\n      <th>city_mpg</th>\n      <th>popularity</th>\n      <th>msrp</th>\n    </tr>\n  </thead>\n  <tbody>\n    <tr>\n      <th>0</th>\n      <td>BMW</td>\n      <td>1 Series M</td>\n      <td>2011</td>\n      <td>premium unleaded (required)</td>\n      <td>335.0</td>\n      <td>6.0</td>\n      <td>MANUAL</td>\n      <td>rear wheel drive</td>\n      <td>2.0</td>\n      <td>Factory Tuner,Luxury,High-Performance</td>\n      <td>Compact</td>\n      <td>Coupe</td>\n      <td>26</td>\n      <td>19</td>\n      <td>3916</td>\n      <td>46135</td>\n    </tr>\n    <tr>\n      <th>1</th>\n      <td>BMW</td>\n      <td>1 Series</td>\n      <td>2011</td>\n      <td>premium unleaded (required)</td>\n      <td>300.0</td>\n      <td>6.0</td>\n      <td>MANUAL</td>\n      <td>rear wheel drive</td>\n      <td>2.0</td>\n      <td>Luxury,Performance</td>\n      <td>Compact</td>\n      <td>Convertible</td>\n      <td>28</td>\n      <td>19</td>\n      <td>3916</td>\n      <td>40650</td>\n    </tr>\n    <tr>\n      <th>2</th>\n      <td>BMW</td>\n      <td>1 Series</td>\n      <td>2011</td>\n      <td>premium unleaded (required)</td>\n      <td>300.0</td>\n      <td>6.0</td>\n      <td>MANUAL</td>\n      <td>rear wheel drive</td>\n      <td>2.0</td>\n      <td>Luxury,High-Performance</td>\n      <td>Compact</td>\n      <td>Coupe</td>\n      <td>28</td>\n      <td>20</td>\n      <td>3916</td>\n      <td>36350</td>\n    </tr>\n    <tr>\n      <th>3</th>\n      <td>BMW</td>\n      <td>1 Series</td>\n      <td>2011</td>\n      <td>premium unleaded (required)</td>\n      <td>230.0</td>\n      <td>6.0</td>\n      <td>MANUAL</td>\n      <td>rear wheel drive</td>\n      <td>2.0</td>\n      <td>Luxury,Performance</td>\n      <td>Compact</td>\n      <td>Coupe</td>\n      <td>28</td>\n      <td>18</td>\n      <td>3916</td>\n      <td>29450</td>\n    </tr>\n    <tr>\n      <th>4</th>\n      <td>BMW</td>\n      <td>1 Series</td>\n      <td>2011</td>\n      <td>premium unleaded (required)</td>\n      <td>230.0</td>\n      <td>6.0</td>\n      <td>MANUAL</td>\n      <td>rear wheel drive</td>\n      <td>2.0</td>\n      <td>Luxury</td>\n      <td>Compact</td>\n      <td>Convertible</td>\n      <td>28</td>\n      <td>18</td>\n      <td>3916</td>\n      <td>34500</td>\n    </tr>\n  </tbody>\n</table>\n</div>"
     },
     "metadata": {}
    }
   ]
  },
  {
   "cell_type": "code",
   "metadata": {
    "cell_id": "d67d79aae7bb4128846b8428f4251e41",
    "tags": [],
    "deepnote_to_be_reexecuted": false,
    "source_hash": "7d83157f",
    "execution_start": 1657012674027,
    "execution_millis": 45,
    "deepnote_cell_type": "code",
    "deepnote_cell_height": 170.1875
   },
   "source": "str_columns = df.dtypes[df.dtypes == 'object'].index.tolist()\nprint(str_columns)\nfor col in str_columns:\n    df[col] = df[col].str.lower().str.replace(' ','_')",
   "execution_count": 5,
   "outputs": [
    {
     "name": "stdout",
     "text": "['make', 'model', 'engine_fuel_type', 'transmission_type', 'driven_wheels', 'market_category', 'vehicle_size', 'vehicle_style']\n",
     "output_type": "stream"
    }
   ]
  },
  {
   "cell_type": "code",
   "metadata": {
    "cell_id": "1ad3039dd2544330b241123b2c03f17d",
    "tags": [],
    "deepnote_to_be_reexecuted": false,
    "source_hash": "c085b6ba",
    "execution_start": 1657012674100,
    "execution_millis": 5,
    "deepnote_cell_type": "code",
    "deepnote_cell_height": 410
   },
   "source": "df.head()",
   "execution_count": 6,
   "outputs": [
    {
     "output_type": "execute_result",
     "execution_count": 6,
     "data": {
      "application/vnd.deepnote.dataframe.v3+json": {
       "column_count": 16,
       "row_count": 5,
       "columns": [
        {
         "name": "make",
         "dtype": "object",
         "stats": {
          "unique_count": 1,
          "nan_count": 0,
          "categories": [
           {
            "name": "bmw",
            "count": 5
           }
          ]
         }
        },
        {
         "name": "model",
         "dtype": "object",
         "stats": {
          "unique_count": 2,
          "nan_count": 0,
          "categories": [
           {
            "name": "1_series",
            "count": 4
           },
           {
            "name": "1_series_m",
            "count": 1
           }
          ]
         }
        },
        {
         "name": "year",
         "dtype": "int64",
         "stats": {
          "unique_count": 1,
          "nan_count": 0,
          "min": "2011",
          "max": "2011",
          "histogram": [
           {
            "bin_start": 2010.5,
            "bin_end": 2010.6,
            "count": 0
           },
           {
            "bin_start": 2010.6,
            "bin_end": 2010.7,
            "count": 0
           },
           {
            "bin_start": 2010.7,
            "bin_end": 2010.8,
            "count": 0
           },
           {
            "bin_start": 2010.8,
            "bin_end": 2010.9,
            "count": 0
           },
           {
            "bin_start": 2010.9,
            "bin_end": 2011,
            "count": 0
           },
           {
            "bin_start": 2011,
            "bin_end": 2011.1,
            "count": 5
           },
           {
            "bin_start": 2011.1,
            "bin_end": 2011.2,
            "count": 0
           },
           {
            "bin_start": 2011.2,
            "bin_end": 2011.3,
            "count": 0
           },
           {
            "bin_start": 2011.3,
            "bin_end": 2011.4,
            "count": 0
           },
           {
            "bin_start": 2011.4,
            "bin_end": 2011.5,
            "count": 0
           }
          ]
         }
        },
        {
         "name": "engine_fuel_type",
         "dtype": "object",
         "stats": {
          "unique_count": 1,
          "nan_count": 0,
          "categories": [
           {
            "name": "premium_unleaded_(required)",
            "count": 5
           }
          ]
         }
        },
        {
         "name": "engine_hp",
         "dtype": "float64",
         "stats": {
          "unique_count": 3,
          "nan_count": 0,
          "min": "230.0",
          "max": "335.0",
          "histogram": [
           {
            "bin_start": 230,
            "bin_end": 240.5,
            "count": 2
           },
           {
            "bin_start": 240.5,
            "bin_end": 251,
            "count": 0
           },
           {
            "bin_start": 251,
            "bin_end": 261.5,
            "count": 0
           },
           {
            "bin_start": 261.5,
            "bin_end": 272,
            "count": 0
           },
           {
            "bin_start": 272,
            "bin_end": 282.5,
            "count": 0
           },
           {
            "bin_start": 282.5,
            "bin_end": 293,
            "count": 0
           },
           {
            "bin_start": 293,
            "bin_end": 303.5,
            "count": 2
           },
           {
            "bin_start": 303.5,
            "bin_end": 314,
            "count": 0
           },
           {
            "bin_start": 314,
            "bin_end": 324.5,
            "count": 0
           },
           {
            "bin_start": 324.5,
            "bin_end": 335,
            "count": 1
           }
          ]
         }
        },
        {
         "name": "engine_cylinders",
         "dtype": "float64",
         "stats": {
          "unique_count": 1,
          "nan_count": 0,
          "min": "6.0",
          "max": "6.0",
          "histogram": [
           {
            "bin_start": 5.5,
            "bin_end": 5.6,
            "count": 0
           },
           {
            "bin_start": 5.6,
            "bin_end": 5.7,
            "count": 0
           },
           {
            "bin_start": 5.7,
            "bin_end": 5.8,
            "count": 0
           },
           {
            "bin_start": 5.8,
            "bin_end": 5.9,
            "count": 0
           },
           {
            "bin_start": 5.9,
            "bin_end": 6,
            "count": 0
           },
           {
            "bin_start": 6,
            "bin_end": 6.1,
            "count": 5
           },
           {
            "bin_start": 6.1,
            "bin_end": 6.2,
            "count": 0
           },
           {
            "bin_start": 6.2,
            "bin_end": 6.3,
            "count": 0
           },
           {
            "bin_start": 6.3,
            "bin_end": 6.4,
            "count": 0
           },
           {
            "bin_start": 6.4,
            "bin_end": 6.5,
            "count": 0
           }
          ]
         }
        },
        {
         "name": "transmission_type",
         "dtype": "object",
         "stats": {
          "unique_count": 1,
          "nan_count": 0,
          "categories": [
           {
            "name": "manual",
            "count": 5
           }
          ]
         }
        },
        {
         "name": "driven_wheels",
         "dtype": "object",
         "stats": {
          "unique_count": 1,
          "nan_count": 0,
          "categories": [
           {
            "name": "rear_wheel_drive",
            "count": 5
           }
          ]
         }
        },
        {
         "name": "number_of_doors",
         "dtype": "float64",
         "stats": {
          "unique_count": 1,
          "nan_count": 0,
          "min": "2.0",
          "max": "2.0",
          "histogram": [
           {
            "bin_start": 1.5,
            "bin_end": 1.6,
            "count": 0
           },
           {
            "bin_start": 1.6,
            "bin_end": 1.7,
            "count": 0
           },
           {
            "bin_start": 1.7,
            "bin_end": 1.8,
            "count": 0
           },
           {
            "bin_start": 1.8,
            "bin_end": 1.9,
            "count": 0
           },
           {
            "bin_start": 1.9,
            "bin_end": 2,
            "count": 0
           },
           {
            "bin_start": 2,
            "bin_end": 2.1,
            "count": 5
           },
           {
            "bin_start": 2.1,
            "bin_end": 2.2,
            "count": 0
           },
           {
            "bin_start": 2.2,
            "bin_end": 2.3,
            "count": 0
           },
           {
            "bin_start": 2.3,
            "bin_end": 2.4,
            "count": 0
           },
           {
            "bin_start": 2.4,
            "bin_end": 2.5,
            "count": 0
           }
          ]
         }
        },
        {
         "name": "market_category",
         "dtype": "object",
         "stats": {
          "unique_count": 4,
          "nan_count": 0,
          "categories": [
           {
            "name": "luxury,performance",
            "count": 2
           },
           {
            "name": "factory_tuner,luxury,high-performance",
            "count": 1
           },
           {
            "name": "2 others",
            "count": 2
           }
          ]
         }
        },
        {
         "name": "vehicle_size",
         "dtype": "object",
         "stats": {
          "unique_count": 1,
          "nan_count": 0,
          "categories": [
           {
            "name": "compact",
            "count": 5
           }
          ]
         }
        },
        {
         "name": "vehicle_style",
         "dtype": "object",
         "stats": {
          "unique_count": 2,
          "nan_count": 0,
          "categories": [
           {
            "name": "coupe",
            "count": 3
           },
           {
            "name": "convertible",
            "count": 2
           }
          ]
         }
        },
        {
         "name": "highway_mpg",
         "dtype": "int64",
         "stats": {
          "unique_count": 2,
          "nan_count": 0,
          "min": "26",
          "max": "28",
          "histogram": [
           {
            "bin_start": 26,
            "bin_end": 26.2,
            "count": 1
           },
           {
            "bin_start": 26.2,
            "bin_end": 26.4,
            "count": 0
           },
           {
            "bin_start": 26.4,
            "bin_end": 26.6,
            "count": 0
           },
           {
            "bin_start": 26.6,
            "bin_end": 26.8,
            "count": 0
           },
           {
            "bin_start": 26.8,
            "bin_end": 27,
            "count": 0
           },
           {
            "bin_start": 27,
            "bin_end": 27.2,
            "count": 0
           },
           {
            "bin_start": 27.2,
            "bin_end": 27.4,
            "count": 0
           },
           {
            "bin_start": 27.4,
            "bin_end": 27.6,
            "count": 0
           },
           {
            "bin_start": 27.6,
            "bin_end": 27.8,
            "count": 0
           },
           {
            "bin_start": 27.8,
            "bin_end": 28,
            "count": 4
           }
          ]
         }
        },
        {
         "name": "city_mpg",
         "dtype": "int64",
         "stats": {
          "unique_count": 3,
          "nan_count": 0,
          "min": "18",
          "max": "20",
          "histogram": [
           {
            "bin_start": 18,
            "bin_end": 18.2,
            "count": 2
           },
           {
            "bin_start": 18.2,
            "bin_end": 18.4,
            "count": 0
           },
           {
            "bin_start": 18.4,
            "bin_end": 18.6,
            "count": 0
           },
           {
            "bin_start": 18.6,
            "bin_end": 18.8,
            "count": 0
           },
           {
            "bin_start": 18.8,
            "bin_end": 19,
            "count": 0
           },
           {
            "bin_start": 19,
            "bin_end": 19.2,
            "count": 2
           },
           {
            "bin_start": 19.2,
            "bin_end": 19.4,
            "count": 0
           },
           {
            "bin_start": 19.4,
            "bin_end": 19.6,
            "count": 0
           },
           {
            "bin_start": 19.6,
            "bin_end": 19.8,
            "count": 0
           },
           {
            "bin_start": 19.8,
            "bin_end": 20,
            "count": 1
           }
          ]
         }
        },
        {
         "name": "popularity",
         "dtype": "int64",
         "stats": {
          "unique_count": 1,
          "nan_count": 0,
          "min": "3916",
          "max": "3916",
          "histogram": [
           {
            "bin_start": 3915.5,
            "bin_end": 3915.6,
            "count": 0
           },
           {
            "bin_start": 3915.6,
            "bin_end": 3915.7,
            "count": 0
           },
           {
            "bin_start": 3915.7,
            "bin_end": 3915.8,
            "count": 0
           },
           {
            "bin_start": 3915.8,
            "bin_end": 3915.9,
            "count": 0
           },
           {
            "bin_start": 3915.9,
            "bin_end": 3916,
            "count": 0
           },
           {
            "bin_start": 3916,
            "bin_end": 3916.1,
            "count": 5
           },
           {
            "bin_start": 3916.1,
            "bin_end": 3916.2,
            "count": 0
           },
           {
            "bin_start": 3916.2,
            "bin_end": 3916.3,
            "count": 0
           },
           {
            "bin_start": 3916.3,
            "bin_end": 3916.4,
            "count": 0
           },
           {
            "bin_start": 3916.4,
            "bin_end": 3916.5,
            "count": 0
           }
          ]
         }
        },
        {
         "name": "msrp",
         "dtype": "int64",
         "stats": {
          "unique_count": 5,
          "nan_count": 0,
          "min": "29450",
          "max": "46135",
          "histogram": [
           {
            "bin_start": 29450,
            "bin_end": 31118.5,
            "count": 1
           },
           {
            "bin_start": 31118.5,
            "bin_end": 32787,
            "count": 0
           },
           {
            "bin_start": 32787,
            "bin_end": 34455.5,
            "count": 0
           },
           {
            "bin_start": 34455.5,
            "bin_end": 36124,
            "count": 1
           },
           {
            "bin_start": 36124,
            "bin_end": 37792.5,
            "count": 1
           },
           {
            "bin_start": 37792.5,
            "bin_end": 39461,
            "count": 0
           },
           {
            "bin_start": 39461,
            "bin_end": 41129.5,
            "count": 1
           },
           {
            "bin_start": 41129.5,
            "bin_end": 42798,
            "count": 0
           },
           {
            "bin_start": 42798,
            "bin_end": 44466.5,
            "count": 0
           },
           {
            "bin_start": 44466.5,
            "bin_end": 46135,
            "count": 1
           }
          ]
         }
        },
        {
         "name": "_deepnote_index_column",
         "dtype": "int64"
        }
       ],
       "rows": [
        {
         "make": "bmw",
         "model": "1_series_m",
         "year": 2011,
         "engine_fuel_type": "premium_unleaded_(required)",
         "engine_hp": 335,
         "engine_cylinders": 6,
         "transmission_type": "manual",
         "driven_wheels": "rear_wheel_drive",
         "number_of_doors": 2,
         "market_category": "factory_tuner,luxury,high-performance",
         "vehicle_size": "compact",
         "vehicle_style": "coupe",
         "highway_mpg": 26,
         "city_mpg": 19,
         "popularity": 3916,
         "msrp": 46135,
         "_deepnote_index_column": 0
        },
        {
         "make": "bmw",
         "model": "1_series",
         "year": 2011,
         "engine_fuel_type": "premium_unleaded_(required)",
         "engine_hp": 300,
         "engine_cylinders": 6,
         "transmission_type": "manual",
         "driven_wheels": "rear_wheel_drive",
         "number_of_doors": 2,
         "market_category": "luxury,performance",
         "vehicle_size": "compact",
         "vehicle_style": "convertible",
         "highway_mpg": 28,
         "city_mpg": 19,
         "popularity": 3916,
         "msrp": 40650,
         "_deepnote_index_column": 1
        },
        {
         "make": "bmw",
         "model": "1_series",
         "year": 2011,
         "engine_fuel_type": "premium_unleaded_(required)",
         "engine_hp": 300,
         "engine_cylinders": 6,
         "transmission_type": "manual",
         "driven_wheels": "rear_wheel_drive",
         "number_of_doors": 2,
         "market_category": "luxury,high-performance",
         "vehicle_size": "compact",
         "vehicle_style": "coupe",
         "highway_mpg": 28,
         "city_mpg": 20,
         "popularity": 3916,
         "msrp": 36350,
         "_deepnote_index_column": 2
        },
        {
         "make": "bmw",
         "model": "1_series",
         "year": 2011,
         "engine_fuel_type": "premium_unleaded_(required)",
         "engine_hp": 230,
         "engine_cylinders": 6,
         "transmission_type": "manual",
         "driven_wheels": "rear_wheel_drive",
         "number_of_doors": 2,
         "market_category": "luxury,performance",
         "vehicle_size": "compact",
         "vehicle_style": "coupe",
         "highway_mpg": 28,
         "city_mpg": 18,
         "popularity": 3916,
         "msrp": 29450,
         "_deepnote_index_column": 3
        },
        {
         "make": "bmw",
         "model": "1_series",
         "year": 2011,
         "engine_fuel_type": "premium_unleaded_(required)",
         "engine_hp": 230,
         "engine_cylinders": 6,
         "transmission_type": "manual",
         "driven_wheels": "rear_wheel_drive",
         "number_of_doors": 2,
         "market_category": "luxury",
         "vehicle_size": "compact",
         "vehicle_style": "convertible",
         "highway_mpg": 28,
         "city_mpg": 18,
         "popularity": 3916,
         "msrp": 34500,
         "_deepnote_index_column": 4
        }
       ]
      },
      "text/plain": "  make       model  year             engine_fuel_type  engine_hp  \\\n0  bmw  1_series_m  2011  premium_unleaded_(required)      335.0   \n1  bmw    1_series  2011  premium_unleaded_(required)      300.0   \n2  bmw    1_series  2011  premium_unleaded_(required)      300.0   \n3  bmw    1_series  2011  premium_unleaded_(required)      230.0   \n4  bmw    1_series  2011  premium_unleaded_(required)      230.0   \n\n   engine_cylinders transmission_type     driven_wheels  number_of_doors  \\\n0               6.0            manual  rear_wheel_drive              2.0   \n1               6.0            manual  rear_wheel_drive              2.0   \n2               6.0            manual  rear_wheel_drive              2.0   \n3               6.0            manual  rear_wheel_drive              2.0   \n4               6.0            manual  rear_wheel_drive              2.0   \n\n                         market_category vehicle_size vehicle_style  \\\n0  factory_tuner,luxury,high-performance      compact         coupe   \n1                     luxury,performance      compact   convertible   \n2                luxury,high-performance      compact         coupe   \n3                     luxury,performance      compact         coupe   \n4                                 luxury      compact   convertible   \n\n   highway_mpg  city_mpg  popularity   msrp  \n0           26        19        3916  46135  \n1           28        19        3916  40650  \n2           28        20        3916  36350  \n3           28        18        3916  29450  \n4           28        18        3916  34500  ",
      "text/html": "<div>\n<style scoped>\n    .dataframe tbody tr th:only-of-type {\n        vertical-align: middle;\n    }\n\n    .dataframe tbody tr th {\n        vertical-align: top;\n    }\n\n    .dataframe thead th {\n        text-align: right;\n    }\n</style>\n<table border=\"1\" class=\"dataframe\">\n  <thead>\n    <tr style=\"text-align: right;\">\n      <th></th>\n      <th>make</th>\n      <th>model</th>\n      <th>year</th>\n      <th>engine_fuel_type</th>\n      <th>engine_hp</th>\n      <th>engine_cylinders</th>\n      <th>transmission_type</th>\n      <th>driven_wheels</th>\n      <th>number_of_doors</th>\n      <th>market_category</th>\n      <th>vehicle_size</th>\n      <th>vehicle_style</th>\n      <th>highway_mpg</th>\n      <th>city_mpg</th>\n      <th>popularity</th>\n      <th>msrp</th>\n    </tr>\n  </thead>\n  <tbody>\n    <tr>\n      <th>0</th>\n      <td>bmw</td>\n      <td>1_series_m</td>\n      <td>2011</td>\n      <td>premium_unleaded_(required)</td>\n      <td>335.0</td>\n      <td>6.0</td>\n      <td>manual</td>\n      <td>rear_wheel_drive</td>\n      <td>2.0</td>\n      <td>factory_tuner,luxury,high-performance</td>\n      <td>compact</td>\n      <td>coupe</td>\n      <td>26</td>\n      <td>19</td>\n      <td>3916</td>\n      <td>46135</td>\n    </tr>\n    <tr>\n      <th>1</th>\n      <td>bmw</td>\n      <td>1_series</td>\n      <td>2011</td>\n      <td>premium_unleaded_(required)</td>\n      <td>300.0</td>\n      <td>6.0</td>\n      <td>manual</td>\n      <td>rear_wheel_drive</td>\n      <td>2.0</td>\n      <td>luxury,performance</td>\n      <td>compact</td>\n      <td>convertible</td>\n      <td>28</td>\n      <td>19</td>\n      <td>3916</td>\n      <td>40650</td>\n    </tr>\n    <tr>\n      <th>2</th>\n      <td>bmw</td>\n      <td>1_series</td>\n      <td>2011</td>\n      <td>premium_unleaded_(required)</td>\n      <td>300.0</td>\n      <td>6.0</td>\n      <td>manual</td>\n      <td>rear_wheel_drive</td>\n      <td>2.0</td>\n      <td>luxury,high-performance</td>\n      <td>compact</td>\n      <td>coupe</td>\n      <td>28</td>\n      <td>20</td>\n      <td>3916</td>\n      <td>36350</td>\n    </tr>\n    <tr>\n      <th>3</th>\n      <td>bmw</td>\n      <td>1_series</td>\n      <td>2011</td>\n      <td>premium_unleaded_(required)</td>\n      <td>230.0</td>\n      <td>6.0</td>\n      <td>manual</td>\n      <td>rear_wheel_drive</td>\n      <td>2.0</td>\n      <td>luxury,performance</td>\n      <td>compact</td>\n      <td>coupe</td>\n      <td>28</td>\n      <td>18</td>\n      <td>3916</td>\n      <td>29450</td>\n    </tr>\n    <tr>\n      <th>4</th>\n      <td>bmw</td>\n      <td>1_series</td>\n      <td>2011</td>\n      <td>premium_unleaded_(required)</td>\n      <td>230.0</td>\n      <td>6.0</td>\n      <td>manual</td>\n      <td>rear_wheel_drive</td>\n      <td>2.0</td>\n      <td>luxury</td>\n      <td>compact</td>\n      <td>convertible</td>\n      <td>28</td>\n      <td>18</td>\n      <td>3916</td>\n      <td>34500</td>\n    </tr>\n  </tbody>\n</table>\n</div>"
     },
     "metadata": {}
    }
   ]
  },
  {
   "cell_type": "code",
   "metadata": {
    "cell_id": "575248e1eeab43adb8d0bf8f635b9857",
    "tags": [],
    "deepnote_to_be_reexecuted": false,
    "source_hash": "36eb0ff7",
    "execution_start": 1657012674106,
    "execution_millis": 52,
    "deepnote_cell_type": "code",
    "deepnote_cell_height": 809
   },
   "source": "# Exloratory data analyst\nfor col in df.columns:\n    print(col)\n    print(df[col].unique()[:5])     #list of unique values in the series\n    \n    print(df[col].nunique())\n    print()",
   "execution_count": 7,
   "outputs": [
    {
     "name": "stdout",
     "text": "make\n['bmw' 'audi' 'fiat' 'mercedes-benz' 'chrysler']\n48\n\nmodel\n['1_series_m' '1_series' '100' '124_spider' '190-class']\n914\n\nyear\n[2011 2012 2013 1992 1993]\n28\n\nengine_fuel_type\n['premium_unleaded_(required)' 'regular_unleaded'\n 'premium_unleaded_(recommended)' 'flex-fuel_(unleaded/e85)' 'diesel']\n10\n\nengine_hp\n[335. 300. 230. 320. 172.]\n356\n\nengine_cylinders\n[ 6.  4.  5.  8. 12.]\n9\n\ntransmission_type\n['manual' 'automatic' 'automated_manual' 'direct_drive' 'unknown']\n5\n\ndriven_wheels\n['rear_wheel_drive' 'front_wheel_drive' 'all_wheel_drive'\n 'four_wheel_drive']\n4\n\nnumber_of_doors\n[ 2.  4.  3. nan]\n3\n\nmarket_category\n['factory_tuner,luxury,high-performance' 'luxury,performance'\n 'luxury,high-performance' 'luxury' 'performance']\n71\n\nvehicle_size\n['compact' 'midsize' 'large']\n3\n\nvehicle_style\n['coupe' 'convertible' 'sedan' 'wagon' '4dr_hatchback']\n16\n\nhighway_mpg\n[26 28 27 25 24]\n59\n\ncity_mpg\n[19 20 18 17 16]\n69\n\npopularity\n[3916 3105  819  617 1013]\n48\n\nmsrp\n[46135 40650 36350 29450 34500]\n6049\n\n",
     "output_type": "stream"
    }
   ]
  },
  {
   "cell_type": "code",
   "metadata": {
    "cell_id": "ccab899f855c4d8bbf5522500abbde33",
    "tags": [],
    "deepnote_to_be_reexecuted": false,
    "source_hash": "aa4245b9",
    "execution_start": 1657012674160,
    "execution_millis": 1943,
    "deepnote_cell_type": "code",
    "deepnote_cell_height": 153
   },
   "source": "import matplotlib.pyplot as plt\nimport seaborn as sns\n\n%matplotlib inline\n",
   "execution_count": 8,
   "outputs": []
  },
  {
   "cell_type": "code",
   "metadata": {
    "cell_id": "d0c0e3515ba64098a0b6c63f403dbc26",
    "tags": [],
    "deepnote_to_be_reexecuted": false,
    "source_hash": "1df33de4",
    "execution_start": 1657012676121,
    "execution_millis": 266,
    "deepnote_cell_type": "code",
    "deepnote_cell_height": 413.1875,
    "deepnote_output_heights": [
     21.1875,
     264
    ]
   },
   "source": "sns.histplot(df.msrp,bins = 20)  #distribution of price",
   "execution_count": 9,
   "outputs": [
    {
     "output_type": "execute_result",
     "execution_count": 9,
     "data": {
      "text/plain": "<AxesSubplot:xlabel='msrp', ylabel='Count'>"
     },
     "metadata": {}
    },
    {
     "data": {
      "text/plain": "<Figure size 432x288 with 1 Axes>",
      "image/png": "[encoded data removed]"
     },
     "metadata": {
      "needs_background": "light",
      "image/png": {
       "width": 401,
       "height": 262
      }
     },
     "output_type": "display_data"
    }
   ]
  },
  {
   "cell_type": "code",
   "metadata": {
    "cell_id": "6f6bbab947ba497bb647d193cf49cd61",
    "tags": [],
    "deepnote_to_be_reexecuted": false,
    "source_hash": "c5b130c1",
    "execution_start": 1657012676364,
    "execution_millis": 300,
    "deepnote_cell_type": "code",
    "deepnote_cell_height": 414.1875,
    "deepnote_output_heights": [
     21.1875,
     265
    ]
   },
   "source": "sns.histplot(df.msrp[df.msrp < 100000],bins = 60)  # long-tail distributions",
   "execution_count": 10,
   "outputs": [
    {
     "output_type": "execute_result",
     "execution_count": 10,
     "data": {
      "text/plain": "<AxesSubplot:xlabel='msrp', ylabel='Count'>"
     },
     "metadata": {}
    },
    {
     "data": {
      "text/plain": "<Figure size 432x288 with 1 Axes>",
      "image/png": "[encoded data removed]"
     },
     "metadata": {
      "needs_background": "light",
      "image/png": {
       "width": 399,
       "height": 263
      }
     },
     "output_type": "display_data"
    }
   ]
  },
  {
   "cell_type": "code",
   "metadata": {
    "cell_id": "d8443562891743c4930db0727e32be93",
    "tags": [],
    "deepnote_to_be_reexecuted": false,
    "source_hash": "67668246",
    "execution_start": 1657012676671,
    "execution_millis": 279,
    "deepnote_cell_type": "code",
    "deepnote_cell_height": 449.1875,
    "deepnote_output_heights": [
     21.1875,
     264
    ]
   },
   "source": "msrp_logs = np.log1p(df.msrp)\nsns.histplot(msrp_logs,bins = 50)\n# normal distribution",
   "execution_count": 11,
   "outputs": [
    {
     "output_type": "execute_result",
     "execution_count": 11,
     "data": {
      "text/plain": "<AxesSubplot:xlabel='msrp', ylabel='Count'>"
     },
     "metadata": {}
    },
    {
     "data": {
      "text/plain": "<Figure size 432x288 with 1 Axes>",
      "image/png": "[encoded data removed]"
     },
     "metadata": {
      "needs_background": "light",
      "image/png": {
       "width": 395,
       "height": 262
      }
     },
     "output_type": "display_data"
    }
   ]
  },
  {
   "cell_type": "code",
   "metadata": {
    "cell_id": "d89d5eb6ae504ff48195e93a91748c9e",
    "tags": [],
    "deepnote_to_be_reexecuted": false,
    "source_hash": "c16fe3bf",
    "execution_start": 1657012676953,
    "execution_millis": 19,
    "deepnote_cell_type": "code",
    "deepnote_cell_height": 443.1875,
    "deepnote_output_heights": [
     328.1875
    ]
   },
   "source": "# missing value\ndf.isnull().sum()",
   "execution_count": 12,
   "outputs": [
    {
     "output_type": "execute_result",
     "execution_count": 12,
     "data": {
      "text/plain": "make                    0\nmodel                   0\nyear                    0\nengine_fuel_type        3\nengine_hp              69\nengine_cylinders       30\ntransmission_type       0\ndriven_wheels           0\nnumber_of_doors         6\nmarket_category      3742\nvehicle_size            0\nvehicle_style           0\nhighway_mpg             0\ncity_mpg                0\npopularity              0\nmsrp                    0\ndtype: int64"
     },
     "metadata": {}
    }
   ]
  },
  {
   "cell_type": "code",
   "metadata": {
    "cell_id": "982e4aacd5b541b6a21e1c252187d212",
    "tags": [],
    "deepnote_to_be_reexecuted": false,
    "source_hash": "68e6e4ee",
    "execution_start": 1657012676977,
    "execution_millis": 6,
    "deepnote_cell_type": "code",
    "deepnote_cell_height": 244.1875,
    "deepnote_output_heights": [
     21.1875
    ]
   },
   "source": "# Setting validation framework\nn = len(df)\n\nn_val = int(n * 0.2)\nn_test = int(n * 0.2)\nn_train = n - n_val - n_test\n\nn_val, n_train, n_test",
   "execution_count": 13,
   "outputs": [
    {
     "output_type": "execute_result",
     "execution_count": 13,
     "data": {
      "text/plain": "(2382, 7150, 2382)"
     },
     "metadata": {}
    }
   ]
  },
  {
   "cell_type": "code",
   "metadata": {
    "cell_id": "452dfec4c6d74fb191f9a2a536fc3841",
    "tags": [],
    "deepnote_to_be_reexecuted": false,
    "source_hash": "d8ece95a",
    "execution_start": 1657012676984,
    "execution_millis": 3,
    "deepnote_cell_type": "code",
    "deepnote_cell_height": 171
   },
   "source": "# df_val = df.iloc[:n_val]\n# df_test = df.iloc[n_val:n_val+n_test]\n# df_train = df.iloc[n_val+n_test:]\ndf_train = df.iloc[:n_train]\ndf_val = df.iloc[n_train:n_train+n_val]\ndf_test = df.iloc[n_train+n_val:]",
   "execution_count": 14,
   "outputs": []
  },
  {
   "cell_type": "code",
   "metadata": {
    "cell_id": "9e6b141935a745d08a476a9070a10373",
    "tags": [],
    "deepnote_to_be_reexecuted": false,
    "source_hash": "b69ec405",
    "execution_start": 1657012676992,
    "execution_millis": 60,
    "deepnote_cell_type": "code",
    "deepnote_cell_height": 518
   },
   "source": "idx = np.arange(n)\nnp.random.seed(2)\nnp.random.shuffle(idx)\ndf_train = df.iloc[idx[:n_train]]\ndf_val = df.iloc[idx[n_train:n_train+n_val]]\ndf_test = df.iloc[idx[n_train+n_val:]]\ndf_train.head()",
   "execution_count": 15,
   "outputs": [
    {
     "output_type": "execute_result",
     "execution_count": 15,
     "data": {
      "application/vnd.deepnote.dataframe.v3+json": {
       "column_count": 16,
       "row_count": 5,
       "columns": [
        {
         "name": "make",
         "dtype": "object",
         "stats": {
          "unique_count": 5,
          "nan_count": 0,
          "categories": [
           {
            "name": "chevrolet",
            "count": 1
           },
           {
            "name": "toyota",
            "count": 1
           },
           {
            "name": "3 others",
            "count": 3
           }
          ]
         }
        },
        {
         "name": "model",
         "dtype": "object",
         "stats": {
          "unique_count": 5,
          "nan_count": 0,
          "categories": [
           {
            "name": "cobalt",
            "count": 1
           },
           {
            "name": "matrix",
            "count": 1
           },
           {
            "name": "3 others",
            "count": 3
           }
          ]
         }
        },
        {
         "name": "year",
         "dtype": "int64",
         "stats": {
          "unique_count": 5,
          "nan_count": 0,
          "min": "1991",
          "max": "2017",
          "histogram": [
           {
            "bin_start": 1991,
            "bin_end": 1993.6,
            "count": 1
           },
           {
            "bin_start": 1993.6,
            "bin_end": 1996.2,
            "count": 0
           },
           {
            "bin_start": 1996.2,
            "bin_end": 1998.8,
            "count": 0
           },
           {
            "bin_start": 1998.8,
            "bin_end": 2001.4,
            "count": 0
           },
           {
            "bin_start": 2001.4,
            "bin_end": 2004,
            "count": 0
           },
           {
            "bin_start": 2004,
            "bin_end": 2006.6,
            "count": 0
           },
           {
            "bin_start": 2006.6,
            "bin_end": 2009.2,
            "count": 1
           },
           {
            "bin_start": 2009.2,
            "bin_end": 2011.8,
            "count": 0
           },
           {
            "bin_start": 2011.8,
            "bin_end": 2014.4,
            "count": 1
           },
           {
            "bin_start": 2014.4,
            "bin_end": 2017,
            "count": 2
           }
          ]
         }
        },
        {
         "name": "engine_fuel_type",
         "dtype": "object",
         "stats": {
          "unique_count": 2,
          "nan_count": 0,
          "categories": [
           {
            "name": "regular_unleaded",
            "count": 4
           },
           {
            "name": "flex-fuel_(unleaded/e85)",
            "count": 1
           }
          ]
         }
        },
        {
         "name": "engine_hp",
         "dtype": "float64",
         "stats": {
          "unique_count": 4,
          "nan_count": 0,
          "min": "90.0",
          "max": "385.0",
          "histogram": [
           {
            "bin_start": 90,
            "bin_end": 119.5,
            "count": 1
           },
           {
            "bin_start": 119.5,
            "bin_end": 149,
            "count": 3
           },
           {
            "bin_start": 149,
            "bin_end": 178.5,
            "count": 0
           },
           {
            "bin_start": 178.5,
            "bin_end": 208,
            "count": 0
           },
           {
            "bin_start": 208,
            "bin_end": 237.5,
            "count": 0
           },
           {
            "bin_start": 237.5,
            "bin_end": 267,
            "count": 0
           },
           {
            "bin_start": 267,
            "bin_end": 296.5,
            "count": 0
           },
           {
            "bin_start": 296.5,
            "bin_end": 326,
            "count": 0
           },
           {
            "bin_start": 326,
            "bin_end": 355.5,
            "count": 0
           },
           {
            "bin_start": 355.5,
            "bin_end": 385,
            "count": 1
           }
          ]
         }
        },
        {
         "name": "engine_cylinders",
         "dtype": "float64",
         "stats": {
          "unique_count": 2,
          "nan_count": 0,
          "min": "4.0",
          "max": "8.0",
          "histogram": [
           {
            "bin_start": 4,
            "bin_end": 4.4,
            "count": 4
           },
           {
            "bin_start": 4.4,
            "bin_end": 4.8,
            "count": 0
           },
           {
            "bin_start": 4.8,
            "bin_end": 5.2,
            "count": 0
           },
           {
            "bin_start": 5.2,
            "bin_end": 5.6,
            "count": 0
           },
           {
            "bin_start": 5.6,
            "bin_end": 6,
            "count": 0
           },
           {
            "bin_start": 6,
            "bin_end": 6.4,
            "count": 0
           },
           {
            "bin_start": 6.4,
            "bin_end": 6.800000000000001,
            "count": 0
           },
           {
            "bin_start": 6.800000000000001,
            "bin_end": 7.2,
            "count": 0
           },
           {
            "bin_start": 7.2,
            "bin_end": 7.6,
            "count": 0
           },
           {
            "bin_start": 7.6,
            "bin_end": 8,
            "count": 1
           }
          ]
         }
        },
        {
         "name": "transmission_type",
         "dtype": "object",
         "stats": {
          "unique_count": 2,
          "nan_count": 0,
          "categories": [
           {
            "name": "automatic",
            "count": 3
           },
           {
            "name": "manual",
            "count": 2
           }
          ]
         }
        },
        {
         "name": "driven_wheels",
         "dtype": "object",
         "stats": {
          "unique_count": 4,
          "nan_count": 0,
          "categories": [
           {
            "name": "front_wheel_drive",
            "count": 2
           },
           {
            "name": "all_wheel_drive",
            "count": 1
           },
           {
            "name": "2 others",
            "count": 2
           }
          ]
         }
        },
        {
         "name": "number_of_doors",
         "dtype": "float64",
         "stats": {
          "unique_count": 3,
          "nan_count": 0,
          "min": "2.0",
          "max": "4.0",
          "histogram": [
           {
            "bin_start": 2,
            "bin_end": 2.2,
            "count": 1
           },
           {
            "bin_start": 2.2,
            "bin_end": 2.4,
            "count": 0
           },
           {
            "bin_start": 2.4,
            "bin_end": 2.6,
            "count": 0
           },
           {
            "bin_start": 2.6,
            "bin_end": 2.8,
            "count": 0
           },
           {
            "bin_start": 2.8,
            "bin_end": 3,
            "count": 0
           },
           {
            "bin_start": 3,
            "bin_end": 3.2,
            "count": 1
           },
           {
            "bin_start": 3.2,
            "bin_end": 3.4000000000000004,
            "count": 0
           },
           {
            "bin_start": 3.4000000000000004,
            "bin_end": 3.6,
            "count": 0
           },
           {
            "bin_start": 3.6,
            "bin_end": 3.8,
            "count": 0
           },
           {
            "bin_start": 3.8,
            "bin_end": 4,
            "count": 3
           }
          ]
         }
        },
        {
         "name": "market_category",
         "dtype": "object",
         "stats": {
          "unique_count": 2,
          "nan_count": 2,
          "categories": [
           {
            "name": "hatchback",
            "count": 2
           },
           {
            "name": "flex_fuel",
            "count": 1
           },
           {
            "name": "Missing",
            "count": 2
           }
          ]
         }
        },
        {
         "name": "vehicle_size",
         "dtype": "object",
         "stats": {
          "unique_count": 2,
          "nan_count": 0,
          "categories": [
           {
            "name": "compact",
            "count": 3
           },
           {
            "name": "large",
            "count": 2
           }
          ]
         }
        },
        {
         "name": "vehicle_style",
         "dtype": "object",
         "stats": {
          "unique_count": 4,
          "nan_count": 0,
          "categories": [
           {
            "name": "4dr_hatchback",
            "count": 2
           },
           {
            "name": "coupe",
            "count": 1
           },
           {
            "name": "2 others",
            "count": 2
           }
          ]
         }
        },
        {
         "name": "highway_mpg",
         "dtype": "int64",
         "stats": {
          "unique_count": 5,
          "nan_count": 0,
          "min": "18",
          "max": "37",
          "histogram": [
           {
            "bin_start": 18,
            "bin_end": 19.9,
            "count": 1
           },
           {
            "bin_start": 19.9,
            "bin_end": 21.8,
            "count": 1
           },
           {
            "bin_start": 21.8,
            "bin_end": 23.7,
            "count": 0
           },
           {
            "bin_start": 23.7,
            "bin_end": 25.6,
            "count": 0
           },
           {
            "bin_start": 25.6,
            "bin_end": 27.5,
            "count": 0
           },
           {
            "bin_start": 27.5,
            "bin_end": 29.4,
            "count": 0
           },
           {
            "bin_start": 29.4,
            "bin_end": 31.299999999999997,
            "count": 0
           },
           {
            "bin_start": 31.299999999999997,
            "bin_end": 33.2,
            "count": 2
           },
           {
            "bin_start": 33.2,
            "bin_end": 35.099999999999994,
            "count": 0
           },
           {
            "bin_start": 35.099999999999994,
            "bin_end": 37,
            "count": 1
           }
          ]
         }
        },
        {
         "name": "city_mpg",
         "dtype": "int64",
         "stats": {
          "unique_count": 5,
          "nan_count": 0,
          "min": "15",
          "max": "28",
          "histogram": [
           {
            "bin_start": 15,
            "bin_end": 16.3,
            "count": 2
           },
           {
            "bin_start": 16.3,
            "bin_end": 17.6,
            "count": 0
           },
           {
            "bin_start": 17.6,
            "bin_end": 18.9,
            "count": 0
           },
           {
            "bin_start": 18.9,
            "bin_end": 20.2,
            "count": 0
           },
           {
            "bin_start": 20.2,
            "bin_end": 21.5,
            "count": 0
           },
           {
            "bin_start": 21.5,
            "bin_end": 22.8,
            "count": 0
           },
           {
            "bin_start": 22.8,
            "bin_end": 24.1,
            "count": 1
           },
           {
            "bin_start": 24.1,
            "bin_end": 25.4,
            "count": 1
           },
           {
            "bin_start": 25.4,
            "bin_end": 26.700000000000003,
            "count": 0
           },
           {
            "bin_start": 26.700000000000003,
            "bin_end": 28,
            "count": 1
           }
          ]
         }
        },
        {
         "name": "popularity",
         "dtype": "int64",
         "stats": {
          "unique_count": 5,
          "nan_count": 0,
          "min": "640",
          "max": "5657",
          "histogram": [
           {
            "bin_start": 640,
            "bin_end": 1141.7,
            "count": 2
           },
           {
            "bin_start": 1141.7,
            "bin_end": 1643.4,
            "count": 1
           },
           {
            "bin_start": 1643.4,
            "bin_end": 2145.1,
            "count": 1
           },
           {
            "bin_start": 2145.1,
            "bin_end": 2646.8,
            "count": 0
           },
           {
            "bin_start": 2646.8,
            "bin_end": 3148.5,
            "count": 0
           },
           {
            "bin_start": 3148.5,
            "bin_end": 3650.2,
            "count": 0
           },
           {
            "bin_start": 3650.2,
            "bin_end": 4151.9,
            "count": 0
           },
           {
            "bin_start": 4151.9,
            "bin_end": 4653.6,
            "count": 0
           },
           {
            "bin_start": 4653.6,
            "bin_end": 5155.3,
            "count": 0
           },
           {
            "bin_start": 5155.3,
            "bin_end": 5657,
            "count": 1
           }
          ]
         }
        },
        {
         "name": "msrp",
         "dtype": "int64",
         "stats": {
          "unique_count": 5,
          "nan_count": 0,
          "min": "2000",
          "max": "56260",
          "histogram": [
           {
            "bin_start": 2000,
            "bin_end": 7426,
            "count": 1
           },
           {
            "bin_start": 7426,
            "bin_end": 12852,
            "count": 0
           },
           {
            "bin_start": 12852,
            "bin_end": 18278,
            "count": 1
           },
           {
            "bin_start": 18278,
            "bin_end": 23704,
            "count": 2
           },
           {
            "bin_start": 23704,
            "bin_end": 29130,
            "count": 0
           },
           {
            "bin_start": 29130,
            "bin_end": 34556,
            "count": 0
           },
           {
            "bin_start": 34556,
            "bin_end": 39982,
            "count": 0
           },
           {
            "bin_start": 39982,
            "bin_end": 45408,
            "count": 0
           },
           {
            "bin_start": 45408,
            "bin_end": 50834,
            "count": 0
           },
           {
            "bin_start": 50834,
            "bin_end": 56260,
            "count": 1
           }
          ]
         }
        },
        {
         "name": "_deepnote_index_column",
         "dtype": "int64"
        }
       ],
       "rows": [
        {
         "make": "chevrolet",
         "model": "cobalt",
         "year": 2008,
         "engine_fuel_type": "regular_unleaded",
         "engine_hp": 148,
         "engine_cylinders": 4,
         "transmission_type": "manual",
         "driven_wheels": "front_wheel_drive",
         "number_of_doors": 2,
         "market_category": "nan",
         "vehicle_size": "compact",
         "vehicle_style": "coupe",
         "highway_mpg": 33,
         "city_mpg": 24,
         "popularity": 1385,
         "msrp": 14410,
         "_deepnote_index_column": 2735
        },
        {
         "make": "toyota",
         "model": "matrix",
         "year": 2012,
         "engine_fuel_type": "regular_unleaded",
         "engine_hp": 132,
         "engine_cylinders": 4,
         "transmission_type": "automatic",
         "driven_wheels": "front_wheel_drive",
         "number_of_doors": 4,
         "market_category": "hatchback",
         "vehicle_size": "compact",
         "vehicle_style": "4dr_hatchback",
         "highway_mpg": 32,
         "city_mpg": 25,
         "popularity": 2031,
         "msrp": 19685,
         "_deepnote_index_column": 6720
        },
        {
         "make": "subaru",
         "model": "impreza",
         "year": 2016,
         "engine_fuel_type": "regular_unleaded",
         "engine_hp": 148,
         "engine_cylinders": 4,
         "transmission_type": "automatic",
         "driven_wheels": "all_wheel_drive",
         "number_of_doors": 4,
         "market_category": "hatchback",
         "vehicle_size": "compact",
         "vehicle_style": "4dr_hatchback",
         "highway_mpg": 37,
         "city_mpg": 28,
         "popularity": 640,
         "msrp": 19795,
         "_deepnote_index_column": 5878
        },
        {
         "make": "volkswagen",
         "model": "vanagon",
         "year": 1991,
         "engine_fuel_type": "regular_unleaded",
         "engine_hp": 90,
         "engine_cylinders": 4,
         "transmission_type": "manual",
         "driven_wheels": "rear_wheel_drive",
         "number_of_doors": 3,
         "market_category": "nan",
         "vehicle_size": "large",
         "vehicle_style": "passenger_minivan",
         "highway_mpg": 18,
         "city_mpg": 16,
         "popularity": 873,
         "msrp": 2000,
         "_deepnote_index_column": 11190
        },
        {
         "make": "ford",
         "model": "f-150",
         "year": 2017,
         "engine_fuel_type": "flex-fuel_(unleaded/e85)",
         "engine_hp": 385,
         "engine_cylinders": 8,
         "transmission_type": "automatic",
         "driven_wheels": "four_wheel_drive",
         "number_of_doors": 4,
         "market_category": "flex_fuel",
         "vehicle_size": "large",
         "vehicle_style": "crew_cab_pickup",
         "highway_mpg": 21,
         "city_mpg": 15,
         "popularity": 5657,
         "msrp": 56260,
         "_deepnote_index_column": 4554
        }
       ]
      },
      "text/plain": "             make    model  year          engine_fuel_type  engine_hp  \\\n2735    chevrolet   cobalt  2008          regular_unleaded      148.0   \n6720       toyota   matrix  2012          regular_unleaded      132.0   \n5878       subaru  impreza  2016          regular_unleaded      148.0   \n11190  volkswagen  vanagon  1991          regular_unleaded       90.0   \n4554         ford    f-150  2017  flex-fuel_(unleaded/e85)      385.0   \n\n       engine_cylinders transmission_type      driven_wheels  number_of_doors  \\\n2735                4.0            manual  front_wheel_drive              2.0   \n6720                4.0         automatic  front_wheel_drive              4.0   \n5878                4.0         automatic    all_wheel_drive              4.0   \n11190               4.0            manual   rear_wheel_drive              3.0   \n4554                8.0         automatic   four_wheel_drive              4.0   \n\n      market_category vehicle_size      vehicle_style  highway_mpg  city_mpg  \\\n2735              NaN      compact              coupe           33        24   \n6720        hatchback      compact      4dr_hatchback           32        25   \n5878        hatchback      compact      4dr_hatchback           37        28   \n11190             NaN        large  passenger_minivan           18        16   \n4554        flex_fuel        large    crew_cab_pickup           21        15   \n\n       popularity   msrp  \n2735         1385  14410  \n6720         2031  19685  \n5878          640  19795  \n11190         873   2000  \n4554         5657  56260  ",
      "text/html": "<div>\n<style scoped>\n    .dataframe tbody tr th:only-of-type {\n        vertical-align: middle;\n    }\n\n    .dataframe tbody tr th {\n        vertical-align: top;\n    }\n\n    .dataframe thead th {\n        text-align: right;\n    }\n</style>\n<table border=\"1\" class=\"dataframe\">\n  <thead>\n    <tr style=\"text-align: right;\">\n      <th></th>\n      <th>make</th>\n      <th>model</th>\n      <th>year</th>\n      <th>engine_fuel_type</th>\n      <th>engine_hp</th>\n      <th>engine_cylinders</th>\n      <th>transmission_type</th>\n      <th>driven_wheels</th>\n      <th>number_of_doors</th>\n      <th>market_category</th>\n      <th>vehicle_size</th>\n      <th>vehicle_style</th>\n      <th>highway_mpg</th>\n      <th>city_mpg</th>\n      <th>popularity</th>\n      <th>msrp</th>\n    </tr>\n  </thead>\n  <tbody>\n    <tr>\n      <th>2735</th>\n      <td>chevrolet</td>\n      <td>cobalt</td>\n      <td>2008</td>\n      <td>regular_unleaded</td>\n      <td>148.0</td>\n      <td>4.0</td>\n      <td>manual</td>\n      <td>front_wheel_drive</td>\n      <td>2.0</td>\n      <td>NaN</td>\n      <td>compact</td>\n      <td>coupe</td>\n      <td>33</td>\n      <td>24</td>\n      <td>1385</td>\n      <td>14410</td>\n    </tr>\n    <tr>\n      <th>6720</th>\n      <td>toyota</td>\n      <td>matrix</td>\n      <td>2012</td>\n      <td>regular_unleaded</td>\n      <td>132.0</td>\n      <td>4.0</td>\n      <td>automatic</td>\n      <td>front_wheel_drive</td>\n      <td>4.0</td>\n      <td>hatchback</td>\n      <td>compact</td>\n      <td>4dr_hatchback</td>\n      <td>32</td>\n      <td>25</td>\n      <td>2031</td>\n      <td>19685</td>\n    </tr>\n    <tr>\n      <th>5878</th>\n      <td>subaru</td>\n      <td>impreza</td>\n      <td>2016</td>\n      <td>regular_unleaded</td>\n      <td>148.0</td>\n      <td>4.0</td>\n      <td>automatic</td>\n      <td>all_wheel_drive</td>\n      <td>4.0</td>\n      <td>hatchback</td>\n      <td>compact</td>\n      <td>4dr_hatchback</td>\n      <td>37</td>\n      <td>28</td>\n      <td>640</td>\n      <td>19795</td>\n    </tr>\n    <tr>\n      <th>11190</th>\n      <td>volkswagen</td>\n      <td>vanagon</td>\n      <td>1991</td>\n      <td>regular_unleaded</td>\n      <td>90.0</td>\n      <td>4.0</td>\n      <td>manual</td>\n      <td>rear_wheel_drive</td>\n      <td>3.0</td>\n      <td>NaN</td>\n      <td>large</td>\n      <td>passenger_minivan</td>\n      <td>18</td>\n      <td>16</td>\n      <td>873</td>\n      <td>2000</td>\n    </tr>\n    <tr>\n      <th>4554</th>\n      <td>ford</td>\n      <td>f-150</td>\n      <td>2017</td>\n      <td>flex-fuel_(unleaded/e85)</td>\n      <td>385.0</td>\n      <td>8.0</td>\n      <td>automatic</td>\n      <td>four_wheel_drive</td>\n      <td>4.0</td>\n      <td>flex_fuel</td>\n      <td>large</td>\n      <td>crew_cab_pickup</td>\n      <td>21</td>\n      <td>15</td>\n      <td>5657</td>\n      <td>56260</td>\n    </tr>\n  </tbody>\n</table>\n</div>"
     },
     "metadata": {}
    }
   ]
  },
  {
   "cell_type": "code",
   "metadata": {
    "cell_id": "eea36c8b0f9943cea6732506307390c4",
    "tags": [],
    "deepnote_to_be_reexecuted": false,
    "source_hash": "9800941",
    "execution_start": 1657012677056,
    "execution_millis": 142,
    "deepnote_cell_type": "code",
    "deepnote_cell_height": 464
   },
   "source": "df_train = df_train.reset_index(drop=True)\ndf_val = df_val.reset_index(drop=True)\ndf_test = df_test.reset_index(drop=True)\ndf_test.head()",
   "execution_count": 16,
   "outputs": [
    {
     "output_type": "execute_result",
     "execution_count": 16,
     "data": {
      "application/vnd.deepnote.dataframe.v3+json": {
       "column_count": 16,
       "row_count": 5,
       "columns": [
        {
         "name": "make",
         "dtype": "object",
         "stats": {
          "unique_count": 5,
          "nan_count": 0,
          "categories": [
           {
            "name": "gmc",
            "count": 1
           },
           {
            "name": "mercedes-benz",
            "count": 1
           },
           {
            "name": "3 others",
            "count": 3
           }
          ]
         }
        },
        {
         "name": "model",
         "dtype": "object",
         "stats": {
          "unique_count": 5,
          "nan_count": 0,
          "categories": [
           {
            "name": "vandura",
            "count": 1
           },
           {
            "name": "600-class",
            "count": 1
           },
           {
            "name": "3 others",
            "count": 3
           }
          ]
         }
        },
        {
         "name": "year",
         "dtype": "int64",
         "stats": {
          "unique_count": 5,
          "nan_count": 0,
          "min": "1992",
          "max": "2013",
          "histogram": [
           {
            "bin_start": 1992,
            "bin_end": 1994.1,
            "count": 3
           },
           {
            "bin_start": 1994.1,
            "bin_end": 1996.2,
            "count": 0
           },
           {
            "bin_start": 1996.2,
            "bin_end": 1998.3,
            "count": 0
           },
           {
            "bin_start": 1998.3,
            "bin_end": 2000.4,
            "count": 0
           },
           {
            "bin_start": 2000.4,
            "bin_end": 2002.5,
            "count": 0
           },
           {
            "bin_start": 2002.5,
            "bin_end": 2004.6,
            "count": 0
           },
           {
            "bin_start": 2004.6,
            "bin_end": 2006.7,
            "count": 0
           },
           {
            "bin_start": 2006.7,
            "bin_end": 2008.8,
            "count": 0
           },
           {
            "bin_start": 2008.8,
            "bin_end": 2010.9,
            "count": 1
           },
           {
            "bin_start": 2010.9,
            "bin_end": 2013,
            "count": 1
           }
          ]
         }
        },
        {
         "name": "engine_fuel_type",
         "dtype": "object",
         "stats": {
          "unique_count": 2,
          "nan_count": 0,
          "categories": [
           {
            "name": "regular_unleaded",
            "count": 4
           },
           {
            "name": "flex-fuel_(unleaded/e85)",
            "count": 1
           }
          ]
         }
        },
        {
         "name": "engine_hp",
         "dtype": "float64",
         "stats": {
          "unique_count": 5,
          "nan_count": 0,
          "min": "114.0",
          "max": "389.0",
          "histogram": [
           {
            "bin_start": 114,
            "bin_end": 141.5,
            "count": 1
           },
           {
            "bin_start": 141.5,
            "bin_end": 169,
            "count": 1
           },
           {
            "bin_start": 169,
            "bin_end": 196.5,
            "count": 0
           },
           {
            "bin_start": 196.5,
            "bin_end": 224,
            "count": 0
           },
           {
            "bin_start": 224,
            "bin_end": 251.5,
            "count": 1
           },
           {
            "bin_start": 251.5,
            "bin_end": 279,
            "count": 1
           },
           {
            "bin_start": 279,
            "bin_end": 306.5,
            "count": 0
           },
           {
            "bin_start": 306.5,
            "bin_end": 334,
            "count": 0
           },
           {
            "bin_start": 334,
            "bin_end": 361.5,
            "count": 0
           },
           {
            "bin_start": 361.5,
            "bin_end": 389,
            "count": 1
           }
          ]
         }
        },
        {
         "name": "engine_cylinders",
         "dtype": "float64",
         "stats": {
          "unique_count": 4,
          "nan_count": 0,
          "min": "4.0",
          "max": "12.0",
          "histogram": [
           {
            "bin_start": 4,
            "bin_end": 4.8,
            "count": 1
           },
           {
            "bin_start": 4.8,
            "bin_end": 5.6,
            "count": 0
           },
           {
            "bin_start": 5.6,
            "bin_end": 6.4,
            "count": 2
           },
           {
            "bin_start": 6.4,
            "bin_end": 7.2,
            "count": 0
           },
           {
            "bin_start": 7.2,
            "bin_end": 8,
            "count": 0
           },
           {
            "bin_start": 8,
            "bin_end": 8.8,
            "count": 1
           },
           {
            "bin_start": 8.8,
            "bin_end": 9.600000000000001,
            "count": 0
           },
           {
            "bin_start": 9.600000000000001,
            "bin_end": 10.4,
            "count": 0
           },
           {
            "bin_start": 10.4,
            "bin_end": 11.2,
            "count": 0
           },
           {
            "bin_start": 11.2,
            "bin_end": 12,
            "count": 1
           }
          ]
         }
        },
        {
         "name": "transmission_type",
         "dtype": "object",
         "stats": {
          "unique_count": 1,
          "nan_count": 0,
          "categories": [
           {
            "name": "automatic",
            "count": 5
           }
          ]
         }
        },
        {
         "name": "driven_wheels",
         "dtype": "object",
         "stats": {
          "unique_count": 2,
          "nan_count": 0,
          "categories": [
           {
            "name": "rear_wheel_drive",
            "count": 4
           },
           {
            "name": "all_wheel_drive",
            "count": 1
           }
          ]
         }
        },
        {
         "name": "number_of_doors",
         "dtype": "float64",
         "stats": {
          "unique_count": 3,
          "nan_count": 0,
          "min": "2.0",
          "max": "4.0",
          "histogram": [
           {
            "bin_start": 2,
            "bin_end": 2.2,
            "count": 1
           },
           {
            "bin_start": 2.2,
            "bin_end": 2.4,
            "count": 0
           },
           {
            "bin_start": 2.4,
            "bin_end": 2.6,
            "count": 0
           },
           {
            "bin_start": 2.6,
            "bin_end": 2.8,
            "count": 0
           },
           {
            "bin_start": 2.8,
            "bin_end": 3,
            "count": 0
           },
           {
            "bin_start": 3,
            "bin_end": 3.2,
            "count": 1
           },
           {
            "bin_start": 3.2,
            "bin_end": 3.4000000000000004,
            "count": 0
           },
           {
            "bin_start": 3.4000000000000004,
            "bin_end": 3.6,
            "count": 0
           },
           {
            "bin_start": 3.6,
            "bin_end": 3.8,
            "count": 0
           },
           {
            "bin_start": 3.8,
            "bin_end": 4,
            "count": 3
           }
          ]
         }
        },
        {
         "name": "market_category",
         "dtype": "object",
         "stats": {
          "unique_count": 3,
          "nan_count": 1,
          "categories": [
           {
            "name": "luxury",
            "count": 2
           },
           {
            "name": "2 others",
            "count": 2
           },
           {
            "name": "Missing",
            "count": 1
           }
          ]
         }
        },
        {
         "name": "vehicle_size",
         "dtype": "object",
         "stats": {
          "unique_count": 3,
          "nan_count": 0,
          "categories": [
           {
            "name": "large",
            "count": 2
           },
           {
            "name": "midsize",
            "count": 2
           },
           {
            "name": "compact",
            "count": 1
           }
          ]
         }
        },
        {
         "name": "vehicle_style",
         "dtype": "object",
         "stats": {
          "unique_count": 4,
          "nan_count": 0,
          "categories": [
           {
            "name": "sedan",
            "count": 2
           },
           {
            "name": "cargo_van",
            "count": 1
           },
           {
            "name": "2 others",
            "count": 2
           }
          ]
         }
        },
        {
         "name": "highway_mpg",
         "dtype": "int64",
         "stats": {
          "unique_count": 5,
          "nan_count": 0,
          "min": "15",
          "max": "26",
          "histogram": [
           {
            "bin_start": 15,
            "bin_end": 16.1,
            "count": 1
           },
           {
            "bin_start": 16.1,
            "bin_end": 17.2,
            "count": 0
           },
           {
            "bin_start": 17.2,
            "bin_end": 18.3,
            "count": 0
           },
           {
            "bin_start": 18.3,
            "bin_end": 19.4,
            "count": 0
           },
           {
            "bin_start": 19.4,
            "bin_end": 20.5,
            "count": 1
           },
           {
            "bin_start": 20.5,
            "bin_end": 21.6,
            "count": 0
           },
           {
            "bin_start": 21.6,
            "bin_end": 22.700000000000003,
            "count": 0
           },
           {
            "bin_start": 22.700000000000003,
            "bin_end": 23.8,
            "count": 0
           },
           {
            "bin_start": 23.8,
            "bin_end": 24.9,
            "count": 1
           },
           {
            "bin_start": 24.9,
            "bin_end": 26,
            "count": 2
           }
          ]
         }
        },
        {
         "name": "city_mpg",
         "dtype": "int64",
         "stats": {
          "unique_count": 4,
          "nan_count": 0,
          "min": "11",
          "max": "18",
          "histogram": [
           {
            "bin_start": 11,
            "bin_end": 11.7,
            "count": 1
           },
           {
            "bin_start": 11.7,
            "bin_end": 12.4,
            "count": 0
           },
           {
            "bin_start": 12.4,
            "bin_end": 13.1,
            "count": 0
           },
           {
            "bin_start": 13.1,
            "bin_end": 13.8,
            "count": 0
           },
           {
            "bin_start": 13.8,
            "bin_end": 14.5,
            "count": 0
           },
           {
            "bin_start": 14.5,
            "bin_end": 15.2,
            "count": 1
           },
           {
            "bin_start": 15.2,
            "bin_end": 15.899999999999999,
            "count": 0
           },
           {
            "bin_start": 15.899999999999999,
            "bin_end": 16.6,
            "count": 1
           },
           {
            "bin_start": 16.6,
            "bin_end": 17.3,
            "count": 0
           },
           {
            "bin_start": 17.3,
            "bin_end": 18,
            "count": 2
           }
          ]
         }
        },
        {
         "name": "popularity",
         "dtype": "int64",
         "stats": {
          "unique_count": 5,
          "nan_count": 0,
          "min": "549",
          "max": "5657",
          "histogram": [
           {
            "bin_start": 549,
            "bin_end": 1059.8,
            "count": 3
           },
           {
            "bin_start": 1059.8,
            "bin_end": 1570.6,
            "count": 0
           },
           {
            "bin_start": 1570.6,
            "bin_end": 2081.4,
            "count": 1
           },
           {
            "bin_start": 2081.4,
            "bin_end": 2592.2,
            "count": 0
           },
           {
            "bin_start": 2592.2,
            "bin_end": 3103,
            "count": 0
           },
           {
            "bin_start": 3103,
            "bin_end": 3613.8,
            "count": 0
           },
           {
            "bin_start": 3613.8,
            "bin_end": 4124.6,
            "count": 0
           },
           {
            "bin_start": 4124.6,
            "bin_end": 4635.4,
            "count": 0
           },
           {
            "bin_start": 4635.4,
            "bin_end": 5146.2,
            "count": 0
           },
           {
            "bin_start": 5146.2,
            "bin_end": 5657,
            "count": 1
           }
          ]
         }
        },
        {
         "name": "msrp",
         "dtype": "int64",
         "stats": {
          "unique_count": 4,
          "nan_count": 0,
          "min": "2000",
          "max": "31120",
          "histogram": [
           {
            "bin_start": 2000,
            "bin_end": 4912,
            "count": 3
           },
           {
            "bin_start": 4912,
            "bin_end": 7824,
            "count": 0
           },
           {
            "bin_start": 7824,
            "bin_end": 10736,
            "count": 0
           },
           {
            "bin_start": 10736,
            "bin_end": 13648,
            "count": 0
           },
           {
            "bin_start": 13648,
            "bin_end": 16560,
            "count": 0
           },
           {
            "bin_start": 16560,
            "bin_end": 19472,
            "count": 0
           },
           {
            "bin_start": 19472,
            "bin_end": 22384,
            "count": 0
           },
           {
            "bin_start": 22384,
            "bin_end": 25296,
            "count": 0
           },
           {
            "bin_start": 25296,
            "bin_end": 28208,
            "count": 0
           },
           {
            "bin_start": 28208,
            "bin_end": 31120,
            "count": 2
           }
          ]
         }
        },
        {
         "name": "_deepnote_index_column",
         "dtype": "int64"
        }
       ],
       "rows": [
        {
         "make": "gmc",
         "model": "vandura",
         "year": 1994,
         "engine_fuel_type": "regular_unleaded",
         "engine_hp": 165,
         "engine_cylinders": 6,
         "transmission_type": "automatic",
         "driven_wheels": "rear_wheel_drive",
         "number_of_doors": 3,
         "market_category": "nan",
         "vehicle_size": "compact",
         "vehicle_style": "cargo_van",
         "highway_mpg": 20,
         "city_mpg": 15,
         "popularity": 549,
         "msrp": 2000,
         "_deepnote_index_column": 0
        },
        {
         "make": "mercedes-benz",
         "model": "600-class",
         "year": 1993,
         "engine_fuel_type": "regular_unleaded",
         "engine_hp": 389,
         "engine_cylinders": 12,
         "transmission_type": "automatic",
         "driven_wheels": "rear_wheel_drive",
         "number_of_doors": 2,
         "market_category": "luxury",
         "vehicle_size": "large",
         "vehicle_style": "coupe",
         "highway_mpg": 15,
         "city_mpg": 11,
         "popularity": 617,
         "msrp": 3211,
         "_deepnote_index_column": 1
        },
        {
         "make": "toyota",
         "model": "venza",
         "year": 2013,
         "engine_fuel_type": "regular_unleaded",
         "engine_hp": 268,
         "engine_cylinders": 6,
         "transmission_type": "automatic",
         "driven_wheels": "all_wheel_drive",
         "number_of_doors": 4,
         "market_category": "crossover,performance",
         "vehicle_size": "midsize",
         "vehicle_style": "wagon",
         "highway_mpg": 25,
         "city_mpg": 18,
         "popularity": 2031,
         "msrp": 31120,
         "_deepnote_index_column": 2
        },
        {
         "make": "volvo",
         "model": "740",
         "year": 1992,
         "engine_fuel_type": "regular_unleaded",
         "engine_hp": 114,
         "engine_cylinders": 4,
         "transmission_type": "automatic",
         "driven_wheels": "rear_wheel_drive",
         "number_of_doors": 4,
         "market_category": "luxury",
         "vehicle_size": "midsize",
         "vehicle_style": "sedan",
         "highway_mpg": 26,
         "city_mpg": 18,
         "popularity": 870,
         "msrp": 2000,
         "_deepnote_index_column": 3
        },
        {
         "make": "ford",
         "model": "crown_victoria",
         "year": 2010,
         "engine_fuel_type": "flex-fuel_(unleaded/e85)",
         "engine_hp": 224,
         "engine_cylinders": 8,
         "transmission_type": "automatic",
         "driven_wheels": "rear_wheel_drive",
         "number_of_doors": 4,
         "market_category": "flex_fuel",
         "vehicle_size": "large",
         "vehicle_style": "sedan",
         "highway_mpg": 24,
         "city_mpg": 16,
         "popularity": 5657,
         "msrp": 29905,
         "_deepnote_index_column": 4
        }
       ]
      },
      "text/plain": "            make           model  year          engine_fuel_type  engine_hp  \\\n0            gmc         vandura  1994          regular_unleaded      165.0   \n1  mercedes-benz       600-class  1993          regular_unleaded      389.0   \n2         toyota           venza  2013          regular_unleaded      268.0   \n3          volvo             740  1992          regular_unleaded      114.0   \n4           ford  crown_victoria  2010  flex-fuel_(unleaded/e85)      224.0   \n\n   engine_cylinders transmission_type     driven_wheels  number_of_doors  \\\n0               6.0         automatic  rear_wheel_drive              3.0   \n1              12.0         automatic  rear_wheel_drive              2.0   \n2               6.0         automatic   all_wheel_drive              4.0   \n3               4.0         automatic  rear_wheel_drive              4.0   \n4               8.0         automatic  rear_wheel_drive              4.0   \n\n         market_category vehicle_size vehicle_style  highway_mpg  city_mpg  \\\n0                    NaN      compact     cargo_van           20        15   \n1                 luxury        large         coupe           15        11   \n2  crossover,performance      midsize         wagon           25        18   \n3                 luxury      midsize         sedan           26        18   \n4              flex_fuel        large         sedan           24        16   \n\n   popularity   msrp  \n0         549   2000  \n1         617   3211  \n2        2031  31120  \n3         870   2000  \n4        5657  29905  ",
      "text/html": "<div>\n<style scoped>\n    .dataframe tbody tr th:only-of-type {\n        vertical-align: middle;\n    }\n\n    .dataframe tbody tr th {\n        vertical-align: top;\n    }\n\n    .dataframe thead th {\n        text-align: right;\n    }\n</style>\n<table border=\"1\" class=\"dataframe\">\n  <thead>\n    <tr style=\"text-align: right;\">\n      <th></th>\n      <th>make</th>\n      <th>model</th>\n      <th>year</th>\n      <th>engine_fuel_type</th>\n      <th>engine_hp</th>\n      <th>engine_cylinders</th>\n      <th>transmission_type</th>\n      <th>driven_wheels</th>\n      <th>number_of_doors</th>\n      <th>market_category</th>\n      <th>vehicle_size</th>\n      <th>vehicle_style</th>\n      <th>highway_mpg</th>\n      <th>city_mpg</th>\n      <th>popularity</th>\n      <th>msrp</th>\n    </tr>\n  </thead>\n  <tbody>\n    <tr>\n      <th>0</th>\n      <td>gmc</td>\n      <td>vandura</td>\n      <td>1994</td>\n      <td>regular_unleaded</td>\n      <td>165.0</td>\n      <td>6.0</td>\n      <td>automatic</td>\n      <td>rear_wheel_drive</td>\n      <td>3.0</td>\n      <td>NaN</td>\n      <td>compact</td>\n      <td>cargo_van</td>\n      <td>20</td>\n      <td>15</td>\n      <td>549</td>\n      <td>2000</td>\n    </tr>\n    <tr>\n      <th>1</th>\n      <td>mercedes-benz</td>\n      <td>600-class</td>\n      <td>1993</td>\n      <td>regular_unleaded</td>\n      <td>389.0</td>\n      <td>12.0</td>\n      <td>automatic</td>\n      <td>rear_wheel_drive</td>\n      <td>2.0</td>\n      <td>luxury</td>\n      <td>large</td>\n      <td>coupe</td>\n      <td>15</td>\n      <td>11</td>\n      <td>617</td>\n      <td>3211</td>\n    </tr>\n    <tr>\n      <th>2</th>\n      <td>toyota</td>\n      <td>venza</td>\n      <td>2013</td>\n      <td>regular_unleaded</td>\n      <td>268.0</td>\n      <td>6.0</td>\n      <td>automatic</td>\n      <td>all_wheel_drive</td>\n      <td>4.0</td>\n      <td>crossover,performance</td>\n      <td>midsize</td>\n      <td>wagon</td>\n      <td>25</td>\n      <td>18</td>\n      <td>2031</td>\n      <td>31120</td>\n    </tr>\n    <tr>\n      <th>3</th>\n      <td>volvo</td>\n      <td>740</td>\n      <td>1992</td>\n      <td>regular_unleaded</td>\n      <td>114.0</td>\n      <td>4.0</td>\n      <td>automatic</td>\n      <td>rear_wheel_drive</td>\n      <td>4.0</td>\n      <td>luxury</td>\n      <td>midsize</td>\n      <td>sedan</td>\n      <td>26</td>\n      <td>18</td>\n      <td>870</td>\n      <td>2000</td>\n    </tr>\n    <tr>\n      <th>4</th>\n      <td>ford</td>\n      <td>crown_victoria</td>\n      <td>2010</td>\n      <td>flex-fuel_(unleaded/e85)</td>\n      <td>224.0</td>\n      <td>8.0</td>\n      <td>automatic</td>\n      <td>rear_wheel_drive</td>\n      <td>4.0</td>\n      <td>flex_fuel</td>\n      <td>large</td>\n      <td>sedan</td>\n      <td>24</td>\n      <td>16</td>\n      <td>5657</td>\n      <td>29905</td>\n    </tr>\n  </tbody>\n</table>\n</div>"
     },
     "metadata": {}
    }
   ]
  },
  {
   "cell_type": "code",
   "metadata": {
    "cell_id": "2ca0650c81084263aa8591197df74b88",
    "tags": [],
    "deepnote_to_be_reexecuted": false,
    "source_hash": "f0009026",
    "execution_start": 1657012677187,
    "execution_millis": 0,
    "deepnote_cell_type": "code",
    "deepnote_cell_height": 189
   },
   "source": "y_train = np.log1p(df_train.msrp.values)\ny_test = np.log1p(df_test.msrp.values)\ny_val = np.log1p(df_val.msrp.values)\n\ndel df_train['msrp']\ndel df_test['msrp']\ndel df_val['msrp']",
   "execution_count": 17,
   "outputs": []
  },
  {
   "cell_type": "code",
   "metadata": {
    "cell_id": "36b6d433771043ae8d533a112cac1f6e",
    "tags": [],
    "deepnote_to_be_reexecuted": false,
    "source_hash": "4394814f",
    "execution_start": 1657012677187,
    "execution_millis": 1,
    "deepnote_cell_type": "code",
    "deepnote_cell_height": 243
   },
   "source": " # linear regression\n def train_linear_regression(X,y):\n     ones = np.ones(X.shape[0])\n     X = np.column_stack([ones,X])\n\n     XTX = X.T.dot(X)\n     XTX_inv = np.linalg.inv(XTX)\n     w = XTX_inv.dot(X.T).dot(y)\n\n     return w[0], w[1:]",
   "execution_count": 18,
   "outputs": []
  },
  {
   "cell_type": "code",
   "metadata": {
    "cell_id": "38f8cb982cc643c182a4922a6139b0b2",
    "tags": [],
    "deepnote_to_be_reexecuted": false,
    "source_hash": "667e4cac",
    "execution_start": 1657012677188,
    "execution_millis": 0,
    "deepnote_cell_type": "code",
    "deepnote_cell_height": 135
   },
   "source": "# baseline model\nbase = ['engine_hp','engine_cylinders','highway_mpg','city_mpg','popularity']\nX_train = df_train[base].values\nX_train = df_train[base].fillna(0).values",
   "execution_count": 19,
   "outputs": []
  },
  {
   "cell_type": "code",
   "metadata": {
    "cell_id": "688507342e8d45a2bca15828178d1552",
    "tags": [],
    "deepnote_to_be_reexecuted": false,
    "source_hash": "b66dd831",
    "execution_start": 1657012677189,
    "execution_millis": 383,
    "deepnote_cell_type": "code",
    "deepnote_cell_height": 453.1875,
    "deepnote_output_heights": [
     21.1875,
     250
    ]
   },
   "source": "w0, w = train_linear_regression(X_train, y_train)\ny_pred = w0 + X_train.dot(w)\nsns.histplot(y_pred, color = 'red', alpha = 0.5, bins = 40)\nsns.histplot(y_train,color = 'blue', alpha = 0.5, bins = 40)",
   "execution_count": 20,
   "outputs": [
    {
     "output_type": "execute_result",
     "execution_count": 20,
     "data": {
      "text/plain": "<AxesSubplot:ylabel='Count'>"
     },
     "metadata": {}
    },
    {
     "data": {
      "text/plain": "<Figure size 432x288 with 1 Axes>",
      "image/png": "[encoded data removed]"
     },
     "metadata": {
      "needs_background": "light",
      "image/png": {
       "width": 395,
       "height": 248
      }
     },
     "output_type": "display_data"
    }
   ]
  },
  {
   "cell_type": "code",
   "metadata": {
    "cell_id": "13755f344bb046148ce5d33107fde71c",
    "tags": [],
    "deepnote_to_be_reexecuted": false,
    "source_hash": "4b1fee74",
    "execution_start": 1657012677557,
    "execution_millis": 1,
    "deepnote_cell_type": "code",
    "deepnote_cell_height": 171
   },
   "source": "#root mean squared error\ndef rmse(y,y_pred):\n    error = y - y_pred\n    squared_error = error ** 2\n    mse = squared_error.mean()\n    return np.sqrt(mse)",
   "execution_count": 21,
   "outputs": []
  },
  {
   "cell_type": "code",
   "metadata": {
    "cell_id": "c3615faa617f453da29dad679b3a4501",
    "tags": [],
    "deepnote_to_be_reexecuted": false,
    "source_hash": "b0c53487",
    "execution_start": 1657012677558,
    "execution_millis": 470,
    "deepnote_cell_type": "code",
    "deepnote_cell_height": 118.1875,
    "deepnote_output_heights": [
     21.1875
    ]
   },
   "source": "rmse(y_train,y_pred)",
   "execution_count": 22,
   "outputs": [
    {
     "output_type": "execute_result",
     "execution_count": 22,
     "data": {
      "text/plain": "0.7554192603920132"
     },
     "metadata": {}
    }
   ]
  },
  {
   "cell_type": "code",
   "metadata": {
    "cell_id": "a282d42855004b9cb2ed2864485c3e2b",
    "tags": [],
    "deepnote_to_be_reexecuted": false,
    "source_hash": "550ed63f",
    "execution_start": 1657012677559,
    "execution_millis": 0,
    "deepnote_cell_type": "code",
    "deepnote_cell_height": 171
   },
   "source": "# validating the model\ndef prepare_X(df):\n    df_num = df[base]\n    df_num = df_num.fillna(0)\n    X = df_num.values\n    return X",
   "execution_count": 23,
   "outputs": []
  },
  {
   "cell_type": "code",
   "metadata": {
    "cell_id": "6c373fa41c8749649c0d48fb012aa269",
    "tags": [],
    "deepnote_to_be_reexecuted": false,
    "source_hash": "de0670e8",
    "execution_start": 1657012677560,
    "execution_millis": 480,
    "deepnote_cell_type": "code",
    "deepnote_cell_height": 543.1875,
    "deepnote_output_heights": [
     21.1875,
     250
    ]
   },
   "source": "X_train = prepare_X(df_train)\nw0, w = train_linear_regression(X_train, y_train)\n\nX_val = prepare_X(df_val)\ny_pred = w0 + X_val.dot(w)\n\nrmse(y_val,y_pred)\nsns.histplot(y_pred, color = 'red', alpha = 0.5, bins = 40)\nsns.histplot(y_val,color = 'blue', alpha = 0.5, bins = 40)",
   "execution_count": 24,
   "outputs": [
    {
     "output_type": "execute_result",
     "execution_count": 24,
     "data": {
      "text/plain": "<AxesSubplot:ylabel='Count'>"
     },
     "metadata": {}
    },
    {
     "data": {
      "text/plain": "<Figure size 432x288 with 1 Axes>",
      "image/png": "[encoded data removed]"
     },
     "metadata": {
      "needs_background": "light",
      "image/png": {
       "width": 389,
       "height": 248
      }
     },
     "output_type": "display_data"
    }
   ]
  },
  {
   "cell_type": "code",
   "metadata": {
    "cell_id": "03b4014964554af681152ab371ee24fb",
    "tags": [],
    "deepnote_to_be_reexecuted": false,
    "source_hash": "d80818f1",
    "execution_start": 1657012678056,
    "execution_millis": 5,
    "deepnote_cell_type": "code",
    "deepnote_cell_height": 428
   },
   "source": "# simple feature engineering\ndf_train.head()",
   "execution_count": 25,
   "outputs": [
    {
     "output_type": "execute_result",
     "execution_count": 25,
     "data": {
      "application/vnd.deepnote.dataframe.v3+json": {
       "column_count": 15,
       "row_count": 5,
       "columns": [
        {
         "name": "make",
         "dtype": "object",
         "stats": {
          "unique_count": 5,
          "nan_count": 0,
          "categories": [
           {
            "name": "chevrolet",
            "count": 1
           },
           {
            "name": "toyota",
            "count": 1
           },
           {
            "name": "3 others",
            "count": 3
           }
          ]
         }
        },
        {
         "name": "model",
         "dtype": "object",
         "stats": {
          "unique_count": 5,
          "nan_count": 0,
          "categories": [
           {
            "name": "cobalt",
            "count": 1
           },
           {
            "name": "matrix",
            "count": 1
           },
           {
            "name": "3 others",
            "count": 3
           }
          ]
         }
        },
        {
         "name": "year",
         "dtype": "int64",
         "stats": {
          "unique_count": 5,
          "nan_count": 0,
          "min": "1991",
          "max": "2017",
          "histogram": [
           {
            "bin_start": 1991,
            "bin_end": 1993.6,
            "count": 1
           },
           {
            "bin_start": 1993.6,
            "bin_end": 1996.2,
            "count": 0
           },
           {
            "bin_start": 1996.2,
            "bin_end": 1998.8,
            "count": 0
           },
           {
            "bin_start": 1998.8,
            "bin_end": 2001.4,
            "count": 0
           },
           {
            "bin_start": 2001.4,
            "bin_end": 2004,
            "count": 0
           },
           {
            "bin_start": 2004,
            "bin_end": 2006.6,
            "count": 0
           },
           {
            "bin_start": 2006.6,
            "bin_end": 2009.2,
            "count": 1
           },
           {
            "bin_start": 2009.2,
            "bin_end": 2011.8,
            "count": 0
           },
           {
            "bin_start": 2011.8,
            "bin_end": 2014.4,
            "count": 1
           },
           {
            "bin_start": 2014.4,
            "bin_end": 2017,
            "count": 2
           }
          ]
         }
        },
        {
         "name": "engine_fuel_type",
         "dtype": "object",
         "stats": {
          "unique_count": 2,
          "nan_count": 0,
          "categories": [
           {
            "name": "regular_unleaded",
            "count": 4
           },
           {
            "name": "flex-fuel_(unleaded/e85)",
            "count": 1
           }
          ]
         }
        },
        {
         "name": "engine_hp",
         "dtype": "float64",
         "stats": {
          "unique_count": 4,
          "nan_count": 0,
          "min": "90.0",
          "max": "385.0",
          "histogram": [
           {
            "bin_start": 90,
            "bin_end": 119.5,
            "count": 1
           },
           {
            "bin_start": 119.5,
            "bin_end": 149,
            "count": 3
           },
           {
            "bin_start": 149,
            "bin_end": 178.5,
            "count": 0
           },
           {
            "bin_start": 178.5,
            "bin_end": 208,
            "count": 0
           },
           {
            "bin_start": 208,
            "bin_end": 237.5,
            "count": 0
           },
           {
            "bin_start": 237.5,
            "bin_end": 267,
            "count": 0
           },
           {
            "bin_start": 267,
            "bin_end": 296.5,
            "count": 0
           },
           {
            "bin_start": 296.5,
            "bin_end": 326,
            "count": 0
           },
           {
            "bin_start": 326,
            "bin_end": 355.5,
            "count": 0
           },
           {
            "bin_start": 355.5,
            "bin_end": 385,
            "count": 1
           }
          ]
         }
        },
        {
         "name": "engine_cylinders",
         "dtype": "float64",
         "stats": {
          "unique_count": 2,
          "nan_count": 0,
          "min": "4.0",
          "max": "8.0",
          "histogram": [
           {
            "bin_start": 4,
            "bin_end": 4.4,
            "count": 4
           },
           {
            "bin_start": 4.4,
            "bin_end": 4.8,
            "count": 0
           },
           {
            "bin_start": 4.8,
            "bin_end": 5.2,
            "count": 0
           },
           {
            "bin_start": 5.2,
            "bin_end": 5.6,
            "count": 0
           },
           {
            "bin_start": 5.6,
            "bin_end": 6,
            "count": 0
           },
           {
            "bin_start": 6,
            "bin_end": 6.4,
            "count": 0
           },
           {
            "bin_start": 6.4,
            "bin_end": 6.800000000000001,
            "count": 0
           },
           {
            "bin_start": 6.800000000000001,
            "bin_end": 7.2,
            "count": 0
           },
           {
            "bin_start": 7.2,
            "bin_end": 7.6,
            "count": 0
           },
           {
            "bin_start": 7.6,
            "bin_end": 8,
            "count": 1
           }
          ]
         }
        },
        {
         "name": "transmission_type",
         "dtype": "object",
         "stats": {
          "unique_count": 2,
          "nan_count": 0,
          "categories": [
           {
            "name": "automatic",
            "count": 3
           },
           {
            "name": "manual",
            "count": 2
           }
          ]
         }
        },
        {
         "name": "driven_wheels",
         "dtype": "object",
         "stats": {
          "unique_count": 4,
          "nan_count": 0,
          "categories": [
           {
            "name": "front_wheel_drive",
            "count": 2
           },
           {
            "name": "all_wheel_drive",
            "count": 1
           },
           {
            "name": "2 others",
            "count": 2
           }
          ]
         }
        },
        {
         "name": "number_of_doors",
         "dtype": "float64",
         "stats": {
          "unique_count": 3,
          "nan_count": 0,
          "min": "2.0",
          "max": "4.0",
          "histogram": [
           {
            "bin_start": 2,
            "bin_end": 2.2,
            "count": 1
           },
           {
            "bin_start": 2.2,
            "bin_end": 2.4,
            "count": 0
           },
           {
            "bin_start": 2.4,
            "bin_end": 2.6,
            "count": 0
           },
           {
            "bin_start": 2.6,
            "bin_end": 2.8,
            "count": 0
           },
           {
            "bin_start": 2.8,
            "bin_end": 3,
            "count": 0
           },
           {
            "bin_start": 3,
            "bin_end": 3.2,
            "count": 1
           },
           {
            "bin_start": 3.2,
            "bin_end": 3.4000000000000004,
            "count": 0
           },
           {
            "bin_start": 3.4000000000000004,
            "bin_end": 3.6,
            "count": 0
           },
           {
            "bin_start": 3.6,
            "bin_end": 3.8,
            "count": 0
           },
           {
            "bin_start": 3.8,
            "bin_end": 4,
            "count": 3
           }
          ]
         }
        },
        {
         "name": "market_category",
         "dtype": "object",
         "stats": {
          "unique_count": 2,
          "nan_count": 2,
          "categories": [
           {
            "name": "hatchback",
            "count": 2
           },
           {
            "name": "flex_fuel",
            "count": 1
           },
           {
            "name": "Missing",
            "count": 2
           }
          ]
         }
        },
        {
         "name": "vehicle_size",
         "dtype": "object",
         "stats": {
          "unique_count": 2,
          "nan_count": 0,
          "categories": [
           {
            "name": "compact",
            "count": 3
           },
           {
            "name": "large",
            "count": 2
           }
          ]
         }
        },
        {
         "name": "vehicle_style",
         "dtype": "object",
         "stats": {
          "unique_count": 4,
          "nan_count": 0,
          "categories": [
           {
            "name": "4dr_hatchback",
            "count": 2
           },
           {
            "name": "coupe",
            "count": 1
           },
           {
            "name": "2 others",
            "count": 2
           }
          ]
         }
        },
        {
         "name": "highway_mpg",
         "dtype": "int64",
         "stats": {
          "unique_count": 5,
          "nan_count": 0,
          "min": "18",
          "max": "37",
          "histogram": [
           {
            "bin_start": 18,
            "bin_end": 19.9,
            "count": 1
           },
           {
            "bin_start": 19.9,
            "bin_end": 21.8,
            "count": 1
           },
           {
            "bin_start": 21.8,
            "bin_end": 23.7,
            "count": 0
           },
           {
            "bin_start": 23.7,
            "bin_end": 25.6,
            "count": 0
           },
           {
            "bin_start": 25.6,
            "bin_end": 27.5,
            "count": 0
           },
           {
            "bin_start": 27.5,
            "bin_end": 29.4,
            "count": 0
           },
           {
            "bin_start": 29.4,
            "bin_end": 31.299999999999997,
            "count": 0
           },
           {
            "bin_start": 31.299999999999997,
            "bin_end": 33.2,
            "count": 2
           },
           {
            "bin_start": 33.2,
            "bin_end": 35.099999999999994,
            "count": 0
           },
           {
            "bin_start": 35.099999999999994,
            "bin_end": 37,
            "count": 1
           }
          ]
         }
        },
        {
         "name": "city_mpg",
         "dtype": "int64",
         "stats": {
          "unique_count": 5,
          "nan_count": 0,
          "min": "15",
          "max": "28",
          "histogram": [
           {
            "bin_start": 15,
            "bin_end": 16.3,
            "count": 2
           },
           {
            "bin_start": 16.3,
            "bin_end": 17.6,
            "count": 0
           },
           {
            "bin_start": 17.6,
            "bin_end": 18.9,
            "count": 0
           },
           {
            "bin_start": 18.9,
            "bin_end": 20.2,
            "count": 0
           },
           {
            "bin_start": 20.2,
            "bin_end": 21.5,
            "count": 0
           },
           {
            "bin_start": 21.5,
            "bin_end": 22.8,
            "count": 0
           },
           {
            "bin_start": 22.8,
            "bin_end": 24.1,
            "count": 1
           },
           {
            "bin_start": 24.1,
            "bin_end": 25.4,
            "count": 1
           },
           {
            "bin_start": 25.4,
            "bin_end": 26.700000000000003,
            "count": 0
           },
           {
            "bin_start": 26.700000000000003,
            "bin_end": 28,
            "count": 1
           }
          ]
         }
        },
        {
         "name": "popularity",
         "dtype": "int64",
         "stats": {
          "unique_count": 5,
          "nan_count": 0,
          "min": "640",
          "max": "5657",
          "histogram": [
           {
            "bin_start": 640,
            "bin_end": 1141.7,
            "count": 2
           },
           {
            "bin_start": 1141.7,
            "bin_end": 1643.4,
            "count": 1
           },
           {
            "bin_start": 1643.4,
            "bin_end": 2145.1,
            "count": 1
           },
           {
            "bin_start": 2145.1,
            "bin_end": 2646.8,
            "count": 0
           },
           {
            "bin_start": 2646.8,
            "bin_end": 3148.5,
            "count": 0
           },
           {
            "bin_start": 3148.5,
            "bin_end": 3650.2,
            "count": 0
           },
           {
            "bin_start": 3650.2,
            "bin_end": 4151.9,
            "count": 0
           },
           {
            "bin_start": 4151.9,
            "bin_end": 4653.6,
            "count": 0
           },
           {
            "bin_start": 4653.6,
            "bin_end": 5155.3,
            "count": 0
           },
           {
            "bin_start": 5155.3,
            "bin_end": 5657,
            "count": 1
           }
          ]
         }
        },
        {
         "name": "_deepnote_index_column",
         "dtype": "int64"
        }
       ],
       "rows": [
        {
         "make": "chevrolet",
         "model": "cobalt",
         "year": 2008,
         "engine_fuel_type": "regular_unleaded",
         "engine_hp": 148,
         "engine_cylinders": 4,
         "transmission_type": "manual",
         "driven_wheels": "front_wheel_drive",
         "number_of_doors": 2,
         "market_category": "nan",
         "vehicle_size": "compact",
         "vehicle_style": "coupe",
         "highway_mpg": 33,
         "city_mpg": 24,
         "popularity": 1385,
         "_deepnote_index_column": 0
        },
        {
         "make": "toyota",
         "model": "matrix",
         "year": 2012,
         "engine_fuel_type": "regular_unleaded",
         "engine_hp": 132,
         "engine_cylinders": 4,
         "transmission_type": "automatic",
         "driven_wheels": "front_wheel_drive",
         "number_of_doors": 4,
         "market_category": "hatchback",
         "vehicle_size": "compact",
         "vehicle_style": "4dr_hatchback",
         "highway_mpg": 32,
         "city_mpg": 25,
         "popularity": 2031,
         "_deepnote_index_column": 1
        },
        {
         "make": "subaru",
         "model": "impreza",
         "year": 2016,
         "engine_fuel_type": "regular_unleaded",
         "engine_hp": 148,
         "engine_cylinders": 4,
         "transmission_type": "automatic",
         "driven_wheels": "all_wheel_drive",
         "number_of_doors": 4,
         "market_category": "hatchback",
         "vehicle_size": "compact",
         "vehicle_style": "4dr_hatchback",
         "highway_mpg": 37,
         "city_mpg": 28,
         "popularity": 640,
         "_deepnote_index_column": 2
        },
        {
         "make": "volkswagen",
         "model": "vanagon",
         "year": 1991,
         "engine_fuel_type": "regular_unleaded",
         "engine_hp": 90,
         "engine_cylinders": 4,
         "transmission_type": "manual",
         "driven_wheels": "rear_wheel_drive",
         "number_of_doors": 3,
         "market_category": "nan",
         "vehicle_size": "large",
         "vehicle_style": "passenger_minivan",
         "highway_mpg": 18,
         "city_mpg": 16,
         "popularity": 873,
         "_deepnote_index_column": 3
        },
        {
         "make": "ford",
         "model": "f-150",
         "year": 2017,
         "engine_fuel_type": "flex-fuel_(unleaded/e85)",
         "engine_hp": 385,
         "engine_cylinders": 8,
         "transmission_type": "automatic",
         "driven_wheels": "four_wheel_drive",
         "number_of_doors": 4,
         "market_category": "flex_fuel",
         "vehicle_size": "large",
         "vehicle_style": "crew_cab_pickup",
         "highway_mpg": 21,
         "city_mpg": 15,
         "popularity": 5657,
         "_deepnote_index_column": 4
        }
       ]
      },
      "text/plain": "         make    model  year          engine_fuel_type  engine_hp  \\\n0   chevrolet   cobalt  2008          regular_unleaded      148.0   \n1      toyota   matrix  2012          regular_unleaded      132.0   \n2      subaru  impreza  2016          regular_unleaded      148.0   \n3  volkswagen  vanagon  1991          regular_unleaded       90.0   \n4        ford    f-150  2017  flex-fuel_(unleaded/e85)      385.0   \n\n   engine_cylinders transmission_type      driven_wheels  number_of_doors  \\\n0               4.0            manual  front_wheel_drive              2.0   \n1               4.0         automatic  front_wheel_drive              4.0   \n2               4.0         automatic    all_wheel_drive              4.0   \n3               4.0            manual   rear_wheel_drive              3.0   \n4               8.0         automatic   four_wheel_drive              4.0   \n\n  market_category vehicle_size      vehicle_style  highway_mpg  city_mpg  \\\n0             NaN      compact              coupe           33        24   \n1       hatchback      compact      4dr_hatchback           32        25   \n2       hatchback      compact      4dr_hatchback           37        28   \n3             NaN        large  passenger_minivan           18        16   \n4       flex_fuel        large    crew_cab_pickup           21        15   \n\n   popularity  \n0        1385  \n1        2031  \n2         640  \n3         873  \n4        5657  ",
      "text/html": "<div>\n<style scoped>\n    .dataframe tbody tr th:only-of-type {\n        vertical-align: middle;\n    }\n\n    .dataframe tbody tr th {\n        vertical-align: top;\n    }\n\n    .dataframe thead th {\n        text-align: right;\n    }\n</style>\n<table border=\"1\" class=\"dataframe\">\n  <thead>\n    <tr style=\"text-align: right;\">\n      <th></th>\n      <th>make</th>\n      <th>model</th>\n      <th>year</th>\n      <th>engine_fuel_type</th>\n      <th>engine_hp</th>\n      <th>engine_cylinders</th>\n      <th>transmission_type</th>\n      <th>driven_wheels</th>\n      <th>number_of_doors</th>\n      <th>market_category</th>\n      <th>vehicle_size</th>\n      <th>vehicle_style</th>\n      <th>highway_mpg</th>\n      <th>city_mpg</th>\n      <th>popularity</th>\n    </tr>\n  </thead>\n  <tbody>\n    <tr>\n      <th>0</th>\n      <td>chevrolet</td>\n      <td>cobalt</td>\n      <td>2008</td>\n      <td>regular_unleaded</td>\n      <td>148.0</td>\n      <td>4.0</td>\n      <td>manual</td>\n      <td>front_wheel_drive</td>\n      <td>2.0</td>\n      <td>NaN</td>\n      <td>compact</td>\n      <td>coupe</td>\n      <td>33</td>\n      <td>24</td>\n      <td>1385</td>\n    </tr>\n    <tr>\n      <th>1</th>\n      <td>toyota</td>\n      <td>matrix</td>\n      <td>2012</td>\n      <td>regular_unleaded</td>\n      <td>132.0</td>\n      <td>4.0</td>\n      <td>automatic</td>\n      <td>front_wheel_drive</td>\n      <td>4.0</td>\n      <td>hatchback</td>\n      <td>compact</td>\n      <td>4dr_hatchback</td>\n      <td>32</td>\n      <td>25</td>\n      <td>2031</td>\n    </tr>\n    <tr>\n      <th>2</th>\n      <td>subaru</td>\n      <td>impreza</td>\n      <td>2016</td>\n      <td>regular_unleaded</td>\n      <td>148.0</td>\n      <td>4.0</td>\n      <td>automatic</td>\n      <td>all_wheel_drive</td>\n      <td>4.0</td>\n      <td>hatchback</td>\n      <td>compact</td>\n      <td>4dr_hatchback</td>\n      <td>37</td>\n      <td>28</td>\n      <td>640</td>\n    </tr>\n    <tr>\n      <th>3</th>\n      <td>volkswagen</td>\n      <td>vanagon</td>\n      <td>1991</td>\n      <td>regular_unleaded</td>\n      <td>90.0</td>\n      <td>4.0</td>\n      <td>manual</td>\n      <td>rear_wheel_drive</td>\n      <td>3.0</td>\n      <td>NaN</td>\n      <td>large</td>\n      <td>passenger_minivan</td>\n      <td>18</td>\n      <td>16</td>\n      <td>873</td>\n    </tr>\n    <tr>\n      <th>4</th>\n      <td>ford</td>\n      <td>f-150</td>\n      <td>2017</td>\n      <td>flex-fuel_(unleaded/e85)</td>\n      <td>385.0</td>\n      <td>8.0</td>\n      <td>automatic</td>\n      <td>four_wheel_drive</td>\n      <td>4.0</td>\n      <td>flex_fuel</td>\n      <td>large</td>\n      <td>crew_cab_pickup</td>\n      <td>21</td>\n      <td>15</td>\n      <td>5657</td>\n    </tr>\n  </tbody>\n</table>\n</div>"
     },
     "metadata": {}
    }
   ]
  },
  {
   "cell_type": "code",
   "metadata": {
    "cell_id": "adf53c9543184d1f9c42e123d3153efb",
    "tags": [],
    "deepnote_to_be_reexecuted": false,
    "source_hash": "6727ed1d",
    "execution_start": 1657012678066,
    "execution_millis": 2,
    "deepnote_cell_type": "code",
    "deepnote_cell_height": 207
   },
   "source": "def prepare_X(df):\n    df = df.copy()\n    df['age'] = 2017 - df.year\n    features = base + ['age']\n    df_num = df[features]\n    df_num = df_num.fillna(0)\n    X = df_num.values\n    return X",
   "execution_count": 26,
   "outputs": []
  },
  {
   "cell_type": "code",
   "metadata": {
    "cell_id": "4cf7d5bfee8b41d8b217b31428a7528d",
    "tags": [],
    "deepnote_to_be_reexecuted": false,
    "source_hash": "de0670e8",
    "execution_start": 1657012678074,
    "execution_millis": 382,
    "deepnote_cell_type": "code",
    "deepnote_cell_height": 543.1875,
    "deepnote_output_heights": [
     21.1875,
     250
    ]
   },
   "source": "X_train = prepare_X(df_train)\nw0, w = train_linear_regression(X_train, y_train)\n\nX_val = prepare_X(df_val)\ny_pred = w0 + X_val.dot(w)\n\nrmse(y_val,y_pred)\nsns.histplot(y_pred, color = 'red', alpha = 0.5, bins = 40)\nsns.histplot(y_val,color = 'blue', alpha = 0.5, bins = 40)",
   "execution_count": 27,
   "outputs": [
    {
     "output_type": "execute_result",
     "execution_count": 27,
     "data": {
      "text/plain": "<AxesSubplot:ylabel='Count'>"
     },
     "metadata": {}
    },
    {
     "data": {
      "text/plain": "<Figure size 432x288 with 1 Axes>",
      "image/png": "[encoded data removed]"
     },
     "metadata": {
      "needs_background": "light",
      "image/png": {
       "width": 389,
       "height": 248
      }
     },
     "output_type": "display_data"
    }
   ]
  },
  {
   "cell_type": "code",
   "metadata": {
    "cell_id": "d9196bd9c8224edbb2d7bb60ca86c6ca",
    "tags": [],
    "deepnote_to_be_reexecuted": false,
    "source_hash": "a6ac975e",
    "execution_start": 1657012678459,
    "execution_millis": 4,
    "deepnote_cell_type": "code",
    "deepnote_cell_height": 117
   },
   "source": "# categorical variables\n# for v in [2,3,4]:\n#     df_train['num_doors_%s' % v] = (df_train.number_of_doors == v).astype('int')",
   "execution_count": 28,
   "outputs": []
  },
  {
   "cell_type": "code",
   "metadata": {
    "cell_id": "4733ed00b5ee45888ca92e611c5c190f",
    "tags": [],
    "deepnote_to_be_reexecuted": false,
    "source_hash": "b582f3eb",
    "execution_start": 1657012678511,
    "execution_millis": 0,
    "deepnote_cell_type": "code",
    "deepnote_cell_height": 315
   },
   "source": "def prepare_X(df):\n    df = df.copy()\n    features = base.copy()\n\n    df['age'] = 2017 - df.year\n    features.append('age')\n\n    for v in [2,3,4]:\n        df['num_doors_%s' % v] = (df.number_of_doors == v).astype('int')\n        features.append('num_doors_%s' % v)\n    df_num = df[features]\n    df_num = df_num.fillna(0)\n    X = df_num.values\n    return X",
   "execution_count": 29,
   "outputs": []
  },
  {
   "cell_type": "code",
   "metadata": {
    "cell_id": "acc28a56579b44b39af6140ca7f4d93e",
    "tags": [],
    "deepnote_to_be_reexecuted": false,
    "source_hash": "4b6192a2",
    "execution_start": 1657012678512,
    "execution_millis": 2,
    "deepnote_cell_type": "code",
    "deepnote_cell_height": 233.3125,
    "deepnote_output_heights": [
     136.3125
    ]
   },
   "source": "prepare_X(df_train)",
   "execution_count": 30,
   "outputs": [
    {
     "output_type": "execute_result",
     "execution_count": 30,
     "data": {
      "text/plain": "array([[148.,   4.,  33., ...,   1.,   0.,   0.],\n       [132.,   4.,  32., ...,   0.,   0.,   1.],\n       [148.,   4.,  37., ...,   0.,   0.,   1.],\n       ...,\n       [285.,   6.,  22., ...,   0.,   0.,   1.],\n       [563.,  12.,  21., ...,   0.,   0.,   1.],\n       [200.,   4.,  31., ...,   0.,   0.,   1.]])"
     },
     "metadata": {}
    }
   ]
  },
  {
   "cell_type": "code",
   "metadata": {
    "cell_id": "f805b093a8b54da58083b6f70de913a3",
    "tags": [],
    "deepnote_to_be_reexecuted": false,
    "source_hash": "aa2a870c",
    "execution_start": 1657012678512,
    "execution_millis": 35,
    "deepnote_cell_type": "code",
    "deepnote_cell_height": 226.1875,
    "deepnote_output_heights": [
     21.1875
    ]
   },
   "source": "X_train = prepare_X(df_train)\nw0, w = train_linear_regression(X_train, y_train)\n\nX_val = prepare_X(df_val)\ny_pred = w0 + X_val.dot(w)\n\nrmse(y_val,y_pred)",
   "execution_count": 31,
   "outputs": [
    {
     "output_type": "execute_result",
     "execution_count": 31,
     "data": {
      "text/plain": "0.5157995641502838"
     },
     "metadata": {}
    }
   ]
  },
  {
   "cell_type": "code",
   "metadata": {
    "cell_id": "a0ec62feae814761bb5ff3214ed98137",
    "tags": [],
    "deepnote_to_be_reexecuted": false,
    "source_hash": "75fc4831",
    "execution_start": 1657012678545,
    "execution_millis": 2,
    "deepnote_cell_type": "code",
    "deepnote_cell_height": 136.1875,
    "deepnote_output_heights": [
     21.1875
    ]
   },
   "source": "makes = list(df.make.value_counts().head().index)\nmakes   #top 5",
   "execution_count": 32,
   "outputs": [
    {
     "output_type": "execute_result",
     "execution_count": 32,
     "data": {
      "text/plain": "['chevrolet', 'ford', 'volkswagen', 'toyota', 'dodge']"
     },
     "metadata": {}
    }
   ]
  },
  {
   "cell_type": "code",
   "metadata": {
    "cell_id": "f12762e0d236454599567f062d2ecb30",
    "tags": [],
    "deepnote_to_be_reexecuted": false,
    "source_hash": "1fc4af61",
    "execution_start": 1657012881557,
    "execution_millis": 0,
    "deepnote_cell_type": "code",
    "deepnote_cell_height": 441
   },
   "source": "def prepare_X(df):\n    df = df.copy()\n    features = base.copy()\n\n    df['age'] = 2017 - df.year\n    features.append('age')\n    \n    for v in [2,3,4]:\n        df['num_doors_%s' % v] = (df.number_of_doors == v).astype('int')\n        features.append('num_doors_%s' % v)\n\n    for v in makes:\n        df['make_%s' % v] = (df.make == v).astype('int')\n        features.append('make_%s' % v)\n\n\n\n    df_num = df[features]\n    df_num = df_num.fillna(0)\n    X = df_num.values\n    return X",
   "execution_count": 36,
   "outputs": []
  },
  {
   "cell_type": "code",
   "metadata": {
    "cell_id": "e91743d2aa1640acb7128bb0aac8b10a",
    "tags": [],
    "deepnote_to_be_reexecuted": false,
    "source_hash": "5bf853ca",
    "execution_start": 1657012884741,
    "execution_millis": 33,
    "deepnote_cell_type": "code",
    "deepnote_cell_height": 220.1875
   },
   "source": "X_train = prepare_X(df_train)\nw0, w = train_linear_regression(X_train, y_train)\n\n\nX_val = prepare_X(df_val)\ny_pred = w0 + X_val.dot(w)\nprint('validation:', rmse(y_val, y_pred))",
   "execution_count": 37,
   "outputs": [
    {
     "name": "stdout",
     "text": "validation: 0.507603884955638\n",
     "output_type": "stream"
    }
   ]
  },
  {
   "cell_type": "code",
   "metadata": {
    "cell_id": "c8468ec8f8f84e04800778a3a9b7562a",
    "tags": [],
    "deepnote_to_be_reexecuted": false,
    "source_hash": "dc62752b",
    "execution_start": 1657012948607,
    "execution_millis": 7,
    "deepnote_cell_type": "code",
    "deepnote_cell_height": 406,
    "deepnote_output_heights": [
     309
    ]
   },
   "source": "df_train.dtypes",
   "execution_count": 38,
   "outputs": [
    {
     "output_type": "execute_result",
     "execution_count": 38,
     "data": {
      "text/plain": "make                  object\nmodel                 object\nyear                   int64\nengine_fuel_type      object\nengine_hp            float64\nengine_cylinders     float64\ntransmission_type     object\ndriven_wheels         object\nnumber_of_doors      float64\nmarket_category       object\nvehicle_size          object\nvehicle_style         object\nhighway_mpg            int64\ncity_mpg               int64\npopularity             int64\ndtype: object"
     },
     "metadata": {}
    }
   ]
  },
  {
   "cell_type": "code",
   "metadata": {
    "cell_id": "8313f666204347a69182cc56b0ce0e76",
    "tags": [],
    "deepnote_to_be_reexecuted": false,
    "source_hash": "1154bc4f",
    "execution_start": 1657013161194,
    "execution_millis": 179,
    "deepnote_cell_type": "code",
    "deepnote_cell_height": 741.875,
    "deepnote_output_heights": [
     500.875
    ]
   },
   "source": "categorical_variables = [\n    'make', 'engine_fuel_type', 'transmission_type', 'driven_wheels', 'market_category', \n    'vehicle_size', 'vehicle_style'\n]\ncategories = {}\nfor c in categorical_variables:\n    categories[c] = list(df[c].value_counts().head().index)\ncategories\n",
   "execution_count": 42,
   "outputs": [
    {
     "output_type": "execute_result",
     "execution_count": 42,
     "data": {
      "text/plain": "{'make': ['chevrolet', 'ford', 'volkswagen', 'toyota', 'dodge'],\n 'engine_fuel_type': ['regular_unleaded',\n  'premium_unleaded_(required)',\n  'premium_unleaded_(recommended)',\n  'flex-fuel_(unleaded/e85)',\n  'diesel'],\n 'transmission_type': ['automatic',\n  'manual',\n  'automated_manual',\n  'direct_drive',\n  'unknown'],\n 'driven_wheels': ['front_wheel_drive',\n  'rear_wheel_drive',\n  'all_wheel_drive',\n  'four_wheel_drive'],\n 'market_category': ['crossover',\n  'flex_fuel',\n  'luxury',\n  'luxury,performance',\n  'hatchback'],\n 'vehicle_size': ['compact', 'midsize', 'large'],\n 'vehicle_style': ['sedan',\n  '4dr_suv',\n  'coupe',\n  'convertible',\n  '4dr_hatchback']}"
     },
     "metadata": {}
    }
   ]
  },
  {
   "cell_type": "code",
   "metadata": {
    "cell_id": "21044189ce724d4cb73e67699409111d",
    "tags": [],
    "deepnote_to_be_reexecuted": false,
    "source_hash": "3b1de015",
    "execution_start": 1657013467232,
    "execution_millis": 1,
    "deepnote_cell_type": "code",
    "deepnote_cell_height": 531
   },
   "source": "def prepare_X(df):\n    df = df.copy()\n    features = base.copy()\n\n    df['age'] = 2017 - df.year\n    features.append('age')\n    \n    for v in [2,3,4]:\n        df['num_doors_%s' % v] = (df.number_of_doors == v).astype('int')\n        features.append('num_doors_%s' % v)\n    \n    for c, values in categories.items():\n        for v in values:\n            df['%s_%s' % (c,v)] = (df[c] == v).astype('int')\n            features.append('%s_%s' % (c,v))\n\n    for v in makes:\n        df['make_%s' % v] = (df.make == v).astype('int')\n        features.append('make_%s' % v)\n\n\n\n    df_num = df[features]\n    df_num = df_num.fillna(0)\n    X = df_num.values\n    return X",
   "execution_count": 47,
   "outputs": []
  },
  {
   "cell_type": "code",
   "metadata": {
    "cell_id": "af7cf012118b42f5b49e526257786cb8",
    "tags": [],
    "deepnote_to_be_reexecuted": false,
    "source_hash": "aa2a870c",
    "execution_start": 1657013469972,
    "execution_millis": 124,
    "deepnote_cell_type": "code",
    "deepnote_cell_height": 226.1875,
    "deepnote_output_heights": [
     21.1875
    ]
   },
   "source": "X_train = prepare_X(df_train)\nw0, w = train_linear_regression(X_train, y_train)\n\nX_val = prepare_X(df_val)\ny_pred = w0 + X_val.dot(w)\n\nrmse(y_val,y_pred)   #large rmse",
   "execution_count": 48,
   "outputs": [
    {
     "output_type": "execute_result",
     "execution_count": 48,
     "data": {
      "text/plain": "1823.251917749491"
     },
     "metadata": {}
    }
   ]
  },
  {
   "cell_type": "code",
   "metadata": {
    "cell_id": "cf1faab03ea74c52b17eed5a8ea6b7bc",
    "tags": [],
    "deepnote_to_be_reexecuted": false,
    "source_hash": "26a7b612",
    "execution_start": 1657014254356,
    "execution_millis": 1,
    "deepnote_cell_type": "code",
    "deepnote_cell_height": 261
   },
   "source": "# regularization\ndef train_linear_regression_reg(X,y, r=0.001):\n    ones = np.ones(X.shape[0])\n    X = np.column_stack([ones,X])\n\n    XTX = X.T.dot(X)\n    XTX = XTX + r * np.eye(XTX.shape[0])    #reg\n    XTX_inv = np.linalg.inv(XTX)\n    w = XTX_inv.dot(X.T).dot(y)\n\n    return w[0], w[1:]",
   "execution_count": 50,
   "outputs": []
  },
  {
   "cell_type": "code",
   "metadata": {
    "cell_id": "597b00aca0164e9b8ce52ece022a6c60",
    "tags": [],
    "deepnote_to_be_reexecuted": false,
    "source_hash": "670729f9",
    "execution_start": 1657014279964,
    "execution_millis": 176,
    "deepnote_cell_type": "code",
    "deepnote_cell_height": 226.1875,
    "deepnote_output_heights": [
     21.1875
    ]
   },
   "source": "X_train = prepare_X(df_train)\nw0, w = train_linear_regression_reg(X_train, y_train, r=0.01)\n\nX_val = prepare_X(df_val)\ny_pred = w0 + X_val.dot(w)\n\nrmse(y_val,y_pred)  ",
   "execution_count": 52,
   "outputs": [
    {
     "output_type": "execute_result",
     "execution_count": 52,
     "data": {
      "text/plain": "0.456522003488095"
     },
     "metadata": {}
    }
   ]
  },
  {
   "cell_type": "code",
   "metadata": {
    "cell_id": "c0f770a0d5e445b1973eb3cc6885478e",
    "tags": [],
    "deepnote_to_be_reexecuted": false,
    "source_hash": "a0d066cf",
    "execution_start": 1657014583582,
    "execution_millis": 1512,
    "deepnote_cell_type": "code",
    "deepnote_cell_height": 434
   },
   "source": "# tuning the model\n# using validation set for finding the best value\nfor r in [0.0, 0.00001, 0.0001, 0.001, 0.01, 0.1, 1, 10]:\n    X_train = prepare_X(df_train)\n    w0, w = train_linear_regression_reg(X_train, y_train, r=r)\n    X_val = prepare_X(df_val)\n    y_pred = w0 + X_val.dot(w)\n    score = rmse(y_val, y_pred)\n\n    print(r, w0, score)\n",
   "execution_count": 54,
   "outputs": [
    {
     "name": "stdout",
     "text": "0.0 -1.3482819412564864e+16 1823.251917749491\n1e-05 2.68115918703027 0.45651702612489714\n0.0001 6.320097632928732 0.4565170634279328\n0.001 6.285710352443434 0.456517510012023\n0.01 6.27660660200409 0.456522003488095\n0.1 6.191208110612244 0.4565694111399276\n1 5.634887406105218 0.45722192577799053\n10 4.283807919525077 0.4701725863389306\n",
     "output_type": "stream"
    }
   ]
  },
  {
   "cell_type": "code",
   "metadata": {
    "cell_id": "7d10ab50c2ae46658aae3a8bf998891e",
    "tags": [],
    "deepnote_to_be_reexecuted": false,
    "source_hash": "f1ec7a66",
    "execution_start": 1657014703710,
    "execution_millis": 132,
    "deepnote_cell_type": "code",
    "deepnote_cell_height": 280.1875,
    "deepnote_output_heights": [
     21.1875
    ]
   },
   "source": "# choose r = 0.001\nr = 0.001\nX_train = prepare_X(df_train)\nw0, w = train_linear_regression_reg(X_train, y_train, r=r)\n\nX_val = prepare_X(df_val)\ny_pred = w0 + X_val.dot(w)\n\nrmse(y_val,y_pred)  \n",
   "execution_count": 55,
   "outputs": [
    {
     "output_type": "execute_result",
     "execution_count": 55,
     "data": {
      "text/plain": "0.456517510012023"
     },
     "metadata": {}
    }
   ]
  },
  {
   "cell_type": "code",
   "metadata": {
    "cell_id": "b85a08ed3a7f4df39c9a806df7547e7e",
    "tags": [],
    "deepnote_to_be_reexecuted": false,
    "source_hash": "ec907b1e",
    "execution_start": 1657014899719,
    "execution_millis": 0,
    "deepnote_cell_type": "code",
    "deepnote_cell_height": 135
   },
   "source": "# full train\ndf_full_train = pd.concat([df_train, df_val])\ndf_full_train = df_full_train.reset_index(drop=True)\n",
   "execution_count": 59,
   "outputs": []
  },
  {
   "cell_type": "code",
   "metadata": {
    "cell_id": "71bac3a86782475c97960740abaec3db",
    "tags": [],
    "deepnote_to_be_reexecuted": false,
    "source_hash": "54a4cc90",
    "execution_start": 1657014929791,
    "execution_millis": 65,
    "deepnote_cell_type": "code",
    "deepnote_cell_height": 81
   },
   "source": "X_full_train = prepare_X(df_full_train)",
   "execution_count": 60,
   "outputs": []
  },
  {
   "cell_type": "code",
   "metadata": {
    "cell_id": "18fefb7359004d4b9fc6b8353ec31bb7",
    "tags": [],
    "deepnote_to_be_reexecuted": false,
    "source_hash": "f3b0d52a",
    "execution_start": 1657014967797,
    "execution_millis": 2,
    "deepnote_cell_type": "code",
    "deepnote_cell_height": 81
   },
   "source": "y_full_train = np.concatenate([y_train, y_val])",
   "execution_count": 61,
   "outputs": []
  },
  {
   "cell_type": "code",
   "metadata": {
    "cell_id": "c2c0ec85067f476291fb68cc23e70fdc",
    "tags": [],
    "deepnote_to_be_reexecuted": false,
    "source_hash": "b7154269",
    "execution_start": 1657015009993,
    "execution_millis": 25,
    "deepnote_cell_type": "code",
    "deepnote_cell_height": 81
   },
   "source": "w0, w = train_linear_regression_reg(X_full_train, y_full_train, r = 0.001)",
   "execution_count": 62,
   "outputs": []
  },
  {
   "cell_type": "code",
   "metadata": {
    "cell_id": "65fb28959dd84d0ebd8d0460d99a50b6",
    "tags": [],
    "deepnote_to_be_reexecuted": false,
    "source_hash": "ba15fb5e",
    "execution_start": 1657015020862,
    "execution_millis": 5,
    "deepnote_cell_type": "code",
    "deepnote_cell_height": 348.4375,
    "deepnote_output_heights": [
     251.4375
    ]
   },
   "source": "w0, w",
   "execution_count": 64,
   "outputs": [
    {
     "output_type": "execute_result",
     "execution_count": 64,
     "data": {
      "text/plain": "(6.3229119004902,\n array([ 1.52506336e-03,  1.18188699e-01, -6.66105567e-03, -5.33413833e-03,\n        -4.87603773e-05, -9.69091854e-02, -7.92621586e-01, -8.90862820e-01,\n        -6.35101523e-01, -2.07169636e-02,  8.77805632e-02, -2.89041668e-04,\n        -5.02819583e-02, -4.63775099e-02, -4.66859093e-01,  7.98659861e-02,\n        -3.16047669e-01, -5.51981648e-01, -7.89525523e-02,  1.09423278e+00,\n         9.18925243e-01,  1.14850266e+00,  2.65163845e+00,  5.08861842e-01,\n         1.62945716e+00,  1.53016123e+00,  1.61733995e+00,  1.54533934e+00,\n        -9.70559866e-02,  3.73062206e-02, -5.81767435e-02, -2.35940791e-02,\n        -1.19357287e-02,  2.18895261e+00,  2.07458271e+00,  2.05916687e+00,\n        -5.00802804e-02,  5.62184612e-02,  1.84794027e-01,  3.32646152e-01,\n        -1.58817030e-01, -2.07169641e-02,  8.77805654e-02, -2.89042799e-04,\n        -5.02819577e-02, -4.63775075e-02]))"
     },
     "metadata": {}
    }
   ]
  },
  {
   "cell_type": "code",
   "metadata": {
    "cell_id": "505a4dfb5c694cebbf9083ba57f653eb",
    "tags": [],
    "deepnote_to_be_reexecuted": false,
    "source_hash": "ff01600a",
    "execution_start": 1657015088182,
    "execution_millis": 62,
    "deepnote_cell_type": "code",
    "deepnote_cell_height": 172.1875,
    "deepnote_output_heights": [
     21.1875
    ]
   },
   "source": "X_test = prepare_X(df_test)\ny_pred = w0 + X_test.dot(w)\n\nrmse(y_test,y_pred)  ",
   "execution_count": 65,
   "outputs": [
    {
     "output_type": "execute_result",
     "execution_count": 65,
     "data": {
      "text/plain": "0.4517749299393156"
     },
     "metadata": {}
    }
   ]
  },
  {
   "cell_type": "code",
   "metadata": {
    "cell_id": "b757a6b3138f4bdab911f18f164cfecd",
    "tags": [],
    "deepnote_to_be_reexecuted": false,
    "source_hash": "2f354578",
    "execution_start": 1657015258109,
    "execution_millis": 13,
    "deepnote_cell_type": "code",
    "deepnote_cell_height": 99
   },
   "source": "#using the model\ncar = df_test.iloc[20].to_dict()",
   "execution_count": 67,
   "outputs": []
  },
  {
   "cell_type": "code",
   "metadata": {
    "cell_id": "0ea32ee4daff42b687e867641cd48fa8",
    "tags": [],
    "deepnote_to_be_reexecuted": false,
    "source_hash": "50eb295b",
    "execution_start": 1657015399084,
    "execution_millis": 58,
    "deepnote_cell_type": "code",
    "deepnote_cell_height": 264
   },
   "source": "df_small = pd.DataFrame([car])\ndf_small",
   "execution_count": 68,
   "outputs": [
    {
     "output_type": "execute_result",
     "execution_count": 68,
     "data": {
      "application/vnd.deepnote.dataframe.v3+json": {
       "column_count": 15,
       "row_count": 1,
       "columns": [
        {
         "name": "make",
         "dtype": "object",
         "stats": {
          "unique_count": 1,
          "nan_count": 0,
          "categories": [
           {
            "name": "toyota",
            "count": 1
           }
          ]
         }
        },
        {
         "name": "model",
         "dtype": "object",
         "stats": {
          "unique_count": 1,
          "nan_count": 0,
          "categories": [
           {
            "name": "sienna",
            "count": 1
           }
          ]
         }
        },
        {
         "name": "year",
         "dtype": "int64",
         "stats": {
          "unique_count": 1,
          "nan_count": 0,
          "min": "2015",
          "max": "2015",
          "histogram": [
           {
            "bin_start": 2014.5,
            "bin_end": 2014.6,
            "count": 0
           },
           {
            "bin_start": 2014.6,
            "bin_end": 2014.7,
            "count": 0
           },
           {
            "bin_start": 2014.7,
            "bin_end": 2014.8,
            "count": 0
           },
           {
            "bin_start": 2014.8,
            "bin_end": 2014.9,
            "count": 0
           },
           {
            "bin_start": 2014.9,
            "bin_end": 2015,
            "count": 0
           },
           {
            "bin_start": 2015,
            "bin_end": 2015.1,
            "count": 1
           },
           {
            "bin_start": 2015.1,
            "bin_end": 2015.2,
            "count": 0
           },
           {
            "bin_start": 2015.2,
            "bin_end": 2015.3,
            "count": 0
           },
           {
            "bin_start": 2015.3,
            "bin_end": 2015.4,
            "count": 0
           },
           {
            "bin_start": 2015.4,
            "bin_end": 2015.5,
            "count": 0
           }
          ]
         }
        },
        {
         "name": "engine_fuel_type",
         "dtype": "object",
         "stats": {
          "unique_count": 1,
          "nan_count": 0,
          "categories": [
           {
            "name": "regular_unleaded",
            "count": 1
           }
          ]
         }
        },
        {
         "name": "engine_hp",
         "dtype": "float64",
         "stats": {
          "unique_count": 1,
          "nan_count": 0,
          "min": "266.0",
          "max": "266.0",
          "histogram": [
           {
            "bin_start": 265.5,
            "bin_end": 265.6,
            "count": 0
           },
           {
            "bin_start": 265.6,
            "bin_end": 265.7,
            "count": 0
           },
           {
            "bin_start": 265.7,
            "bin_end": 265.8,
            "count": 0
           },
           {
            "bin_start": 265.8,
            "bin_end": 265.9,
            "count": 0
           },
           {
            "bin_start": 265.9,
            "bin_end": 266,
            "count": 0
           },
           {
            "bin_start": 266,
            "bin_end": 266.1,
            "count": 1
           },
           {
            "bin_start": 266.1,
            "bin_end": 266.2,
            "count": 0
           },
           {
            "bin_start": 266.2,
            "bin_end": 266.3,
            "count": 0
           },
           {
            "bin_start": 266.3,
            "bin_end": 266.4,
            "count": 0
           },
           {
            "bin_start": 266.4,
            "bin_end": 266.5,
            "count": 0
           }
          ]
         }
        },
        {
         "name": "engine_cylinders",
         "dtype": "float64",
         "stats": {
          "unique_count": 1,
          "nan_count": 0,
          "min": "6.0",
          "max": "6.0",
          "histogram": [
           {
            "bin_start": 5.5,
            "bin_end": 5.6,
            "count": 0
           },
           {
            "bin_start": 5.6,
            "bin_end": 5.7,
            "count": 0
           },
           {
            "bin_start": 5.7,
            "bin_end": 5.8,
            "count": 0
           },
           {
            "bin_start": 5.8,
            "bin_end": 5.9,
            "count": 0
           },
           {
            "bin_start": 5.9,
            "bin_end": 6,
            "count": 0
           },
           {
            "bin_start": 6,
            "bin_end": 6.1,
            "count": 1
           },
           {
            "bin_start": 6.1,
            "bin_end": 6.2,
            "count": 0
           },
           {
            "bin_start": 6.2,
            "bin_end": 6.3,
            "count": 0
           },
           {
            "bin_start": 6.3,
            "bin_end": 6.4,
            "count": 0
           },
           {
            "bin_start": 6.4,
            "bin_end": 6.5,
            "count": 0
           }
          ]
         }
        },
        {
         "name": "transmission_type",
         "dtype": "object",
         "stats": {
          "unique_count": 1,
          "nan_count": 0,
          "categories": [
           {
            "name": "automatic",
            "count": 1
           }
          ]
         }
        },
        {
         "name": "driven_wheels",
         "dtype": "object",
         "stats": {
          "unique_count": 1,
          "nan_count": 0,
          "categories": [
           {
            "name": "front_wheel_drive",
            "count": 1
           }
          ]
         }
        },
        {
         "name": "number_of_doors",
         "dtype": "float64",
         "stats": {
          "unique_count": 1,
          "nan_count": 0,
          "min": "4.0",
          "max": "4.0",
          "histogram": [
           {
            "bin_start": 3.5,
            "bin_end": 3.6,
            "count": 0
           },
           {
            "bin_start": 3.6,
            "bin_end": 3.7,
            "count": 0
           },
           {
            "bin_start": 3.7,
            "bin_end": 3.8,
            "count": 0
           },
           {
            "bin_start": 3.8,
            "bin_end": 3.9,
            "count": 0
           },
           {
            "bin_start": 3.9,
            "bin_end": 4,
            "count": 0
           },
           {
            "bin_start": 4,
            "bin_end": 4.1,
            "count": 1
           },
           {
            "bin_start": 4.1,
            "bin_end": 4.2,
            "count": 0
           },
           {
            "bin_start": 4.2,
            "bin_end": 4.3,
            "count": 0
           },
           {
            "bin_start": 4.3,
            "bin_end": 4.4,
            "count": 0
           },
           {
            "bin_start": 4.4,
            "bin_end": 4.5,
            "count": 0
           }
          ]
         }
        },
        {
         "name": "market_category",
         "dtype": "float64",
         "stats": {
          "unique_count": 0,
          "nan_count": 1,
          "min": null,
          "max": null,
          "histogram": [
           {
            "bin_start": 0,
            "bin_end": 0.1,
            "count": 0
           },
           {
            "bin_start": 0.1,
            "bin_end": 0.2,
            "count": 0
           },
           {
            "bin_start": 0.2,
            "bin_end": 0.30000000000000004,
            "count": 0
           },
           {
            "bin_start": 0.30000000000000004,
            "bin_end": 0.4,
            "count": 0
           },
           {
            "bin_start": 0.4,
            "bin_end": 0.5,
            "count": 0
           },
           {
            "bin_start": 0.5,
            "bin_end": 0.6000000000000001,
            "count": 0
           },
           {
            "bin_start": 0.6000000000000001,
            "bin_end": 0.7000000000000001,
            "count": 0
           },
           {
            "bin_start": 0.7000000000000001,
            "bin_end": 0.8,
            "count": 0
           },
           {
            "bin_start": 0.8,
            "bin_end": 0.9,
            "count": 0
           },
           {
            "bin_start": 0.9,
            "bin_end": 1,
            "count": 0
           }
          ]
         }
        },
        {
         "name": "vehicle_size",
         "dtype": "object",
         "stats": {
          "unique_count": 1,
          "nan_count": 0,
          "categories": [
           {
            "name": "large",
            "count": 1
           }
          ]
         }
        },
        {
         "name": "vehicle_style",
         "dtype": "object",
         "stats": {
          "unique_count": 1,
          "nan_count": 0,
          "categories": [
           {
            "name": "passenger_minivan",
            "count": 1
           }
          ]
         }
        },
        {
         "name": "highway_mpg",
         "dtype": "int64",
         "stats": {
          "unique_count": 1,
          "nan_count": 0,
          "min": "25",
          "max": "25",
          "histogram": [
           {
            "bin_start": 24.5,
            "bin_end": 24.6,
            "count": 0
           },
           {
            "bin_start": 24.6,
            "bin_end": 24.7,
            "count": 0
           },
           {
            "bin_start": 24.7,
            "bin_end": 24.8,
            "count": 0
           },
           {
            "bin_start": 24.8,
            "bin_end": 24.9,
            "count": 0
           },
           {
            "bin_start": 24.9,
            "bin_end": 25,
            "count": 0
           },
           {
            "bin_start": 25,
            "bin_end": 25.1,
            "count": 1
           },
           {
            "bin_start": 25.1,
            "bin_end": 25.2,
            "count": 0
           },
           {
            "bin_start": 25.2,
            "bin_end": 25.3,
            "count": 0
           },
           {
            "bin_start": 25.3,
            "bin_end": 25.4,
            "count": 0
           },
           {
            "bin_start": 25.4,
            "bin_end": 25.5,
            "count": 0
           }
          ]
         }
        },
        {
         "name": "city_mpg",
         "dtype": "int64",
         "stats": {
          "unique_count": 1,
          "nan_count": 0,
          "min": "18",
          "max": "18",
          "histogram": [
           {
            "bin_start": 17.5,
            "bin_end": 17.6,
            "count": 0
           },
           {
            "bin_start": 17.6,
            "bin_end": 17.7,
            "count": 0
           },
           {
            "bin_start": 17.7,
            "bin_end": 17.8,
            "count": 0
           },
           {
            "bin_start": 17.8,
            "bin_end": 17.9,
            "count": 0
           },
           {
            "bin_start": 17.9,
            "bin_end": 18,
            "count": 0
           },
           {
            "bin_start": 18,
            "bin_end": 18.1,
            "count": 1
           },
           {
            "bin_start": 18.1,
            "bin_end": 18.2,
            "count": 0
           },
           {
            "bin_start": 18.2,
            "bin_end": 18.3,
            "count": 0
           },
           {
            "bin_start": 18.3,
            "bin_end": 18.4,
            "count": 0
           },
           {
            "bin_start": 18.4,
            "bin_end": 18.5,
            "count": 0
           }
          ]
         }
        },
        {
         "name": "popularity",
         "dtype": "int64",
         "stats": {
          "unique_count": 1,
          "nan_count": 0,
          "min": "2031",
          "max": "2031",
          "histogram": [
           {
            "bin_start": 2030.5,
            "bin_end": 2030.6,
            "count": 0
           },
           {
            "bin_start": 2030.6,
            "bin_end": 2030.7,
            "count": 0
           },
           {
            "bin_start": 2030.7,
            "bin_end": 2030.8,
            "count": 0
           },
           {
            "bin_start": 2030.8,
            "bin_end": 2030.9,
            "count": 0
           },
           {
            "bin_start": 2030.9,
            "bin_end": 2031,
            "count": 0
           },
           {
            "bin_start": 2031,
            "bin_end": 2031.1,
            "count": 1
           },
           {
            "bin_start": 2031.1,
            "bin_end": 2031.2,
            "count": 0
           },
           {
            "bin_start": 2031.2,
            "bin_end": 2031.3,
            "count": 0
           },
           {
            "bin_start": 2031.3,
            "bin_end": 2031.4,
            "count": 0
           },
           {
            "bin_start": 2031.4,
            "bin_end": 2031.5,
            "count": 0
           }
          ]
         }
        },
        {
         "name": "_deepnote_index_column",
         "dtype": "int64"
        }
       ],
       "rows": [
        {
         "make": "toyota",
         "model": "sienna",
         "year": 2015,
         "engine_fuel_type": "regular_unleaded",
         "engine_hp": 266,
         "engine_cylinders": 6,
         "transmission_type": "automatic",
         "driven_wheels": "front_wheel_drive",
         "number_of_doors": 4,
         "market_category": "nan",
         "vehicle_size": "large",
         "vehicle_style": "passenger_minivan",
         "highway_mpg": 25,
         "city_mpg": 18,
         "popularity": 2031,
         "_deepnote_index_column": 0
        }
       ]
      },
      "text/plain": "     make   model  year  engine_fuel_type  engine_hp  engine_cylinders  \\\n0  toyota  sienna  2015  regular_unleaded      266.0               6.0   \n\n  transmission_type      driven_wheels  number_of_doors  market_category  \\\n0         automatic  front_wheel_drive              4.0              NaN   \n\n  vehicle_size      vehicle_style  highway_mpg  city_mpg  popularity  \n0        large  passenger_minivan           25        18        2031  ",
      "text/html": "<div>\n<style scoped>\n    .dataframe tbody tr th:only-of-type {\n        vertical-align: middle;\n    }\n\n    .dataframe tbody tr th {\n        vertical-align: top;\n    }\n\n    .dataframe thead th {\n        text-align: right;\n    }\n</style>\n<table border=\"1\" class=\"dataframe\">\n  <thead>\n    <tr style=\"text-align: right;\">\n      <th></th>\n      <th>make</th>\n      <th>model</th>\n      <th>year</th>\n      <th>engine_fuel_type</th>\n      <th>engine_hp</th>\n      <th>engine_cylinders</th>\n      <th>transmission_type</th>\n      <th>driven_wheels</th>\n      <th>number_of_doors</th>\n      <th>market_category</th>\n      <th>vehicle_size</th>\n      <th>vehicle_style</th>\n      <th>highway_mpg</th>\n      <th>city_mpg</th>\n      <th>popularity</th>\n    </tr>\n  </thead>\n  <tbody>\n    <tr>\n      <th>0</th>\n      <td>toyota</td>\n      <td>sienna</td>\n      <td>2015</td>\n      <td>regular_unleaded</td>\n      <td>266.0</td>\n      <td>6.0</td>\n      <td>automatic</td>\n      <td>front_wheel_drive</td>\n      <td>4.0</td>\n      <td>NaN</td>\n      <td>large</td>\n      <td>passenger_minivan</td>\n      <td>25</td>\n      <td>18</td>\n      <td>2031</td>\n    </tr>\n  </tbody>\n</table>\n</div>"
     },
     "metadata": {}
    }
   ]
  },
  {
   "cell_type": "code",
   "metadata": {
    "cell_id": "98a8aa189e874268b6f8a2462c000255",
    "tags": [],
    "deepnote_to_be_reexecuted": false,
    "source_hash": "fa70334",
    "execution_start": 1657015425003,
    "execution_millis": 39,
    "deepnote_cell_type": "code",
    "deepnote_cell_height": 81
   },
   "source": "X_small = prepare_X(df_small)",
   "execution_count": 69,
   "outputs": []
  },
  {
   "cell_type": "code",
   "metadata": {
    "cell_id": "6460b61cef0a426781da922de19e3b0c",
    "tags": [],
    "deepnote_to_be_reexecuted": false,
    "source_hash": "deffac3f",
    "execution_start": 1657015456297,
    "execution_millis": 10,
    "deepnote_cell_type": "code",
    "deepnote_cell_height": 154.1875,
    "deepnote_output_heights": [
     21.1875
    ]
   },
   "source": "y_pred = w0 + X_small.dot(w)\ny_pred = y_pred[0]\ny_pred",
   "execution_count": 70,
   "outputs": [
    {
     "output_type": "execute_result",
     "execution_count": 70,
     "data": {
      "text/plain": "10.462651644605488"
     },
     "metadata": {}
    }
   ]
  },
  {
   "cell_type": "code",
   "metadata": {
    "cell_id": "bf08ef0ac8cf412a80808e81cca582c2",
    "tags": [],
    "deepnote_to_be_reexecuted": false,
    "source_hash": "b4ffb489",
    "execution_start": 1657015475615,
    "execution_millis": 11,
    "deepnote_cell_type": "code",
    "deepnote_cell_height": 118.1875,
    "deepnote_output_heights": [
     21.1875
    ]
   },
   "source": "np.expm1(y_pred)    # predict the price",
   "execution_count": 71,
   "outputs": [
    {
     "output_type": "execute_result",
     "execution_count": 71,
     "data": {
      "text/plain": "34983.1942146605"
     },
     "metadata": {}
    }
   ]
  },
  {
   "cell_type": "code",
   "metadata": {
    "cell_id": "0377963901114eef9aff718edce6ffa3",
    "tags": [],
    "owner_user_id": "cc1755e5-5b5c-4e3c-9552-d3d24f885223",
    "deepnote_to_be_reexecuted": false,
    "source_hash": "a2f440a8",
    "execution_start": 1657015506697,
    "execution_millis": 8,
    "deepnote_cell_type": "code",
    "deepnote_cell_height": 118.1875,
    "deepnote_output_heights": [
     21.1875
    ]
   },
   "source": "np.expm1(y_test[20])   # real price",
   "execution_count": 72,
   "outputs": [
    {
     "output_type": "execute_result",
     "execution_count": 72,
     "data": {
      "text/plain": "35000.00000000001"
     },
     "metadata": {}
    }
   ]
  },
  {
   "cell_type": "markdown",
   "source": "<a style='text-decoration:none;line-height:16px;display:flex;color:#5B5B62;padding:10px;justify-content:end;' href='https://deepnote.com?utm_source=created-in-deepnote-cell&projectId=3e0ad6b8-8538-4216-aafe-e2a25909ed87' target=\"_blank\">\n<img alt='Created in deepnote.com' style='display:inline;max-height:16px;margin:0px;margin-right:7.5px;' src='data:image/svg+xml;base64,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' > </img>\nCreated in <span style='font-weight:600;margin-left:4px;'>Deepnote</span></a>",
   "metadata": {
    "tags": [],
    "created_in_deepnote_cell": true,
    "deepnote_cell_type": "markdown"
   }
  }
 ],
 "nbformat": 4,
 "nbformat_minor": 2,
 "metadata": {
  "orig_nbformat": 2,
  "deepnote": {},
  "deepnote_notebook_id": "cf650513-2aa9-4c1e-87ad-7a9924884a9f",
  "deepnote_execution_queue": []
 }
}