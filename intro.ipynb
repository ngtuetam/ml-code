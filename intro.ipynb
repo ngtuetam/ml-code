{
 "cells": [
  {
   "cell_type": "code",
   "metadata": {
    "tags": [],
    "cell_id": "0540dee7-934e-4dc4-877c-8bb3d09180e1",
    "deepnote_to_be_reexecuted": false,
    "source_hash": "b7dcc9c8",
    "execution_start": 1656411488853,
    "execution_millis": 42,
    "deepnote_cell_type": "code",
    "deepnote_cell_height": 99
   },
   "source": "import numpy as np\nimport pandas as pd",
   "execution_count": 1,
   "outputs": []
  },
  {
   "cell_type": "code",
   "metadata": {
    "cell_id": "195ab811ccd743e58984b521d2105d3b",
    "tags": [],
    "deepnote_to_be_reexecuted": false,
    "source_hash": "3523195",
    "execution_start": 1656411488895,
    "execution_millis": 1,
    "deepnote_cell_type": "code",
    "deepnote_cell_height": 150.375
   },
   "source": "print(np.__version__)\nprint(pd.__version__)",
   "execution_count": 2,
   "outputs": [
    {
     "name": "stdout",
     "text": "1.22.4\n1.2.5\n",
     "output_type": "stream"
    }
   ]
  },
  {
   "cell_type": "code",
   "metadata": {
    "cell_id": "f75cb16f8e764c3f886ebe183f8f7ba4",
    "tags": [],
    "deepnote_to_be_reexecuted": false,
    "source_hash": "9beb6623",
    "execution_start": 1656411488896,
    "execution_millis": 777,
    "deepnote_cell_type": "code",
    "deepnote_cell_height": 314.0625
   },
   "source": "!wget https://raw.githubusercontent.com/ngtuetam/ml-code/master/data/car_data.csv",
   "execution_count": 3,
   "outputs": [
    {
     "name": "stdout",
     "text": "--2022-06-28 10:18:09--  https://raw.githubusercontent.com/ngtuetam/ml-code/master/data/car_data.csv\nResolving raw.githubusercontent.com (raw.githubusercontent.com)... 185.199.108.133, 185.199.109.133, 185.199.110.133, ...\nConnecting to raw.githubusercontent.com (raw.githubusercontent.com)|185.199.108.133|:443... connected.\nHTTP request sent, awaiting response... 200 OK\nLength: 1475504 (1.4M) [text/plain]\nSaving to: ‘car_data.csv.1’\n\ncar_data.csv.1      100%[===================>]   1.41M  --.-KB/s    in 0.008s  \n\n2022-06-28 10:18:09 (184 MB/s) - ‘car_data.csv.1’ saved [1475504/1475504]\n\n",
     "output_type": "stream"
    }
   ]
  },
  {
   "cell_type": "code",
   "metadata": {
    "cell_id": "e45005baacc740538047cf9ab7e440d7",
    "tags": [],
    "deepnote_to_be_reexecuted": false,
    "source_hash": "15da6fa4",
    "execution_start": 1656411603726,
    "execution_millis": 444,
    "deepnote_table_state": {
     "pageSize": 10,
     "pageIndex": 1191,
     "filters": [],
     "sortBy": []
    },
    "deepnote_table_loading": false,
    "deepnote_cell_type": "code",
    "deepnote_cell_height": 428
   },
   "source": "df = pd.read_csv('car_data.csv.1')\ndf.head()",
   "execution_count": 6,
   "outputs": [
    {
     "output_type": "execute_result",
     "execution_count": 6,
     "data": {
      "application/vnd.deepnote.dataframe.v3+json": {
       "column_count": 16,
       "row_count": 5,
       "columns": [
        {
         "name": "Make",
         "dtype": "object",
         "stats": {
          "unique_count": 1,
          "nan_count": 0,
          "categories": [
           {
            "name": "BMW",
            "count": 5
           }
          ]
         }
        },
        {
         "name": "Model",
         "dtype": "object",
         "stats": {
          "unique_count": 2,
          "nan_count": 0,
          "categories": [
           {
            "name": "1 Series",
            "count": 4
           },
           {
            "name": "1 Series M",
            "count": 1
           }
          ]
         }
        },
        {
         "name": "Year",
         "dtype": "int64",
         "stats": {
          "unique_count": 1,
          "nan_count": 0,
          "min": "2011",
          "max": "2011",
          "histogram": [
           {
            "bin_start": 2010.5,
            "bin_end": 2010.6,
            "count": 0
           },
           {
            "bin_start": 2010.6,
            "bin_end": 2010.7,
            "count": 0
           },
           {
            "bin_start": 2010.7,
            "bin_end": 2010.8,
            "count": 0
           },
           {
            "bin_start": 2010.8,
            "bin_end": 2010.9,
            "count": 0
           },
           {
            "bin_start": 2010.9,
            "bin_end": 2011,
            "count": 0
           },
           {
            "bin_start": 2011,
            "bin_end": 2011.1,
            "count": 5
           },
           {
            "bin_start": 2011.1,
            "bin_end": 2011.2,
            "count": 0
           },
           {
            "bin_start": 2011.2,
            "bin_end": 2011.3,
            "count": 0
           },
           {
            "bin_start": 2011.3,
            "bin_end": 2011.4,
            "count": 0
           },
           {
            "bin_start": 2011.4,
            "bin_end": 2011.5,
            "count": 0
           }
          ]
         }
        },
        {
         "name": "Engine Fuel Type",
         "dtype": "object",
         "stats": {
          "unique_count": 1,
          "nan_count": 0,
          "categories": [
           {
            "name": "premium unleaded (required)",
            "count": 5
           }
          ]
         }
        },
        {
         "name": "Engine HP",
         "dtype": "float64",
         "stats": {
          "unique_count": 3,
          "nan_count": 0,
          "min": "230.0",
          "max": "335.0",
          "histogram": [
           {
            "bin_start": 230,
            "bin_end": 240.5,
            "count": 2
           },
           {
            "bin_start": 240.5,
            "bin_end": 251,
            "count": 0
           },
           {
            "bin_start": 251,
            "bin_end": 261.5,
            "count": 0
           },
           {
            "bin_start": 261.5,
            "bin_end": 272,
            "count": 0
           },
           {
            "bin_start": 272,
            "bin_end": 282.5,
            "count": 0
           },
           {
            "bin_start": 282.5,
            "bin_end": 293,
            "count": 0
           },
           {
            "bin_start": 293,
            "bin_end": 303.5,
            "count": 2
           },
           {
            "bin_start": 303.5,
            "bin_end": 314,
            "count": 0
           },
           {
            "bin_start": 314,
            "bin_end": 324.5,
            "count": 0
           },
           {
            "bin_start": 324.5,
            "bin_end": 335,
            "count": 1
           }
          ]
         }
        },
        {
         "name": "Engine Cylinders",
         "dtype": "float64",
         "stats": {
          "unique_count": 1,
          "nan_count": 0,
          "min": "6.0",
          "max": "6.0",
          "histogram": [
           {
            "bin_start": 5.5,
            "bin_end": 5.6,
            "count": 0
           },
           {
            "bin_start": 5.6,
            "bin_end": 5.7,
            "count": 0
           },
           {
            "bin_start": 5.7,
            "bin_end": 5.8,
            "count": 0
           },
           {
            "bin_start": 5.8,
            "bin_end": 5.9,
            "count": 0
           },
           {
            "bin_start": 5.9,
            "bin_end": 6,
            "count": 0
           },
           {
            "bin_start": 6,
            "bin_end": 6.1,
            "count": 5
           },
           {
            "bin_start": 6.1,
            "bin_end": 6.2,
            "count": 0
           },
           {
            "bin_start": 6.2,
            "bin_end": 6.3,
            "count": 0
           },
           {
            "bin_start": 6.3,
            "bin_end": 6.4,
            "count": 0
           },
           {
            "bin_start": 6.4,
            "bin_end": 6.5,
            "count": 0
           }
          ]
         }
        },
        {
         "name": "Transmission Type",
         "dtype": "object",
         "stats": {
          "unique_count": 1,
          "nan_count": 0,
          "categories": [
           {
            "name": "MANUAL",
            "count": 5
           }
          ]
         }
        },
        {
         "name": "Driven_Wheels",
         "dtype": "object",
         "stats": {
          "unique_count": 1,
          "nan_count": 0,
          "categories": [
           {
            "name": "rear wheel drive",
            "count": 5
           }
          ]
         }
        },
        {
         "name": "Number of Doors",
         "dtype": "float64",
         "stats": {
          "unique_count": 1,
          "nan_count": 0,
          "min": "2.0",
          "max": "2.0",
          "histogram": [
           {
            "bin_start": 1.5,
            "bin_end": 1.6,
            "count": 0
           },
           {
            "bin_start": 1.6,
            "bin_end": 1.7,
            "count": 0
           },
           {
            "bin_start": 1.7,
            "bin_end": 1.8,
            "count": 0
           },
           {
            "bin_start": 1.8,
            "bin_end": 1.9,
            "count": 0
           },
           {
            "bin_start": 1.9,
            "bin_end": 2,
            "count": 0
           },
           {
            "bin_start": 2,
            "bin_end": 2.1,
            "count": 5
           },
           {
            "bin_start": 2.1,
            "bin_end": 2.2,
            "count": 0
           },
           {
            "bin_start": 2.2,
            "bin_end": 2.3,
            "count": 0
           },
           {
            "bin_start": 2.3,
            "bin_end": 2.4,
            "count": 0
           },
           {
            "bin_start": 2.4,
            "bin_end": 2.5,
            "count": 0
           }
          ]
         }
        },
        {
         "name": "Market Category",
         "dtype": "object",
         "stats": {
          "unique_count": 4,
          "nan_count": 0,
          "categories": [
           {
            "name": "Luxury,Performance",
            "count": 2
           },
           {
            "name": "Factory Tuner,Luxury,High-Performance",
            "count": 1
           },
           {
            "name": "2 others",
            "count": 2
           }
          ]
         }
        },
        {
         "name": "Vehicle Size",
         "dtype": "object",
         "stats": {
          "unique_count": 1,
          "nan_count": 0,
          "categories": [
           {
            "name": "Compact",
            "count": 5
           }
          ]
         }
        },
        {
         "name": "Vehicle Style",
         "dtype": "object",
         "stats": {
          "unique_count": 2,
          "nan_count": 0,
          "categories": [
           {
            "name": "Coupe",
            "count": 3
           },
           {
            "name": "Convertible",
            "count": 2
           }
          ]
         }
        },
        {
         "name": "highway MPG",
         "dtype": "int64",
         "stats": {
          "unique_count": 2,
          "nan_count": 0,
          "min": "26",
          "max": "28",
          "histogram": [
           {
            "bin_start": 26,
            "bin_end": 26.2,
            "count": 1
           },
           {
            "bin_start": 26.2,
            "bin_end": 26.4,
            "count": 0
           },
           {
            "bin_start": 26.4,
            "bin_end": 26.6,
            "count": 0
           },
           {
            "bin_start": 26.6,
            "bin_end": 26.8,
            "count": 0
           },
           {
            "bin_start": 26.8,
            "bin_end": 27,
            "count": 0
           },
           {
            "bin_start": 27,
            "bin_end": 27.2,
            "count": 0
           },
           {
            "bin_start": 27.2,
            "bin_end": 27.4,
            "count": 0
           },
           {
            "bin_start": 27.4,
            "bin_end": 27.6,
            "count": 0
           },
           {
            "bin_start": 27.6,
            "bin_end": 27.8,
            "count": 0
           },
           {
            "bin_start": 27.8,
            "bin_end": 28,
            "count": 4
           }
          ]
         }
        },
        {
         "name": "city mpg",
         "dtype": "int64",
         "stats": {
          "unique_count": 3,
          "nan_count": 0,
          "min": "18",
          "max": "20",
          "histogram": [
           {
            "bin_start": 18,
            "bin_end": 18.2,
            "count": 2
           },
           {
            "bin_start": 18.2,
            "bin_end": 18.4,
            "count": 0
           },
           {
            "bin_start": 18.4,
            "bin_end": 18.6,
            "count": 0
           },
           {
            "bin_start": 18.6,
            "bin_end": 18.8,
            "count": 0
           },
           {
            "bin_start": 18.8,
            "bin_end": 19,
            "count": 0
           },
           {
            "bin_start": 19,
            "bin_end": 19.2,
            "count": 2
           },
           {
            "bin_start": 19.2,
            "bin_end": 19.4,
            "count": 0
           },
           {
            "bin_start": 19.4,
            "bin_end": 19.6,
            "count": 0
           },
           {
            "bin_start": 19.6,
            "bin_end": 19.8,
            "count": 0
           },
           {
            "bin_start": 19.8,
            "bin_end": 20,
            "count": 1
           }
          ]
         }
        },
        {
         "name": "Popularity",
         "dtype": "int64",
         "stats": {
          "unique_count": 1,
          "nan_count": 0,
          "min": "3916",
          "max": "3916",
          "histogram": [
           {
            "bin_start": 3915.5,
            "bin_end": 3915.6,
            "count": 0
           },
           {
            "bin_start": 3915.6,
            "bin_end": 3915.7,
            "count": 0
           },
           {
            "bin_start": 3915.7,
            "bin_end": 3915.8,
            "count": 0
           },
           {
            "bin_start": 3915.8,
            "bin_end": 3915.9,
            "count": 0
           },
           {
            "bin_start": 3915.9,
            "bin_end": 3916,
            "count": 0
           },
           {
            "bin_start": 3916,
            "bin_end": 3916.1,
            "count": 5
           },
           {
            "bin_start": 3916.1,
            "bin_end": 3916.2,
            "count": 0
           },
           {
            "bin_start": 3916.2,
            "bin_end": 3916.3,
            "count": 0
           },
           {
            "bin_start": 3916.3,
            "bin_end": 3916.4,
            "count": 0
           },
           {
            "bin_start": 3916.4,
            "bin_end": 3916.5,
            "count": 0
           }
          ]
         }
        },
        {
         "name": "MSRP",
         "dtype": "int64",
         "stats": {
          "unique_count": 5,
          "nan_count": 0,
          "min": "29450",
          "max": "46135",
          "histogram": [
           {
            "bin_start": 29450,
            "bin_end": 31118.5,
            "count": 1
           },
           {
            "bin_start": 31118.5,
            "bin_end": 32787,
            "count": 0
           },
           {
            "bin_start": 32787,
            "bin_end": 34455.5,
            "count": 0
           },
           {
            "bin_start": 34455.5,
            "bin_end": 36124,
            "count": 1
           },
           {
            "bin_start": 36124,
            "bin_end": 37792.5,
            "count": 1
           },
           {
            "bin_start": 37792.5,
            "bin_end": 39461,
            "count": 0
           },
           {
            "bin_start": 39461,
            "bin_end": 41129.5,
            "count": 1
           },
           {
            "bin_start": 41129.5,
            "bin_end": 42798,
            "count": 0
           },
           {
            "bin_start": 42798,
            "bin_end": 44466.5,
            "count": 0
           },
           {
            "bin_start": 44466.5,
            "bin_end": 46135,
            "count": 1
           }
          ]
         }
        },
        {
         "name": "_deepnote_index_column",
         "dtype": "int64"
        }
       ],
       "rows": [
        {
         "Make": "BMW",
         "Model": "1 Series M",
         "Year": 2011,
         "Engine Fuel Type": "premium unleaded (required)",
         "Engine HP": 335,
         "Engine Cylinders": 6,
         "Transmission Type": "MANUAL",
         "Driven_Wheels": "rear wheel drive",
         "Number of Doors": 2,
         "Market Category": "Factory Tuner,Luxury,High-Performance",
         "Vehicle Size": "Compact",
         "Vehicle Style": "Coupe",
         "highway MPG": 26,
         "city mpg": 19,
         "Popularity": 3916,
         "MSRP": 46135,
         "_deepnote_index_column": 0
        },
        {
         "Make": "BMW",
         "Model": "1 Series",
         "Year": 2011,
         "Engine Fuel Type": "premium unleaded (required)",
         "Engine HP": 300,
         "Engine Cylinders": 6,
         "Transmission Type": "MANUAL",
         "Driven_Wheels": "rear wheel drive",
         "Number of Doors": 2,
         "Market Category": "Luxury,Performance",
         "Vehicle Size": "Compact",
         "Vehicle Style": "Convertible",
         "highway MPG": 28,
         "city mpg": 19,
         "Popularity": 3916,
         "MSRP": 40650,
         "_deepnote_index_column": 1
        },
        {
         "Make": "BMW",
         "Model": "1 Series",
         "Year": 2011,
         "Engine Fuel Type": "premium unleaded (required)",
         "Engine HP": 300,
         "Engine Cylinders": 6,
         "Transmission Type": "MANUAL",
         "Driven_Wheels": "rear wheel drive",
         "Number of Doors": 2,
         "Market Category": "Luxury,High-Performance",
         "Vehicle Size": "Compact",
         "Vehicle Style": "Coupe",
         "highway MPG": 28,
         "city mpg": 20,
         "Popularity": 3916,
         "MSRP": 36350,
         "_deepnote_index_column": 2
        },
        {
         "Make": "BMW",
         "Model": "1 Series",
         "Year": 2011,
         "Engine Fuel Type": "premium unleaded (required)",
         "Engine HP": 230,
         "Engine Cylinders": 6,
         "Transmission Type": "MANUAL",
         "Driven_Wheels": "rear wheel drive",
         "Number of Doors": 2,
         "Market Category": "Luxury,Performance",
         "Vehicle Size": "Compact",
         "Vehicle Style": "Coupe",
         "highway MPG": 28,
         "city mpg": 18,
         "Popularity": 3916,
         "MSRP": 29450,
         "_deepnote_index_column": 3
        },
        {
         "Make": "BMW",
         "Model": "1 Series",
         "Year": 2011,
         "Engine Fuel Type": "premium unleaded (required)",
         "Engine HP": 230,
         "Engine Cylinders": 6,
         "Transmission Type": "MANUAL",
         "Driven_Wheels": "rear wheel drive",
         "Number of Doors": 2,
         "Market Category": "Luxury",
         "Vehicle Size": "Compact",
         "Vehicle Style": "Convertible",
         "highway MPG": 28,
         "city mpg": 18,
         "Popularity": 3916,
         "MSRP": 34500,
         "_deepnote_index_column": 4
        }
       ]
      },
      "text/plain": "  Make       Model  Year             Engine Fuel Type  Engine HP  \\\n0  BMW  1 Series M  2011  premium unleaded (required)      335.0   \n1  BMW    1 Series  2011  premium unleaded (required)      300.0   \n2  BMW    1 Series  2011  premium unleaded (required)      300.0   \n3  BMW    1 Series  2011  premium unleaded (required)      230.0   \n4  BMW    1 Series  2011  premium unleaded (required)      230.0   \n\n   Engine Cylinders Transmission Type     Driven_Wheels  Number of Doors  \\\n0               6.0            MANUAL  rear wheel drive              2.0   \n1               6.0            MANUAL  rear wheel drive              2.0   \n2               6.0            MANUAL  rear wheel drive              2.0   \n3               6.0            MANUAL  rear wheel drive              2.0   \n4               6.0            MANUAL  rear wheel drive              2.0   \n\n                         Market Category Vehicle Size Vehicle Style  \\\n0  Factory Tuner,Luxury,High-Performance      Compact         Coupe   \n1                     Luxury,Performance      Compact   Convertible   \n2                Luxury,High-Performance      Compact         Coupe   \n3                     Luxury,Performance      Compact         Coupe   \n4                                 Luxury      Compact   Convertible   \n\n   highway MPG  city mpg  Popularity   MSRP  \n0           26        19        3916  46135  \n1           28        19        3916  40650  \n2           28        20        3916  36350  \n3           28        18        3916  29450  \n4           28        18        3916  34500  ",
      "text/html": "<div>\n<style scoped>\n    .dataframe tbody tr th:only-of-type {\n        vertical-align: middle;\n    }\n\n    .dataframe tbody tr th {\n        vertical-align: top;\n    }\n\n    .dataframe thead th {\n        text-align: right;\n    }\n</style>\n<table border=\"1\" class=\"dataframe\">\n  <thead>\n    <tr style=\"text-align: right;\">\n      <th></th>\n      <th>Make</th>\n      <th>Model</th>\n      <th>Year</th>\n      <th>Engine Fuel Type</th>\n      <th>Engine HP</th>\n      <th>Engine Cylinders</th>\n      <th>Transmission Type</th>\n      <th>Driven_Wheels</th>\n      <th>Number of Doors</th>\n      <th>Market Category</th>\n      <th>Vehicle Size</th>\n      <th>Vehicle Style</th>\n      <th>highway MPG</th>\n      <th>city mpg</th>\n      <th>Popularity</th>\n      <th>MSRP</th>\n    </tr>\n  </thead>\n  <tbody>\n    <tr>\n      <th>0</th>\n      <td>BMW</td>\n      <td>1 Series M</td>\n      <td>2011</td>\n      <td>premium unleaded (required)</td>\n      <td>335.0</td>\n      <td>6.0</td>\n      <td>MANUAL</td>\n      <td>rear wheel drive</td>\n      <td>2.0</td>\n      <td>Factory Tuner,Luxury,High-Performance</td>\n      <td>Compact</td>\n      <td>Coupe</td>\n      <td>26</td>\n      <td>19</td>\n      <td>3916</td>\n      <td>46135</td>\n    </tr>\n    <tr>\n      <th>1</th>\n      <td>BMW</td>\n      <td>1 Series</td>\n      <td>2011</td>\n      <td>premium unleaded (required)</td>\n      <td>300.0</td>\n      <td>6.0</td>\n      <td>MANUAL</td>\n      <td>rear wheel drive</td>\n      <td>2.0</td>\n      <td>Luxury,Performance</td>\n      <td>Compact</td>\n      <td>Convertible</td>\n      <td>28</td>\n      <td>19</td>\n      <td>3916</td>\n      <td>40650</td>\n    </tr>\n    <tr>\n      <th>2</th>\n      <td>BMW</td>\n      <td>1 Series</td>\n      <td>2011</td>\n      <td>premium unleaded (required)</td>\n      <td>300.0</td>\n      <td>6.0</td>\n      <td>MANUAL</td>\n      <td>rear wheel drive</td>\n      <td>2.0</td>\n      <td>Luxury,High-Performance</td>\n      <td>Compact</td>\n      <td>Coupe</td>\n      <td>28</td>\n      <td>20</td>\n      <td>3916</td>\n      <td>36350</td>\n    </tr>\n    <tr>\n      <th>3</th>\n      <td>BMW</td>\n      <td>1 Series</td>\n      <td>2011</td>\n      <td>premium unleaded (required)</td>\n      <td>230.0</td>\n      <td>6.0</td>\n      <td>MANUAL</td>\n      <td>rear wheel drive</td>\n      <td>2.0</td>\n      <td>Luxury,Performance</td>\n      <td>Compact</td>\n      <td>Coupe</td>\n      <td>28</td>\n      <td>18</td>\n      <td>3916</td>\n      <td>29450</td>\n    </tr>\n    <tr>\n      <th>4</th>\n      <td>BMW</td>\n      <td>1 Series</td>\n      <td>2011</td>\n      <td>premium unleaded (required)</td>\n      <td>230.0</td>\n      <td>6.0</td>\n      <td>MANUAL</td>\n      <td>rear wheel drive</td>\n      <td>2.0</td>\n      <td>Luxury</td>\n      <td>Compact</td>\n      <td>Convertible</td>\n      <td>28</td>\n      <td>18</td>\n      <td>3916</td>\n      <td>34500</td>\n    </tr>\n  </tbody>\n</table>\n</div>"
     },
     "metadata": {}
    }
   ]
  },
  {
   "cell_type": "code",
   "metadata": {
    "cell_id": "54c37151defb4885a1f70ec1ce2fb5a9",
    "tags": [],
    "deepnote_to_be_reexecuted": false,
    "source_hash": "60e64a58",
    "execution_start": 1656411608747,
    "execution_millis": 69,
    "deepnote_cell_type": "code",
    "deepnote_cell_height": 633
   },
   "source": "m_bmw = df[df[\"Make\"]== \"BMW\"]\nm_bmw",
   "execution_count": 7,
   "outputs": [
    {
     "output_type": "execute_result",
     "execution_count": 7,
     "data": {
      "application/vnd.deepnote.dataframe.v3+json": {
       "column_count": 16,
       "row_count": 334,
       "columns": [
        {
         "name": "Make",
         "dtype": "object",
         "stats": {
          "unique_count": 1,
          "nan_count": 0,
          "categories": [
           {
            "name": "BMW",
            "count": 334
           }
          ]
         }
        },
        {
         "name": "Model",
         "dtype": "object",
         "stats": {
          "unique_count": 39,
          "nan_count": 0,
          "categories": [
           {
            "name": "3 Series",
            "count": 34
           },
           {
            "name": "4 Series",
            "count": 29
           },
           {
            "name": "37 others",
            "count": 271
           }
          ]
         }
        },
        {
         "name": "Year",
         "dtype": "int64",
         "stats": {
          "unique_count": 18,
          "nan_count": 0,
          "min": "1995",
          "max": "2017",
          "histogram": [
           {
            "bin_start": 1995,
            "bin_end": 1997.2,
            "count": 7
           },
           {
            "bin_start": 1997.2,
            "bin_end": 1999.4,
            "count": 0
           },
           {
            "bin_start": 1999.4,
            "bin_end": 2001.6,
            "count": 9
           },
           {
            "bin_start": 2001.6,
            "bin_end": 2003.8,
            "count": 7
           },
           {
            "bin_start": 2003.8,
            "bin_end": 2006,
            "count": 0
           },
           {
            "bin_start": 2006,
            "bin_end": 2008.2,
            "count": 6
           },
           {
            "bin_start": 2008.2,
            "bin_end": 2010.4,
            "count": 1
           },
           {
            "bin_start": 2010.4,
            "bin_end": 2012.6,
            "count": 10
           },
           {
            "bin_start": 2012.6,
            "bin_end": 2014.8,
            "count": 19
           },
           {
            "bin_start": 2014.8,
            "bin_end": 2017,
            "count": 275
           }
          ]
         }
        },
        {
         "name": "Engine Fuel Type",
         "dtype": "object",
         "stats": {
          "unique_count": 5,
          "nan_count": 0,
          "categories": [
           {
            "name": "premium unleaded (required)",
            "count": 273
           },
           {
            "name": "premium unleaded (recommended)",
            "count": 27
           },
           {
            "name": "3 others",
            "count": 34
           }
          ]
         }
        },
        {
         "name": "Engine HP",
         "dtype": "float64",
         "stats": {
          "unique_count": 37,
          "nan_count": 0,
          "min": "170.0",
          "max": "600.0",
          "histogram": [
           {
            "bin_start": 170,
            "bin_end": 213,
            "count": 27
           },
           {
            "bin_start": 213,
            "bin_end": 256,
            "count": 91
           },
           {
            "bin_start": 256,
            "bin_end": 299,
            "count": 3
           },
           {
            "bin_start": 299,
            "bin_end": 342,
            "count": 119
           },
           {
            "bin_start": 342,
            "bin_end": 385,
            "count": 8
           },
           {
            "bin_start": 385,
            "bin_end": 428,
            "count": 12
           },
           {
            "bin_start": 428,
            "bin_end": 471,
            "count": 40
           },
           {
            "bin_start": 471,
            "bin_end": 514,
            "count": 3
           },
           {
            "bin_start": 514,
            "bin_end": 557,
            "count": 14
           },
           {
            "bin_start": 557,
            "bin_end": 600,
            "count": 17
           }
          ]
         }
        },
        {
         "name": "Engine Cylinders",
         "dtype": "float64",
         "stats": {
          "unique_count": 5,
          "nan_count": 0,
          "min": "0.0",
          "max": "12.0",
          "histogram": [
           {
            "bin_start": 0,
            "bin_end": 1.2,
            "count": 4
           },
           {
            "bin_start": 1.2,
            "bin_end": 2.4,
            "count": 0
           },
           {
            "bin_start": 2.4,
            "bin_end": 3.5999999999999996,
            "count": 0
           },
           {
            "bin_start": 3.5999999999999996,
            "bin_end": 4.8,
            "count": 89
           },
           {
            "bin_start": 4.8,
            "bin_end": 6,
            "count": 0
           },
           {
            "bin_start": 6,
            "bin_end": 7.199999999999999,
            "count": 157
           },
           {
            "bin_start": 7.199999999999999,
            "bin_end": 8.4,
            "count": 79
           },
           {
            "bin_start": 8.4,
            "bin_end": 9.6,
            "count": 0
           },
           {
            "bin_start": 9.6,
            "bin_end": 10.799999999999999,
            "count": 0
           },
           {
            "bin_start": 10.799999999999999,
            "bin_end": 12,
            "count": 5
           }
          ]
         }
        },
        {
         "name": "Transmission Type",
         "dtype": "object",
         "stats": {
          "unique_count": 4,
          "nan_count": 0,
          "categories": [
           {
            "name": "AUTOMATIC",
            "count": 255
           },
           {
            "name": "MANUAL",
            "count": 57
           },
           {
            "name": "2 others",
            "count": 22
           }
          ]
         }
        },
        {
         "name": "Driven_Wheels",
         "dtype": "object",
         "stats": {
          "unique_count": 3,
          "nan_count": 0,
          "categories": [
           {
            "name": "rear wheel drive",
            "count": 189
           },
           {
            "name": "all wheel drive",
            "count": 144
           },
           {
            "name": "front wheel drive",
            "count": 1
           }
          ]
         }
        },
        {
         "name": "Number of Doors",
         "dtype": "float64",
         "stats": {
          "unique_count": 2,
          "nan_count": 0,
          "min": "2.0",
          "max": "4.0",
          "histogram": [
           {
            "bin_start": 2,
            "bin_end": 2.2,
            "count": 140
           },
           {
            "bin_start": 2.2,
            "bin_end": 2.4,
            "count": 0
           },
           {
            "bin_start": 2.4,
            "bin_end": 2.6,
            "count": 0
           },
           {
            "bin_start": 2.6,
            "bin_end": 2.8,
            "count": 0
           },
           {
            "bin_start": 2.8,
            "bin_end": 3,
            "count": 0
           },
           {
            "bin_start": 3,
            "bin_end": 3.2,
            "count": 0
           },
           {
            "bin_start": 3.2,
            "bin_end": 3.4000000000000004,
            "count": 0
           },
           {
            "bin_start": 3.4000000000000004,
            "bin_end": 3.6,
            "count": 0
           },
           {
            "bin_start": 3.6,
            "bin_end": 3.8,
            "count": 0
           },
           {
            "bin_start": 3.8,
            "bin_end": 4,
            "count": 194
           }
          ]
         }
        },
        {
         "name": "Market Category",
         "dtype": "object",
         "stats": {
          "unique_count": 17,
          "nan_count": 0,
          "categories": [
           {
            "name": "Luxury,Performance",
            "count": 87
           },
           {
            "name": "Factory Tuner,Luxury,High-Performance",
            "count": 54
           },
           {
            "name": "15 others",
            "count": 193
           }
          ]
         }
        },
        {
         "name": "Vehicle Size",
         "dtype": "object",
         "stats": {
          "unique_count": 3,
          "nan_count": 0,
          "categories": [
           {
            "name": "Midsize",
            "count": 182
           },
           {
            "name": "Large",
            "count": 78
           },
           {
            "name": "Compact",
            "count": 74
           }
          ]
         }
        },
        {
         "name": "Vehicle Style",
         "dtype": "object",
         "stats": {
          "unique_count": 7,
          "nan_count": 0,
          "categories": [
           {
            "name": "Sedan",
            "count": 113
           },
           {
            "name": "Convertible",
            "count": 71
           },
           {
            "name": "5 others",
            "count": 150
           }
          ]
         }
        },
        {
         "name": "highway MPG",
         "dtype": "int64",
         "stats": {
          "unique_count": 27,
          "nan_count": 0,
          "min": "18",
          "max": "111",
          "histogram": [
           {
            "bin_start": 18,
            "bin_end": 27.3,
            "count": 148
           },
           {
            "bin_start": 27.3,
            "bin_end": 36.6,
            "count": 169
           },
           {
            "bin_start": 36.6,
            "bin_end": 45.900000000000006,
            "count": 13
           },
           {
            "bin_start": 45.900000000000006,
            "bin_end": 55.2,
            "count": 0
           },
           {
            "bin_start": 55.2,
            "bin_end": 64.5,
            "count": 0
           },
           {
            "bin_start": 64.5,
            "bin_end": 73.80000000000001,
            "count": 0
           },
           {
            "bin_start": 73.80000000000001,
            "bin_end": 83.10000000000001,
            "count": 0
           },
           {
            "bin_start": 83.10000000000001,
            "bin_end": 92.4,
            "count": 0
           },
           {
            "bin_start": 92.4,
            "bin_end": 101.7,
            "count": 0
           },
           {
            "bin_start": 101.7,
            "bin_end": 111,
            "count": 4
           }
          ]
         }
        },
        {
         "name": "city mpg",
         "dtype": "int64",
         "stats": {
          "unique_count": 22,
          "nan_count": 0,
          "min": "10",
          "max": "137",
          "histogram": [
           {
            "bin_start": 10,
            "bin_end": 22.7,
            "count": 269
           },
           {
            "bin_start": 22.7,
            "bin_end": 35.4,
            "count": 61
           },
           {
            "bin_start": 35.4,
            "bin_end": 48.099999999999994,
            "count": 0
           },
           {
            "bin_start": 48.099999999999994,
            "bin_end": 60.8,
            "count": 0
           },
           {
            "bin_start": 60.8,
            "bin_end": 73.5,
            "count": 0
           },
           {
            "bin_start": 73.5,
            "bin_end": 86.19999999999999,
            "count": 0
           },
           {
            "bin_start": 86.19999999999999,
            "bin_end": 98.89999999999999,
            "count": 0
           },
           {
            "bin_start": 98.89999999999999,
            "bin_end": 111.6,
            "count": 0
           },
           {
            "bin_start": 111.6,
            "bin_end": 124.3,
            "count": 0
           },
           {
            "bin_start": 124.3,
            "bin_end": 137,
            "count": 4
           }
          ]
         }
        },
        {
         "name": "Popularity",
         "dtype": "int64",
         "stats": {
          "unique_count": 1,
          "nan_count": 0,
          "min": "3916",
          "max": "3916",
          "histogram": [
           {
            "bin_start": 3915.5,
            "bin_end": 3915.6,
            "count": 0
           },
           {
            "bin_start": 3915.6,
            "bin_end": 3915.7,
            "count": 0
           },
           {
            "bin_start": 3915.7,
            "bin_end": 3915.8,
            "count": 0
           },
           {
            "bin_start": 3915.8,
            "bin_end": 3915.9,
            "count": 0
           },
           {
            "bin_start": 3915.9,
            "bin_end": 3916,
            "count": 0
           },
           {
            "bin_start": 3916,
            "bin_end": 3916.1,
            "count": 334
           },
           {
            "bin_start": 3916.1,
            "bin_end": 3916.2,
            "count": 0
           },
           {
            "bin_start": 3916.2,
            "bin_end": 3916.3,
            "count": 0
           },
           {
            "bin_start": 3916.3,
            "bin_end": 3916.4,
            "count": 0
           },
           {
            "bin_start": 3916.4,
            "bin_end": 3916.5,
            "count": 0
           }
          ]
         }
        },
        {
         "name": "MSRP",
         "dtype": "int64",
         "stats": {
          "unique_count": 263,
          "nan_count": 0,
          "min": "4697",
          "max": "141200",
          "histogram": [
           {
            "bin_start": 4697,
            "bin_end": 18347.3,
            "count": 10
           },
           {
            "bin_start": 18347.3,
            "bin_end": 31997.6,
            "count": 7
           },
           {
            "bin_start": 31997.6,
            "bin_end": 45647.899999999994,
            "count": 99
           },
           {
            "bin_start": 45647.899999999994,
            "bin_end": 59298.2,
            "count": 81
           },
           {
            "bin_start": 59298.2,
            "bin_end": 72948.5,
            "count": 41
           },
           {
            "bin_start": 72948.5,
            "bin_end": 86598.79999999999,
            "count": 29
           },
           {
            "bin_start": 86598.79999999999,
            "bin_end": 100249.09999999999,
            "count": 37
           },
           {
            "bin_start": 100249.09999999999,
            "bin_end": 113899.4,
            "count": 6
           },
           {
            "bin_start": 113899.4,
            "bin_end": 127549.7,
            "count": 9
           },
           {
            "bin_start": 127549.7,
            "bin_end": 141200,
            "count": 15
           }
          ]
         }
        },
        {
         "name": "_deepnote_index_column",
         "dtype": "int64"
        }
       ],
       "rows": [
        {
         "Make": "BMW",
         "Model": "1 Series M",
         "Year": 2011,
         "Engine Fuel Type": "premium unleaded (required)",
         "Engine HP": 335,
         "Engine Cylinders": 6,
         "Transmission Type": "MANUAL",
         "Driven_Wheels": "rear wheel drive",
         "Number of Doors": 2,
         "Market Category": "Factory Tuner,Luxury,High-Performance",
         "Vehicle Size": "Compact",
         "Vehicle Style": "Coupe",
         "highway MPG": 26,
         "city mpg": 19,
         "Popularity": 3916,
         "MSRP": 46135,
         "_deepnote_index_column": 0
        },
        {
         "Make": "BMW",
         "Model": "1 Series",
         "Year": 2011,
         "Engine Fuel Type": "premium unleaded (required)",
         "Engine HP": 300,
         "Engine Cylinders": 6,
         "Transmission Type": "MANUAL",
         "Driven_Wheels": "rear wheel drive",
         "Number of Doors": 2,
         "Market Category": "Luxury,Performance",
         "Vehicle Size": "Compact",
         "Vehicle Style": "Convertible",
         "highway MPG": 28,
         "city mpg": 19,
         "Popularity": 3916,
         "MSRP": 40650,
         "_deepnote_index_column": 1
        },
        {
         "Make": "BMW",
         "Model": "1 Series",
         "Year": 2011,
         "Engine Fuel Type": "premium unleaded (required)",
         "Engine HP": 300,
         "Engine Cylinders": 6,
         "Transmission Type": "MANUAL",
         "Driven_Wheels": "rear wheel drive",
         "Number of Doors": 2,
         "Market Category": "Luxury,High-Performance",
         "Vehicle Size": "Compact",
         "Vehicle Style": "Coupe",
         "highway MPG": 28,
         "city mpg": 20,
         "Popularity": 3916,
         "MSRP": 36350,
         "_deepnote_index_column": 2
        },
        {
         "Make": "BMW",
         "Model": "1 Series",
         "Year": 2011,
         "Engine Fuel Type": "premium unleaded (required)",
         "Engine HP": 230,
         "Engine Cylinders": 6,
         "Transmission Type": "MANUAL",
         "Driven_Wheels": "rear wheel drive",
         "Number of Doors": 2,
         "Market Category": "Luxury,Performance",
         "Vehicle Size": "Compact",
         "Vehicle Style": "Coupe",
         "highway MPG": 28,
         "city mpg": 18,
         "Popularity": 3916,
         "MSRP": 29450,
         "_deepnote_index_column": 3
        },
        {
         "Make": "BMW",
         "Model": "1 Series",
         "Year": 2011,
         "Engine Fuel Type": "premium unleaded (required)",
         "Engine HP": 230,
         "Engine Cylinders": 6,
         "Transmission Type": "MANUAL",
         "Driven_Wheels": "rear wheel drive",
         "Number of Doors": 2,
         "Market Category": "Luxury",
         "Vehicle Size": "Compact",
         "Vehicle Style": "Convertible",
         "highway MPG": 28,
         "city mpg": 18,
         "Popularity": 3916,
         "MSRP": 34500,
         "_deepnote_index_column": 4
        },
        {
         "Make": "BMW",
         "Model": "1 Series",
         "Year": 2012,
         "Engine Fuel Type": "premium unleaded (required)",
         "Engine HP": 230,
         "Engine Cylinders": 6,
         "Transmission Type": "MANUAL",
         "Driven_Wheels": "rear wheel drive",
         "Number of Doors": 2,
         "Market Category": "Luxury,Performance",
         "Vehicle Size": "Compact",
         "Vehicle Style": "Coupe",
         "highway MPG": 28,
         "city mpg": 18,
         "Popularity": 3916,
         "MSRP": 31200,
         "_deepnote_index_column": 5
        },
        {
         "Make": "BMW",
         "Model": "1 Series",
         "Year": 2012,
         "Engine Fuel Type": "premium unleaded (required)",
         "Engine HP": 300,
         "Engine Cylinders": 6,
         "Transmission Type": "MANUAL",
         "Driven_Wheels": "rear wheel drive",
         "Number of Doors": 2,
         "Market Category": "Luxury,Performance",
         "Vehicle Size": "Compact",
         "Vehicle Style": "Convertible",
         "highway MPG": 26,
         "city mpg": 17,
         "Popularity": 3916,
         "MSRP": 44100,
         "_deepnote_index_column": 6
        },
        {
         "Make": "BMW",
         "Model": "1 Series",
         "Year": 2012,
         "Engine Fuel Type": "premium unleaded (required)",
         "Engine HP": 300,
         "Engine Cylinders": 6,
         "Transmission Type": "MANUAL",
         "Driven_Wheels": "rear wheel drive",
         "Number of Doors": 2,
         "Market Category": "Luxury,High-Performance",
         "Vehicle Size": "Compact",
         "Vehicle Style": "Coupe",
         "highway MPG": 28,
         "city mpg": 20,
         "Popularity": 3916,
         "MSRP": 39300,
         "_deepnote_index_column": 7
        },
        {
         "Make": "BMW",
         "Model": "1 Series",
         "Year": 2012,
         "Engine Fuel Type": "premium unleaded (required)",
         "Engine HP": 230,
         "Engine Cylinders": 6,
         "Transmission Type": "MANUAL",
         "Driven_Wheels": "rear wheel drive",
         "Number of Doors": 2,
         "Market Category": "Luxury",
         "Vehicle Size": "Compact",
         "Vehicle Style": "Convertible",
         "highway MPG": 28,
         "city mpg": 18,
         "Popularity": 3916,
         "MSRP": 36900,
         "_deepnote_index_column": 8
        },
        {
         "Make": "BMW",
         "Model": "1 Series",
         "Year": 2013,
         "Engine Fuel Type": "premium unleaded (required)",
         "Engine HP": 230,
         "Engine Cylinders": 6,
         "Transmission Type": "MANUAL",
         "Driven_Wheels": "rear wheel drive",
         "Number of Doors": 2,
         "Market Category": "Luxury",
         "Vehicle Size": "Compact",
         "Vehicle Style": "Convertible",
         "highway MPG": 27,
         "city mpg": 18,
         "Popularity": 3916,
         "MSRP": 37200,
         "_deepnote_index_column": 9
        }
       ]
      },
      "text/plain": "      Make       Model  Year             Engine Fuel Type  Engine HP  \\\n0      BMW  1 Series M  2011  premium unleaded (required)      335.0   \n1      BMW    1 Series  2011  premium unleaded (required)      300.0   \n2      BMW    1 Series  2011  premium unleaded (required)      300.0   \n3      BMW    1 Series  2011  premium unleaded (required)      230.0   \n4      BMW    1 Series  2011  premium unleaded (required)      230.0   \n...    ...         ...   ...                          ...        ...   \n11901  BMW          Z4  2016  premium unleaded (required)      240.0   \n11902  BMW          Z4  2016  premium unleaded (required)      335.0   \n11903  BMW          Z8  2001  premium unleaded (required)      394.0   \n11904  BMW          Z8  2002  premium unleaded (required)      394.0   \n11905  BMW          Z8  2003  premium unleaded (required)      394.0   \n\n       Engine Cylinders Transmission Type     Driven_Wheels  Number of Doors  \\\n0                   6.0            MANUAL  rear wheel drive              2.0   \n1                   6.0            MANUAL  rear wheel drive              2.0   \n2                   6.0            MANUAL  rear wheel drive              2.0   \n3                   6.0            MANUAL  rear wheel drive              2.0   \n4                   6.0            MANUAL  rear wheel drive              2.0   \n...                 ...               ...               ...              ...   \n11901               4.0            MANUAL  rear wheel drive              2.0   \n11902               6.0  AUTOMATED_MANUAL  rear wheel drive              2.0   \n11903               8.0            MANUAL  rear wheel drive              2.0   \n11904               8.0            MANUAL  rear wheel drive              2.0   \n11905               8.0            MANUAL  rear wheel drive              2.0   \n\n                             Market Category Vehicle Size Vehicle Style  \\\n0      Factory Tuner,Luxury,High-Performance      Compact         Coupe   \n1                         Luxury,Performance      Compact   Convertible   \n2                    Luxury,High-Performance      Compact         Coupe   \n3                         Luxury,Performance      Compact         Coupe   \n4                                     Luxury      Compact   Convertible   \n...                                      ...          ...           ...   \n11901                     Luxury,Performance      Compact   Convertible   \n11902                Luxury,High-Performance      Compact   Convertible   \n11903         Exotic,Luxury,High-Performance      Compact   Convertible   \n11904         Exotic,Luxury,High-Performance      Compact   Convertible   \n11905         Exotic,Luxury,High-Performance      Compact   Convertible   \n\n       highway MPG  city mpg  Popularity    MSRP  \n0               26        19        3916   46135  \n1               28        19        3916   40650  \n2               28        20        3916   36350  \n3               28        18        3916   29450  \n4               28        18        3916   34500  \n...            ...       ...         ...     ...  \n11901           34        22        3916   49700  \n11902           24        17        3916   66350  \n11903           19        12        3916  128000  \n11904           19        12        3916  130000  \n11905           19        12        3916  131500  \n\n[334 rows x 16 columns]",
      "text/html": "<div>\n<style scoped>\n    .dataframe tbody tr th:only-of-type {\n        vertical-align: middle;\n    }\n\n    .dataframe tbody tr th {\n        vertical-align: top;\n    }\n\n    .dataframe thead th {\n        text-align: right;\n    }\n</style>\n<table border=\"1\" class=\"dataframe\">\n  <thead>\n    <tr style=\"text-align: right;\">\n      <th></th>\n      <th>Make</th>\n      <th>Model</th>\n      <th>Year</th>\n      <th>Engine Fuel Type</th>\n      <th>Engine HP</th>\n      <th>Engine Cylinders</th>\n      <th>Transmission Type</th>\n      <th>Driven_Wheels</th>\n      <th>Number of Doors</th>\n      <th>Market Category</th>\n      <th>Vehicle Size</th>\n      <th>Vehicle Style</th>\n      <th>highway MPG</th>\n      <th>city mpg</th>\n      <th>Popularity</th>\n      <th>MSRP</th>\n    </tr>\n  </thead>\n  <tbody>\n    <tr>\n      <th>0</th>\n      <td>BMW</td>\n      <td>1 Series M</td>\n      <td>2011</td>\n      <td>premium unleaded (required)</td>\n      <td>335.0</td>\n      <td>6.0</td>\n      <td>MANUAL</td>\n      <td>rear wheel drive</td>\n      <td>2.0</td>\n      <td>Factory Tuner,Luxury,High-Performance</td>\n      <td>Compact</td>\n      <td>Coupe</td>\n      <td>26</td>\n      <td>19</td>\n      <td>3916</td>\n      <td>46135</td>\n    </tr>\n    <tr>\n      <th>1</th>\n      <td>BMW</td>\n      <td>1 Series</td>\n      <td>2011</td>\n      <td>premium unleaded (required)</td>\n      <td>300.0</td>\n      <td>6.0</td>\n      <td>MANUAL</td>\n      <td>rear wheel drive</td>\n      <td>2.0</td>\n      <td>Luxury,Performance</td>\n      <td>Compact</td>\n      <td>Convertible</td>\n      <td>28</td>\n      <td>19</td>\n      <td>3916</td>\n      <td>40650</td>\n    </tr>\n    <tr>\n      <th>2</th>\n      <td>BMW</td>\n      <td>1 Series</td>\n      <td>2011</td>\n      <td>premium unleaded (required)</td>\n      <td>300.0</td>\n      <td>6.0</td>\n      <td>MANUAL</td>\n      <td>rear wheel drive</td>\n      <td>2.0</td>\n      <td>Luxury,High-Performance</td>\n      <td>Compact</td>\n      <td>Coupe</td>\n      <td>28</td>\n      <td>20</td>\n      <td>3916</td>\n      <td>36350</td>\n    </tr>\n    <tr>\n      <th>3</th>\n      <td>BMW</td>\n      <td>1 Series</td>\n      <td>2011</td>\n      <td>premium unleaded (required)</td>\n      <td>230.0</td>\n      <td>6.0</td>\n      <td>MANUAL</td>\n      <td>rear wheel drive</td>\n      <td>2.0</td>\n      <td>Luxury,Performance</td>\n      <td>Compact</td>\n      <td>Coupe</td>\n      <td>28</td>\n      <td>18</td>\n      <td>3916</td>\n      <td>29450</td>\n    </tr>\n    <tr>\n      <th>4</th>\n      <td>BMW</td>\n      <td>1 Series</td>\n      <td>2011</td>\n      <td>premium unleaded (required)</td>\n      <td>230.0</td>\n      <td>6.0</td>\n      <td>MANUAL</td>\n      <td>rear wheel drive</td>\n      <td>2.0</td>\n      <td>Luxury</td>\n      <td>Compact</td>\n      <td>Convertible</td>\n      <td>28</td>\n      <td>18</td>\n      <td>3916</td>\n      <td>34500</td>\n    </tr>\n    <tr>\n      <th>...</th>\n      <td>...</td>\n      <td>...</td>\n      <td>...</td>\n      <td>...</td>\n      <td>...</td>\n      <td>...</td>\n      <td>...</td>\n      <td>...</td>\n      <td>...</td>\n      <td>...</td>\n      <td>...</td>\n      <td>...</td>\n      <td>...</td>\n      <td>...</td>\n      <td>...</td>\n      <td>...</td>\n    </tr>\n    <tr>\n      <th>11901</th>\n      <td>BMW</td>\n      <td>Z4</td>\n      <td>2016</td>\n      <td>premium unleaded (required)</td>\n      <td>240.0</td>\n      <td>4.0</td>\n      <td>MANUAL</td>\n      <td>rear wheel drive</td>\n      <td>2.0</td>\n      <td>Luxury,Performance</td>\n      <td>Compact</td>\n      <td>Convertible</td>\n      <td>34</td>\n      <td>22</td>\n      <td>3916</td>\n      <td>49700</td>\n    </tr>\n    <tr>\n      <th>11902</th>\n      <td>BMW</td>\n      <td>Z4</td>\n      <td>2016</td>\n      <td>premium unleaded (required)</td>\n      <td>335.0</td>\n      <td>6.0</td>\n      <td>AUTOMATED_MANUAL</td>\n      <td>rear wheel drive</td>\n      <td>2.0</td>\n      <td>Luxury,High-Performance</td>\n      <td>Compact</td>\n      <td>Convertible</td>\n      <td>24</td>\n      <td>17</td>\n      <td>3916</td>\n      <td>66350</td>\n    </tr>\n    <tr>\n      <th>11903</th>\n      <td>BMW</td>\n      <td>Z8</td>\n      <td>2001</td>\n      <td>premium unleaded (required)</td>\n      <td>394.0</td>\n      <td>8.0</td>\n      <td>MANUAL</td>\n      <td>rear wheel drive</td>\n      <td>2.0</td>\n      <td>Exotic,Luxury,High-Performance</td>\n      <td>Compact</td>\n      <td>Convertible</td>\n      <td>19</td>\n      <td>12</td>\n      <td>3916</td>\n      <td>128000</td>\n    </tr>\n    <tr>\n      <th>11904</th>\n      <td>BMW</td>\n      <td>Z8</td>\n      <td>2002</td>\n      <td>premium unleaded (required)</td>\n      <td>394.0</td>\n      <td>8.0</td>\n      <td>MANUAL</td>\n      <td>rear wheel drive</td>\n      <td>2.0</td>\n      <td>Exotic,Luxury,High-Performance</td>\n      <td>Compact</td>\n      <td>Convertible</td>\n      <td>19</td>\n      <td>12</td>\n      <td>3916</td>\n      <td>130000</td>\n    </tr>\n    <tr>\n      <th>11905</th>\n      <td>BMW</td>\n      <td>Z8</td>\n      <td>2003</td>\n      <td>premium unleaded (required)</td>\n      <td>394.0</td>\n      <td>8.0</td>\n      <td>MANUAL</td>\n      <td>rear wheel drive</td>\n      <td>2.0</td>\n      <td>Exotic,Luxury,High-Performance</td>\n      <td>Compact</td>\n      <td>Convertible</td>\n      <td>19</td>\n      <td>12</td>\n      <td>3916</td>\n      <td>131500</td>\n    </tr>\n  </tbody>\n</table>\n<p>334 rows × 16 columns</p>\n</div>"
     },
     "metadata": {}
    }
   ]
  },
  {
   "cell_type": "code",
   "metadata": {
    "cell_id": "67b1988463644f46851aba8798cc90f7",
    "tags": [],
    "deepnote_to_be_reexecuted": false,
    "source_hash": "9025931e",
    "execution_start": 1656411614935,
    "execution_millis": 6,
    "deepnote_cell_type": "code",
    "deepnote_cell_height": 118.1875,
    "deepnote_output_heights": [
     21.1875
    ]
   },
   "source": "m_bmw.MSRP.mean()  #average price of BMW",
   "execution_count": 9,
   "outputs": [
    {
     "output_type": "execute_result",
     "execution_count": 9,
     "data": {
      "text/plain": "61546.76347305389"
     },
     "metadata": {}
    }
   ]
  },
  {
   "cell_type": "code",
   "metadata": {
    "cell_id": "b63afd90992446a392785ff3d15d00c7",
    "tags": [],
    "deepnote_to_be_reexecuted": false,
    "source_hash": "f138d287",
    "execution_start": 1656411618183,
    "execution_millis": 657,
    "deepnote_cell_type": "code",
    "deepnote_cell_height": 518
   },
   "source": "m_bmw.describe()",
   "execution_count": 10,
   "outputs": [
    {
     "output_type": "execute_result",
     "execution_count": 10,
     "data": {
      "application/vnd.deepnote.dataframe.v3+json": {
       "column_count": 8,
       "row_count": 8,
       "columns": [
        {
         "name": "Year",
         "dtype": "float64",
         "stats": {
          "unique_count": 7,
          "nan_count": 0,
          "min": "4.387982693296267",
          "max": "2017.0",
          "histogram": [
           {
            "bin_start": 4.387982693296267,
            "bin_end": 205.64918442396666,
            "count": 1
           },
           {
            "bin_start": 205.64918442396666,
            "bin_end": 406.9103861546371,
            "count": 1
           },
           {
            "bin_start": 406.9103861546371,
            "bin_end": 608.1715878853075,
            "count": 0
           },
           {
            "bin_start": 608.1715878853075,
            "bin_end": 809.4327896159779,
            "count": 0
           },
           {
            "bin_start": 809.4327896159779,
            "bin_end": 1010.6939913466482,
            "count": 0
           },
           {
            "bin_start": 1010.6939913466482,
            "bin_end": 1211.9551930773187,
            "count": 0
           },
           {
            "bin_start": 1211.9551930773187,
            "bin_end": 1413.216394807989,
            "count": 0
           },
           {
            "bin_start": 1413.216394807989,
            "bin_end": 1614.4775965386593,
            "count": 0
           },
           {
            "bin_start": 1614.4775965386593,
            "bin_end": 1815.7387982693297,
            "count": 0
           },
           {
            "bin_start": 1815.7387982693297,
            "bin_end": 2017,
            "count": 6
           }
          ]
         }
        },
        {
         "name": "Engine HP",
         "dtype": "float64",
         "stats": {
          "unique_count": 8,
          "nan_count": 0,
          "min": "105.6816586794734",
          "max": "600.0",
          "histogram": [
           {
            "bin_start": 105.6816586794734,
            "bin_end": 155.11349281152604,
            "count": 1
           },
           {
            "bin_start": 155.11349281152604,
            "bin_end": 204.54532694357871,
            "count": 1
           },
           {
            "bin_start": 204.54532694357871,
            "bin_end": 253.9771610756314,
            "count": 1
           },
           {
            "bin_start": 253.9771610756314,
            "bin_end": 303.40899520768403,
            "count": 1
           },
           {
            "bin_start": 303.40899520768403,
            "bin_end": 352.8408293397367,
            "count": 2
           },
           {
            "bin_start": 352.8408293397367,
            "bin_end": 402.2726634717894,
            "count": 1
           },
           {
            "bin_start": 402.2726634717894,
            "bin_end": 451.704497603842,
            "count": 0
           },
           {
            "bin_start": 451.704497603842,
            "bin_end": 501.13633173589466,
            "count": 0
           },
           {
            "bin_start": 501.13633173589466,
            "bin_end": 550.5681658679473,
            "count": 0
           },
           {
            "bin_start": 550.5681658679473,
            "bin_end": 600,
            "count": 1
           }
          ]
         }
        },
        {
         "name": "Engine Cylinders",
         "dtype": "float64",
         "stats": {
          "unique_count": 8,
          "nan_count": 0,
          "min": "0.0",
          "max": "334.0",
          "histogram": [
           {
            "bin_start": 0,
            "bin_end": 33.4,
            "count": 7
           },
           {
            "bin_start": 33.4,
            "bin_end": 66.8,
            "count": 0
           },
           {
            "bin_start": 66.8,
            "bin_end": 100.19999999999999,
            "count": 0
           },
           {
            "bin_start": 100.19999999999999,
            "bin_end": 133.6,
            "count": 0
           },
           {
            "bin_start": 133.6,
            "bin_end": 167,
            "count": 0
           },
           {
            "bin_start": 167,
            "bin_end": 200.39999999999998,
            "count": 0
           },
           {
            "bin_start": 200.39999999999998,
            "bin_end": 233.79999999999998,
            "count": 0
           },
           {
            "bin_start": 233.79999999999998,
            "bin_end": 267.2,
            "count": 0
           },
           {
            "bin_start": 267.2,
            "bin_end": 300.59999999999997,
            "count": 0
           },
           {
            "bin_start": 300.59999999999997,
            "bin_end": 334,
            "count": 1
           }
          ]
         }
        },
        {
         "name": "Number of Doors",
         "dtype": "float64",
         "stats": {
          "unique_count": 5,
          "nan_count": 0,
          "min": "0.9883244246713399",
          "max": "334.0",
          "histogram": [
           {
            "bin_start": 0.9883244246713399,
            "bin_end": 34.289491982204204,
            "count": 7
           },
           {
            "bin_start": 34.289491982204204,
            "bin_end": 67.59065953973706,
            "count": 0
           },
           {
            "bin_start": 67.59065953973706,
            "bin_end": 100.89182709726992,
            "count": 0
           },
           {
            "bin_start": 100.89182709726992,
            "bin_end": 134.1929946548028,
            "count": 0
           },
           {
            "bin_start": 134.1929946548028,
            "bin_end": 167.49416221233565,
            "count": 0
           },
           {
            "bin_start": 167.49416221233565,
            "bin_end": 200.79532976986852,
            "count": 0
           },
           {
            "bin_start": 200.79532976986852,
            "bin_end": 234.09649732740138,
            "count": 0
           },
           {
            "bin_start": 234.09649732740138,
            "bin_end": 267.3976648849343,
            "count": 0
           },
           {
            "bin_start": 267.3976648849343,
            "bin_end": 300.6988324424671,
            "count": 0
           },
           {
            "bin_start": 300.6988324424671,
            "bin_end": 334,
            "count": 1
           }
          ]
         }
        },
        {
         "name": "highway MPG",
         "dtype": "float64",
         "stats": {
          "unique_count": 8,
          "nan_count": 0,
          "min": "10.25703717464362",
          "max": "334.0",
          "histogram": [
           {
            "bin_start": 10.25703717464362,
            "bin_end": 42.63133345717926,
            "count": 6
           },
           {
            "bin_start": 42.63133345717926,
            "bin_end": 75.00562973971489,
            "count": 0
           },
           {
            "bin_start": 75.00562973971489,
            "bin_end": 107.37992602225054,
            "count": 0
           },
           {
            "bin_start": 107.37992602225054,
            "bin_end": 139.75422230478617,
            "count": 1
           },
           {
            "bin_start": 139.75422230478617,
            "bin_end": 172.1285185873218,
            "count": 0
           },
           {
            "bin_start": 172.1285185873218,
            "bin_end": 204.50281486985745,
            "count": 0
           },
           {
            "bin_start": 204.50281486985745,
            "bin_end": 236.8771111523931,
            "count": 0
           },
           {
            "bin_start": 236.8771111523931,
            "bin_end": 269.25140743492875,
            "count": 0
           },
           {
            "bin_start": 269.25140743492875,
            "bin_end": 301.6257037174644,
            "count": 0
           },
           {
            "bin_start": 301.6257037174644,
            "bin_end": 334,
            "count": 1
           }
          ]
         }
        },
        {
         "name": "city mpg",
         "dtype": "float64",
         "stats": {
          "unique_count": 8,
          "nan_count": 0,
          "min": "10.0",
          "max": "334.0",
          "histogram": [
           {
            "bin_start": 10,
            "bin_end": 42.4,
            "count": 6
           },
           {
            "bin_start": 42.4,
            "bin_end": 74.8,
            "count": 0
           },
           {
            "bin_start": 74.8,
            "bin_end": 107.19999999999999,
            "count": 0
           },
           {
            "bin_start": 107.19999999999999,
            "bin_end": 139.6,
            "count": 1
           },
           {
            "bin_start": 139.6,
            "bin_end": 172,
            "count": 0
           },
           {
            "bin_start": 172,
            "bin_end": 204.39999999999998,
            "count": 0
           },
           {
            "bin_start": 204.39999999999998,
            "bin_end": 236.79999999999998,
            "count": 0
           },
           {
            "bin_start": 236.79999999999998,
            "bin_end": 269.2,
            "count": 0
           },
           {
            "bin_start": 269.2,
            "bin_end": 301.59999999999997,
            "count": 0
           },
           {
            "bin_start": 301.59999999999997,
            "bin_end": 334,
            "count": 1
           }
          ]
         }
        },
        {
         "name": "Popularity",
         "dtype": "float64",
         "stats": {
          "unique_count": 3,
          "nan_count": 0,
          "min": "0.0",
          "max": "3916.0",
          "histogram": [
           {
            "bin_start": 0,
            "bin_end": 391.6,
            "count": 2
           },
           {
            "bin_start": 391.6,
            "bin_end": 783.2,
            "count": 0
           },
           {
            "bin_start": 783.2,
            "bin_end": 1174.8000000000002,
            "count": 0
           },
           {
            "bin_start": 1174.8000000000002,
            "bin_end": 1566.4,
            "count": 0
           },
           {
            "bin_start": 1566.4,
            "bin_end": 1958,
            "count": 0
           },
           {
            "bin_start": 1958,
            "bin_end": 2349.6000000000004,
            "count": 0
           },
           {
            "bin_start": 2349.6000000000004,
            "bin_end": 2741.2000000000003,
            "count": 0
           },
           {
            "bin_start": 2741.2000000000003,
            "bin_end": 3132.8,
            "count": 0
           },
           {
            "bin_start": 3132.8,
            "bin_end": 3524.4,
            "count": 0
           },
           {
            "bin_start": 3524.4,
            "bin_end": 3916,
            "count": 6
           }
          ]
         }
        },
        {
         "name": "MSRP",
         "dtype": "float64",
         "stats": {
          "unique_count": 8,
          "nan_count": 0,
          "min": "334.0",
          "max": "141200.0",
          "histogram": [
           {
            "bin_start": 334,
            "bin_end": 14420.6,
            "count": 2
           },
           {
            "bin_start": 14420.6,
            "bin_end": 28507.2,
            "count": 1
           },
           {
            "bin_start": 28507.2,
            "bin_end": 42593.8,
            "count": 1
           },
           {
            "bin_start": 42593.8,
            "bin_end": 56680.4,
            "count": 1
           },
           {
            "bin_start": 56680.4,
            "bin_end": 70767,
            "count": 1
           },
           {
            "bin_start": 70767,
            "bin_end": 84853.6,
            "count": 1
           },
           {
            "bin_start": 84853.6,
            "bin_end": 98940.2,
            "count": 0
           },
           {
            "bin_start": 98940.2,
            "bin_end": 113026.8,
            "count": 0
           },
           {
            "bin_start": 113026.8,
            "bin_end": 127113.40000000001,
            "count": 0
           },
           {
            "bin_start": 127113.40000000001,
            "bin_end": 141200,
            "count": 1
           }
          ]
         }
        },
        {
         "name": "_deepnote_index_column",
         "dtype": "object"
        }
       ],
       "rows": [
        {
         "Year": 334,
         "Engine HP": 334,
         "Engine Cylinders": 334,
         "Number of Doors": 334,
         "highway MPG": 334,
         "city mpg": 334,
         "Popularity": 334,
         "MSRP": 334,
         "_deepnote_index_column": "count"
        },
        {
         "Year": 2014.3473053892214,
         "Engine HP": 326.9071856287425,
         "Engine Cylinders": 5.958083832335329,
         "Number of Doors": 3.161676646706587,
         "highway MPG": 29.24550898203593,
         "city mpg": 20.739520958083833,
         "Popularity": 3916,
         "MSRP": 61546.76347305389,
         "_deepnote_index_column": "mean"
        },
        {
         "Year": 4.387982693296267,
         "Engine HP": 105.6816586794734,
         "Engine Cylinders": 1.7289386194159098,
         "Number of Doors": 0.9883244246713399,
         "highway MPG": 10.25703717464362,
         "city mpg": 13.136879102839552,
         "Popularity": 0,
         "MSRP": 27982.682153422007,
         "_deepnote_index_column": "std"
        },
        {
         "Year": 1995,
         "Engine HP": 170,
         "Engine Cylinders": 0,
         "Number of Doors": 2,
         "highway MPG": 18,
         "city mpg": 10,
         "Popularity": 3916,
         "MSRP": 4697,
         "_deepnote_index_column": "min"
        },
        {
         "Year": 2015,
         "Engine HP": 240,
         "Engine Cylinders": 4,
         "Number of Doors": 2,
         "highway MPG": 25,
         "city mpg": 17,
         "Popularity": 3916,
         "MSRP": 42300,
         "_deepnote_index_column": "25%"
        },
        {
         "Year": 2016,
         "Engine HP": 300,
         "Engine Cylinders": 6,
         "Number of Doors": 4,
         "highway MPG": 28,
         "city mpg": 20,
         "Popularity": 3916,
         "MSRP": 51850,
         "_deepnote_index_column": "50%"
        },
        {
         "Year": 2016,
         "Engine HP": 394,
         "Engine Cylinders": 7.5,
         "Number of Doors": 4,
         "highway MPG": 33,
         "city mpg": 22,
         "Popularity": 3916,
         "MSRP": 79725,
         "_deepnote_index_column": "75%"
        },
        {
         "Year": 2017,
         "Engine HP": 600,
         "Engine Cylinders": 12,
         "Number of Doors": 4,
         "highway MPG": 111,
         "city mpg": 137,
         "Popularity": 3916,
         "MSRP": 141200,
         "_deepnote_index_column": "max"
        }
       ]
      },
      "text/plain": "              Year   Engine HP  Engine Cylinders  Number of Doors  \\\ncount   334.000000  334.000000        334.000000       334.000000   \nmean   2014.347305  326.907186          5.958084         3.161677   \nstd       4.387983  105.681659          1.728939         0.988324   \nmin    1995.000000  170.000000          0.000000         2.000000   \n25%    2015.000000  240.000000          4.000000         2.000000   \n50%    2016.000000  300.000000          6.000000         4.000000   \n75%    2016.000000  394.000000          7.500000         4.000000   \nmax    2017.000000  600.000000         12.000000         4.000000   \n\n       highway MPG    city mpg  Popularity           MSRP  \ncount   334.000000  334.000000       334.0     334.000000  \nmean     29.245509   20.739521      3916.0   61546.763473  \nstd      10.257037   13.136879         0.0   27982.682153  \nmin      18.000000   10.000000      3916.0    4697.000000  \n25%      25.000000   17.000000      3916.0   42300.000000  \n50%      28.000000   20.000000      3916.0   51850.000000  \n75%      33.000000   22.000000      3916.0   79725.000000  \nmax     111.000000  137.000000      3916.0  141200.000000  ",
      "text/html": "<div>\n<style scoped>\n    .dataframe tbody tr th:only-of-type {\n        vertical-align: middle;\n    }\n\n    .dataframe tbody tr th {\n        vertical-align: top;\n    }\n\n    .dataframe thead th {\n        text-align: right;\n    }\n</style>\n<table border=\"1\" class=\"dataframe\">\n  <thead>\n    <tr style=\"text-align: right;\">\n      <th></th>\n      <th>Year</th>\n      <th>Engine HP</th>\n      <th>Engine Cylinders</th>\n      <th>Number of Doors</th>\n      <th>highway MPG</th>\n      <th>city mpg</th>\n      <th>Popularity</th>\n      <th>MSRP</th>\n    </tr>\n  </thead>\n  <tbody>\n    <tr>\n      <th>count</th>\n      <td>334.000000</td>\n      <td>334.000000</td>\n      <td>334.000000</td>\n      <td>334.000000</td>\n      <td>334.000000</td>\n      <td>334.000000</td>\n      <td>334.0</td>\n      <td>334.000000</td>\n    </tr>\n    <tr>\n      <th>mean</th>\n      <td>2014.347305</td>\n      <td>326.907186</td>\n      <td>5.958084</td>\n      <td>3.161677</td>\n      <td>29.245509</td>\n      <td>20.739521</td>\n      <td>3916.0</td>\n      <td>61546.763473</td>\n    </tr>\n    <tr>\n      <th>std</th>\n      <td>4.387983</td>\n      <td>105.681659</td>\n      <td>1.728939</td>\n      <td>0.988324</td>\n      <td>10.257037</td>\n      <td>13.136879</td>\n      <td>0.0</td>\n      <td>27982.682153</td>\n    </tr>\n    <tr>\n      <th>min</th>\n      <td>1995.000000</td>\n      <td>170.000000</td>\n      <td>0.000000</td>\n      <td>2.000000</td>\n      <td>18.000000</td>\n      <td>10.000000</td>\n      <td>3916.0</td>\n      <td>4697.000000</td>\n    </tr>\n    <tr>\n      <th>25%</th>\n      <td>2015.000000</td>\n      <td>240.000000</td>\n      <td>4.000000</td>\n      <td>2.000000</td>\n      <td>25.000000</td>\n      <td>17.000000</td>\n      <td>3916.0</td>\n      <td>42300.000000</td>\n    </tr>\n    <tr>\n      <th>50%</th>\n      <td>2016.000000</td>\n      <td>300.000000</td>\n      <td>6.000000</td>\n      <td>4.000000</td>\n      <td>28.000000</td>\n      <td>20.000000</td>\n      <td>3916.0</td>\n      <td>51850.000000</td>\n    </tr>\n    <tr>\n      <th>75%</th>\n      <td>2016.000000</td>\n      <td>394.000000</td>\n      <td>7.500000</td>\n      <td>4.000000</td>\n      <td>33.000000</td>\n      <td>22.000000</td>\n      <td>3916.0</td>\n      <td>79725.000000</td>\n    </tr>\n    <tr>\n      <th>max</th>\n      <td>2017.000000</td>\n      <td>600.000000</td>\n      <td>12.000000</td>\n      <td>4.000000</td>\n      <td>111.000000</td>\n      <td>137.000000</td>\n      <td>3916.0</td>\n      <td>141200.000000</td>\n    </tr>\n  </tbody>\n</table>\n</div>"
     },
     "metadata": {}
    }
   ]
  },
  {
   "cell_type": "code",
   "metadata": {
    "cell_id": "83687f2cb034418fa8f46f65da001c18",
    "tags": [],
    "deepnote_to_be_reexecuted": false,
    "source_hash": "ac244308",
    "execution_start": 1656411620818,
    "execution_millis": 15,
    "deepnote_cell_type": "code",
    "deepnote_cell_height": 190.1875,
    "deepnote_output_heights": [
     21.1875
    ]
   },
   "source": "#Select a subset of cars after year 2015. How many of them have missing values for Engine HP?\ndf_2015 = df[df['Year'] >= 2015]\n#df_2015['Engine HP'].isna().sum()\n#df_2015['Engine HP'].isnull().sum()\ndf[df.Year >=2015]['Engine HP'].isna().sum()",
   "execution_count": 11,
   "outputs": [
    {
     "output_type": "execute_result",
     "execution_count": 11,
     "data": {
      "text/plain": "51"
     },
     "metadata": {}
    }
   ]
  },
  {
   "cell_type": "code",
   "metadata": {
    "cell_id": "f00fc8263477487daa7e87a329163cdc",
    "tags": [],
    "deepnote_to_be_reexecuted": false,
    "source_hash": "ef2d2006",
    "execution_start": 1656411622878,
    "execution_millis": 6,
    "deepnote_cell_type": "code",
    "deepnote_cell_height": 148.1875,
    "deepnote_output_heights": [
     21.1875
    ]
   },
   "source": "df_engine_hp = df['Engine HP']\ndf_engine_hp_mean_bf = df_engine_hp.mean()\nprint(round(df_engine_hp_mean_bf))",
   "execution_count": 12,
   "outputs": [
    {
     "name": "stdout",
     "text": "249\n",
     "output_type": "stream"
    }
   ]
  },
  {
   "cell_type": "code",
   "metadata": {
    "cell_id": "bb974e98e36a40a9ac4dcf9a0bc189ae",
    "tags": [],
    "deepnote_to_be_reexecuted": false,
    "source_hash": "71d65ed4",
    "execution_start": 1656411625125,
    "execution_millis": 4,
    "deepnote_table_state": {
     "pageSize": 10,
     "pageIndex": 0,
     "filters": [],
     "sortBy": []
    },
    "deepnote_table_loading": false,
    "deepnote_cell_type": "code",
    "deepnote_cell_height": 148.1875,
    "deepnote_output_heights": [
     21.1875
    ]
   },
   "source": "df['Engine HP'].fillna(df_engine_hp_mean_bf)\ndf_engine_hp_af = df['Engine HP'].mean()\nprint(round(df_engine_hp_af))",
   "execution_count": 13,
   "outputs": [
    {
     "name": "stdout",
     "text": "249\n",
     "output_type": "stream"
    }
   ]
  },
  {
   "cell_type": "code",
   "metadata": {
    "cell_id": "c5f771ebca96434b9c42174651d98a2b",
    "tags": [],
    "deepnote_to_be_reexecuted": false,
    "source_hash": "1bc529c8",
    "execution_start": 1656411626808,
    "execution_millis": 489,
    "deepnote_cell_type": "code",
    "deepnote_cell_height": 136.1875,
    "deepnote_output_heights": [
     21.1875
    ]
   },
   "source": "df['Engine HP'].fillna(0).mean()\n",
   "execution_count": 14,
   "outputs": [
    {
     "output_type": "execute_result",
     "execution_count": 14,
     "data": {
      "text/plain": "247.94174920261878"
     },
     "metadata": {}
    }
   ]
  },
  {
   "cell_type": "code",
   "metadata": {
    "cell_id": "f50a5a7043744da2b7fd6f8c860b7818",
    "tags": [],
    "deepnote_to_be_reexecuted": false,
    "source_hash": "11a6f485",
    "execution_start": 1656411629382,
    "execution_millis": 3,
    "deepnote_cell_type": "code",
    "deepnote_cell_height": 135,
    "deepnote_output_heights": [
     611
    ]
   },
   "source": "#Select all the \"Rolls-Royce\" cars from the dataset.\ndf_rr = df[df['Make'] == 'Rolls-Royce']\ndf_rr = df_rr[[\"Engine HP\",\"Engine Cylinders\",\"highway MPG\"]]\ndf_rr = df_rr.drop_duplicates()",
   "execution_count": 15,
   "outputs": []
  },
  {
   "cell_type": "code",
   "metadata": {
    "cell_id": "01e1495268d6448793072d8dae13ac5e",
    "tags": [],
    "deepnote_to_be_reexecuted": false,
    "source_hash": "76ead342",
    "execution_start": 1656411631738,
    "execution_millis": 29,
    "deepnote_cell_type": "code",
    "deepnote_cell_height": 190.1875,
    "deepnote_output_heights": [
     21.1875
    ]
   },
   "source": "x = df_rr.values\nXTX = x.T.dot(x)\n\nXTX_inv = np.linalg.inv(XTX)\nXTX_inv.sum()",
   "execution_count": 16,
   "outputs": [
    {
     "output_type": "execute_result",
     "execution_count": 16,
     "data": {
      "text/plain": "0.032212320677486125"
     },
     "metadata": {}
    }
   ]
  },
  {
   "cell_type": "code",
   "metadata": {
    "cell_id": "2d14266ee23646d6b0549f9e7cba7655",
    "tags": [],
    "deepnote_to_be_reexecuted": false,
    "source_hash": "db94d433",
    "execution_start": 1656411634509,
    "execution_millis": 4,
    "deepnote_cell_type": "code",
    "deepnote_cell_height": 172.1875,
    "deepnote_output_heights": [
     21.1875
    ]
   },
   "source": "y = [1000, 1100, 900, 1200, 1000, 850, 1300]\nk = XTX_inv.dot(x.T) \nw = k.dot(y)\nw",
   "execution_count": 17,
   "outputs": [
    {
     "output_type": "execute_result",
     "execution_count": 17,
     "data": {
      "text/plain": "array([ 0.19989598, 31.02612262, 31.65378877])"
     },
     "metadata": {}
    }
   ]
  },
  {
   "cell_type": "markdown",
   "source": "### normal equation\n$$w = (X^T X)^{-1} X^T y$$",
   "metadata": {
    "cell_id": "4e348e25f0f74c93a9b331e8769394c2",
    "tags": [],
    "deepnote_cell_type": "markdown",
    "deepnote_cell_height": 100.390625
   }
  },
  {
   "cell_type": "code",
   "metadata": {
    "cell_id": "94975602a812459ab5e1ae8c7ed29c3e",
    "tags": [],
    "deepnote_to_be_reexecuted": false,
    "source_hash": "855df8fa",
    "execution_start": 1656411636701,
    "execution_millis": 4,
    "owner_user_id": "cc1755e5-5b5c-4e3c-9552-d3d24f885223",
    "deepnote_cell_type": "code",
    "deepnote_cell_height": 168.375
   },
   "source": "print(np.array([1, 2, 3, 4, 5, 6]).mean())\nprint(np.array([1, 2,3.5, 3, 4, 5, 6, 3.5, 3.5]).mean())\n#adding the mean doesn't change the resulting mean",
   "execution_count": 18,
   "outputs": [
    {
     "name": "stdout",
     "text": "3.5\n3.5\n",
     "output_type": "stream"
    }
   ]
  },
  {
   "cell_type": "markdown",
   "source": "<a style='text-decoration:none;line-height:16px;display:flex;color:#5B5B62;padding:10px;justify-content:end;' href='https://deepnote.com?utm_source=created-in-deepnote-cell&projectId=3e0ad6b8-8538-4216-aafe-e2a25909ed87' target=\"_blank\">\n<img alt='Created in deepnote.com' style='display:inline;max-height:16px;margin:0px;margin-right:7.5px;' src='data:image/svg+xml;base64,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' > </img>\nCreated in <span style='font-weight:600;margin-left:4px;'>Deepnote</span></a>",
   "metadata": {
    "tags": [],
    "created_in_deepnote_cell": true,
    "deepnote_cell_type": "markdown"
   }
  }
 ],
 "nbformat": 4,
 "nbformat_minor": 2,
 "metadata": {
  "orig_nbformat": 2,
  "deepnote": {},
  "deepnote_notebook_id": "f23e7aef-3aa5-4883-9b2a-617e893ad208",
  "deepnote_execution_queue": []
 }
}